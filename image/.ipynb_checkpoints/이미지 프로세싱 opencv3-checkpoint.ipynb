{
 "cells": [
  {
   "cell_type": "code",
   "execution_count": 7,
   "metadata": {
    "collapsed": true
   },
   "outputs": [],
   "source": [
    "import cv2\n",
    "import numpy as np\n",
    "from matplotlib import pyplot as plt\n",
    "from PIL import Image\n",
    "import pytesseract\n",
    "import copy\n",
    "import string\n",
    "\n",
    "%matplotlib inline\n",
    "%config InlineBackend.figure_format = 'svg'\n"
   ]
  },
  {
   "cell_type": "code",
   "execution_count": 209,
   "metadata": {
    "collapsed": true
   },
   "outputs": [],
   "source": [
    "url = '/Users/yunsu/desktop/python_ocr/Target_OCR.png'\n",
    "url2 = '/Users/yunsu/Downloads/soccer.png'\n",
    "url3 = '/Users/yunsu/desktop/python_ocr/Target_OCR_custom-tune-type1.png'\n",
    "url4 = '/Users/yunsu/desktop/test13.png'\n",
    "url5 = '/Users/yunsu/desktop/python_ocr/ocr_test3.png'\n",
    "url6 = '/Users/yunsu/desktop/python_ocr/ocr_test4.png'\n",
    "url7 = '/Users/yunsu/desktop/python_ocr/Target_format.png'\n",
    "url8 = '/Users/yunsu/desktop/python_ocr/Target_test.png'\n",
    "url9 = '/Users/yunsu/desktop/python_ocr/ocr_test7.png'\n",
    "url_1 = '/Users/yunsu/desktop/python_ocr/boseok.png'"
   ]
  },
  {
   "cell_type": "code",
   "execution_count": 1549,
   "metadata": {
    "collapsed": false
   },
   "outputs": [],
   "source": [
    "def pre_process(url):\n",
    "    img = Image.open(url)\n",
    "    joints, mask, line_wit, v_size2, h_final, v_final = find_joints(url)\n",
    "    one_line = make_points_list(joints=joints, line_wit=line_wit, v_size2=v_size2)\n",
    "    points = align_points(one_line=one_line, joints=joints)\n",
    "    box = make_box(points, joints, v_size2, line_wit)    \n",
    "    show_box(box=box, mask=mask)\n",
    "    c_points = give_conditions(points=points, mask=mask, v_size2=v_size2, line_wit=line_wit)\n",
    "    is_st, is_bot, is_end, is_right = classify_points(c_points, joints, v_size2, line_wit)\n",
    "    st, end = cut_points(joints=joints, is_st=is_st, is_bot=is_bot, is_end=is_end, is_right=is_right)\n",
    "    fix_st_0 = fix_st_vertical(h_final, st=st)\n",
    "    fix_st_1 = fix_st_horizontal(v_final, st=st)\n",
    "    st = fix_st(st, fix_st_0=fix_st_0, fix_st_1=fix_st_1)\n",
    "    img_list = make_crack(ful_img=img, st=st, end=end)\n",
    "    return img_list\n",
    "\n",
    "\n",
    "def find_joints(url):\n",
    "    #이미지를 읽는다.\n",
    "    src = cv2.imread(url)\n",
    "    # 이미지를 회색화한다.\n",
    "    gray = cv2.cvtColor(src, cv2.COLOR_BGR2GRAY)\n",
    "    # 이미지 전처리_ 잡티제거\n",
    "    bw = cv2.adaptiveThreshold(~gray, 255, cv2.ADAPTIVE_THRESH_MEAN_C, cv2.THRESH_BINARY, 15, -5)\n",
    "    horizontal = bw.copy()\n",
    "    vertical = bw.copy()\n",
    "    #v_size와 v_size2는 중요하다. v_size는 전체 이미지 높이의 1/20에 해당되는 길이의 수직선부터 테이블을 구성할 수 있다고 생각하는 것.\n",
    "    #v_size2는 수평선과 수직선의 교차점을 찾을 때 확실히 해주기 위해 도와주는 추가적인 코드다.\n",
    "    v_size = vertical.shape[0]//20\n",
    "    v_size2 = max(1, vertical.shape[0]//100)\n",
    "    v_struct = cv2.getStructuringElement(cv2.MORPH_RECT, (1, v_size))\n",
    "    v_struct2 = cv2.getStructuringElement(cv2.MORPH_RECT, (1, v_size2))\n",
    "    v_sub = cv2.erode(vertical, v_struct, iterations=1)\n",
    "    v_final_sub = cv2.dilate(v_sub, v_struct, iterations=1)\n",
    "    v_final = cv2.dilate(v_final_sub, v_struct2, iterations=1)\n",
    "    h_size = horizontal.shape[1]//20\n",
    "    h_struct = cv2.getStructuringElement(cv2.MORPH_RECT,(h_size,1))\n",
    "    h_struct2 = cv2.getStructuringElement(cv2.MORPH_RECT,(v_size2,1))\n",
    "    h_sub = cv2.erode(horizontal, h_struct, iterations = 1)\n",
    "    h_final_sub = cv2.dilate(h_sub, h_struct, iterations = 1)\n",
    "    h_final = cv2.dilate(h_final_sub, h_struct2, iterations = 1)\n",
    "    line_wit = check_line_wit(h_final)\n",
    "    joints = cv2.bitwise_and(v_final, h_final)\n",
    "    mask = h_final + v_final\n",
    "    return joints, mask, line_wit, v_size2, h_final, v_final\n",
    "\n",
    "def check_line_wit(h_final):\n",
    "    h_final[h_final >= 200] = 255\n",
    "    wit = 0\n",
    "    wit_list = []\n",
    "    for p in h_final[:, h_final.shape[1]//2]:\n",
    "        if p == 255:\n",
    "            wit += 1\n",
    "        else: \n",
    "            wit_list.append(wit)\n",
    "            wit = 0\n",
    "    line_wit = max(wit_list)\n",
    "    return line_wit\n",
    "\n",
    "\n",
    "\n",
    "def make_points_list(line_wit, v_size2, joints):\n",
    "    re_joints = joints.copy() \n",
    "    for i in range(joints.shape[0]):\n",
    "        for j in range(joints.shape[1]):\n",
    "            if re_joints[i][j] !=0:\n",
    "                re_joints[max(0, i - line_wit * 2): min(i + line_wit * 2, joints.shape[0] - 1), \n",
    "                       max(0,j - line_wit * 2): min(j + line_wit * 2, joints.shape[1] - 1)] = 0\n",
    "                re_joints[i][j] = 255\n",
    "    one_line = []\n",
    "\n",
    "    for i in range(joints.shape[0]):\n",
    "        for j in range(joints.shape[1]):\n",
    "            if re_joints[i][j] == 255:\n",
    "                one_line.append((i,j))\n",
    "    return one_line\n",
    "\n",
    "def align_points(one_line, joints):\n",
    "    points = {}\n",
    "    tmp = []\n",
    "    k = 0\n",
    "    fst = one_line[0]\n",
    "    for pos in one_line:\n",
    "        plow = fst[0]\n",
    "        # allow는 경험적 데이터로, 테이블이 비틀어졌을 때를 대비해 allow만큼 비틀린 테이블까지는 인식하겠다는 말이다. \n",
    "        allow = int(joints.shape[0] * 0.03)\n",
    "        rng = range(max(0, plow - allow), min(joints.shape[0] - 1, plow + allow))\n",
    "        if pos[0] in rng:\n",
    "            tmp.append(pos)\n",
    "        else:\n",
    "            tmp = sorted(tmp, key=lambda x : x[1])\n",
    "            k += 1\n",
    "            points['line' + str(k)] = tmp\n",
    "            tmp = []\n",
    "            fst = pos\n",
    "            tmp.append(pos)\n",
    "    k += 1\n",
    "    points['line' + str(k)] = tmp\n",
    "    return points\n",
    "    \n",
    "def make_box(points, joints, v_size2, line_wit):\n",
    "    # 점 주위에 박스처리 해주는 기능\n",
    "    depth = max(3, v_size2 + line_wit)\n",
    "    box = np.zeros_like(joints)\n",
    "    for i in range(1, len(points) + 1):\n",
    "        line = points['line' + str(i)]\n",
    "        for idx, p in enumerate(line):\n",
    "            box[max(0, p[0] - depth) , max(0, p[1] - depth) : min(joints.shape[1] - 1, p[1] + depth)] = 255\n",
    "            box[max(0, p[0] - depth) : min(joints.shape[0] - 1, p[0] + depth), max(0, p[1] - depth)] = 255\n",
    "            box[min(joints.shape[0] - 1, p[0] + depth), \n",
    "                             max(0, p[1] - depth) : min(joints.shape[1] -1 ,p[1] + depth)] = 255\n",
    "            box[min(joints.shape[0] - 1, p[0] - depth) : min(joints.shape[0] - 1, p[0] + depth), \n",
    "                             min(joints.shape[1] -1 ,p[1] + depth)] = 255\n",
    "    return box\n",
    "\n",
    "def show_box(box, mask):\n",
    "    boxed = box + mask\n",
    "    cv2.imshow('boxed', boxed)\n",
    "    cv2.waitKey(0)\n",
    "    cv2.destroyAllWindows()\n",
    "    cv2.waitKey(1)\n",
    "    return None\n",
    "\n",
    "def give_conditions(points, mask, v_size2, line_wit):\n",
    "    # 좌표에 컨디션을 부과해주는 함수\n",
    "    mask[mask > 240] = 255\n",
    "    depth = max(3, v_size2 + line_wit)\n",
    "    c_points = copy.deepcopy(points)\n",
    "    for i in range(1, len(c_points) + 1):\n",
    "        line = c_points['line' + str(i)]\n",
    "        for idx, p in enumerate(line):\n",
    "            tmp = ''\n",
    "            c1 = 255 in mask[max(0, p[0] - depth) , max(0, p[1] - depth) : min(mask.shape[1] - 1, p[1] + depth)]\n",
    "            c2 = 255 in mask[max(0, p[0] - depth) : min(mask.shape[0] - 1, p[0] + depth), max(0, p[1] - depth)]\n",
    "            c3 = 255 in mask[min(mask.shape[0] - 1, p[0] + depth), \n",
    "                             max(0, p[1] - depth) : min(mask.shape[1] -1 ,p[1] + depth)] \n",
    "            c4 = 255 in mask[min(mask.shape[0] - 1, p[0] - depth) : min(mask.shape[0] - 1, p[0] + depth), \n",
    "                             min(mask.shape[1] -1 ,p[1] + depth)]\n",
    "            if c1:\n",
    "                tmp += 'c1'\n",
    "            if c2:\n",
    "                tmp += 'c2'\n",
    "            if c3:\n",
    "                tmp += 'c3'\n",
    "            if c4:\n",
    "                tmp += 'c4'\n",
    "            line[idx] = (p, tmp)\n",
    "    return c_points\n",
    "\n",
    "def classify_points(c_points, joints, v_size2, line_wit):\n",
    "# 좌표를 각각 시작점, 보조점, 끝점으로 분류해주는 기능.\n",
    "# 좌표를 각각 시작점, 보조점, 끝점으로 분류해주는 기능.\n",
    "    for depth_bound in range(2, 5):\n",
    "        allow = int(joints.shape[1] * 0.02)\n",
    "        is_st = []\n",
    "        is_end = []\n",
    "        is_right = []\n",
    "        is_bot = []\n",
    "        for i in range(1, len(c_points) + 1):\n",
    "            line = c_points['line' + str(i)]\n",
    "            for idx, p in enumerate(line):\n",
    "                if 'c3c4' in p[1]: \n",
    "                    is_st.append(p[0])\n",
    "                if 'c1c2' in p[1]:\n",
    "                    is_end.append(p[0])\n",
    "                if 'c2c3' in p[1]:\n",
    "                    is_right.append(p[0])\n",
    "                if 'c1' in p[1] and 'c4' in p[1]:\n",
    "                    is_bot.append(p[0])\n",
    "        if len(is_st) == len(is_right) == len(is_bot) == len(is_end):\n",
    "            break\n",
    "        else:\n",
    "            print(\"시작점과 다른 점들의 수가 맞지 않습니다.\")\n",
    "            print(\"depth를 더 늘려 수정진행합니다.\")\n",
    "            # 점 주위에 박스처리 해주는 기능\n",
    "            up_line_wit = line_wit * depth_bound\n",
    "            box = make_box(points, joints, v_size2, up_line_wit)\n",
    "            show_box(box, mask)\n",
    "            \n",
    "            # 좌표에 컨디션을 부과해주는 함수\n",
    "            c_points = give_conditions(points, mask, v_size2, up_line_wit)\n",
    "    return is_st, is_bot, is_end, is_right\n",
    "\n",
    "    # 자를 좌표를 정해주는 기능\n",
    "def cut_points(joints, is_st, is_bot, is_end, is_right):\n",
    "    st = []\n",
    "    end = []\n",
    "    allow = int(joints.shape[1] * 0.02)\n",
    "    # 스타트 다음에 나오는 right 는 무조건 직전 스타트와 사각형을 이룬다.\n",
    "    for idx, p in enumerate(is_st):\n",
    "        st.append(p)\n",
    "        rgt = is_right[idx]\n",
    "        for thing in is_bot:\n",
    "            if thing[1] in range(p[1] - allow, p[1] + allow ):\n",
    "                bot = thing\n",
    "                is_bot.remove(thing)\n",
    "                break\n",
    "        for thing in is_end:\n",
    "            if thing[0] in range(bot[0] - allow, bot[0] + allow ) and thing[1] in range(rgt[1] - allow, rgt[1] + allow):\n",
    "                end.append(thing)\n",
    "                is_end.remove(thing)\n",
    "                break\n",
    "    return st, end\n",
    "\n",
    "def fix_st_horizontal(v_final, st):\n",
    "    allow = 3\n",
    "    certain = 50\n",
    "    assume_wit = 15  \n",
    "    v_final[v_final > 240] = 255\n",
    "    fix_st_1 = []\n",
    "    for start in st:\n",
    "        for move in range(assume_wit):\n",
    "            if 255 in v_final[max(0, start[0] + certain - allow): min(v_final.shape[0] - 1, start[0] + certain + allow), \n",
    "                       start[1] + assume_wit - move]:\n",
    "                fix_st_1.append(assume_wit - move + 1)\n",
    "                break\n",
    "            if move == assume_wit - 1:\n",
    "                fix_st_1.append(0)\n",
    "    return fix_st_1\n",
    "\n",
    "# 각 테이블 윤곽선 두께가 다를 수 있기때문에 두께를 고려해서 시작점의 vertical 좌표에 더하거나 뺄 값을 계산한다.\n",
    "# 인자는 v_final이 아니라 h_final이 들어간다는 점에 유의해야한다.\n",
    "def fix_st_vertical(h_final, st):\n",
    "    allow = 3\n",
    "    certain = 20\n",
    "    assume_wit = 15  \n",
    "    h_final[h_final > 240] = 255\n",
    "    fix_st_0 = []\n",
    "    for start in st:\n",
    "        for move in range(1, assume_wit):\n",
    "            # 시작점이 좌상단에 있기 때문에 실제 테이블의 굵기가 아닌 옆 테이블의 굵기를 측정할 수 있다. width에만 해당된다. 따라서 certain 값을 더해 \n",
    "            # 자신 테이블의 윗 수평선 굵기를 잰다.\n",
    "            # start[0] 좌표에서 assume_wit만큼 내려오면 흰 여백에 위치한다. 이 곳에서 위쪽으로 조금씩(move)하면서 테이블 검은 선과 만날 때 \n",
    "            # start[0] 에서부터의 검은선까지의 거리를 계산한다. 이렇게하지 않으면 테이블 선 내부에 흰 공간이 있는 경우 오류를 내게 되서 이런 코드를\n",
    "            # 짜게 되었다. \n",
    "            # certain은 오른쪽으로 이동하는 값인데, 오른쪽으로 이동하지 않으면 옆에 테이블 윤곽선의 두께에 영향을 받기 때문에, 영향을 최소화하기 위해\n",
    "            # 확실히 옆테이블과 떨어진 위치에서 떨어져(certain) 계산한다.\n",
    "            # allow는 예측하지못한 상황에서 대비하기 위해 작성했는데, 상황에 따라 없어야 하는 코드가 될 수 있다.!\n",
    "            if 255 in h_final[start[0] + assume_wit - move , \n",
    "                              max(0, start[1] + certain  - allow) : min(h_final.shape[1] - 1, start[1] + certain + allow )]:\n",
    "                fix_st_0.append(assume_wit - move + 1)\n",
    "                break\n",
    "            if move == assume_wit - 1:\n",
    "                fix_st_0.append(0)\n",
    "    return fix_st_0\n",
    "\n",
    "def fix_st(st, fix_st_1, fix_st_0):\n",
    "    for idx, add in enumerate(zip(fix_st_0, fix_st_1)):\n",
    "        tmp = st[idx][0] + add[0], st[idx][1] + add[1]\n",
    "        st[idx] = tmp\n",
    "    return st\n",
    "\n",
    "def make_crack(ful_img, st, end):\n",
    "    img_list = []\n",
    "\n",
    "    for i in range(len(st)):\n",
    "        # +1을 해주는 이유, img는 시작값이 0이아닌 1이기 때문에 배열의 모양과 맞추려면 +1이 맞음.\n",
    "        tmp = ful_img.crop((st[i][1] + 1, st[i][0] + 1, end[i][1] - 1, end[i][0] - 1))\n",
    "        # 글자가 작은 경우 잘못 읽는 경우가 생겨, 시간 비용이 들더라도 정확도를 올려주기 위해 이미지 사이즈를 2배로 늘린다.\n",
    "        size = (tmp.size[0]*2, tmp.size[1] * 2)\n",
    "        tmp = tmp.resize(size)\n",
    "        img_list.append(tmp)\n",
    "    return img_list\n"
   ]
  },
  {
   "cell_type": "code",
   "execution_count": 1463,
   "metadata": {
    "collapsed": false
   },
   "outputs": [],
   "source": [
    "src = cv2.imread(url_1)"
   ]
  },
  {
   "cell_type": "code",
   "execution_count": 1464,
   "metadata": {
    "collapsed": false
   },
   "outputs": [
    {
     "data": {
      "text/plain": [
       "(1072, 1692, 3)"
      ]
     },
     "execution_count": 1464,
     "metadata": {},
     "output_type": "execute_result"
    }
   ],
   "source": [
    "src.shape"
   ]
  },
  {
   "cell_type": "code",
   "execution_count": 1465,
   "metadata": {
    "collapsed": false
   },
   "outputs": [],
   "source": [
    "# src = cv2.resize(src, (800, 800))"
   ]
  },
  {
   "cell_type": "code",
   "execution_count": 1466,
   "metadata": {
    "collapsed": false
   },
   "outputs": [
    {
     "data": {
      "text/plain": [
       "-1"
      ]
     },
     "execution_count": 1466,
     "metadata": {},
     "output_type": "execute_result"
    }
   ],
   "source": [
    "cv2.imshow('src', src)\n",
    "cv2.waitKey(0)\n",
    "\n",
    "cv2.destroyAllWindows()\n",
    "cv2.waitKey(1)\n"
   ]
  },
  {
   "cell_type": "code",
   "execution_count": 1467,
   "metadata": {
    "collapsed": true
   },
   "outputs": [],
   "source": [
    "gray = cv2.cvtColor(src, cv2.COLOR_BGR2GRAY)"
   ]
  },
  {
   "cell_type": "code",
   "execution_count": 1468,
   "metadata": {
    "collapsed": false
   },
   "outputs": [
    {
     "data": {
      "text/plain": [
       "-1"
      ]
     },
     "execution_count": 1468,
     "metadata": {},
     "output_type": "execute_result"
    }
   ],
   "source": [
    "cv2.imshow('gray', gray)\n",
    "cv2.waitKey(0)\n",
    "\n",
    "cv2.destroyAllWindows()\n",
    "cv2.waitKey(1)\n"
   ]
  },
  {
   "cell_type": "code",
   "execution_count": 1469,
   "metadata": {
    "collapsed": false
   },
   "outputs": [],
   "source": [
    "ret,thresh = cv2.threshold(gray,100 ,255,cv2.THRESH_BINARY_INV)\n"
   ]
  },
  {
   "cell_type": "code",
   "execution_count": 1470,
   "metadata": {
    "collapsed": false
   },
   "outputs": [
    {
     "data": {
      "text/plain": [
       "-1"
      ]
     },
     "execution_count": 1470,
     "metadata": {},
     "output_type": "execute_result"
    }
   ],
   "source": [
    "cv2.imshow('thresh', thresh)\n",
    "cv2.waitKey(0)\n",
    "\n",
    "cv2.destroyAllWindows()\n",
    "cv2.waitKey(1)\n"
   ]
  },
  {
   "cell_type": "code",
   "execution_count": 1471,
   "metadata": {
    "collapsed": false
   },
   "outputs": [],
   "source": [
    "bw = cv2.adaptiveThreshold(~gray, 255, cv2.ADAPTIVE_THRESH_MEAN_C, cv2.THRESH_BINARY, 15, -5)"
   ]
  },
  {
   "cell_type": "code",
   "execution_count": 1472,
   "metadata": {
    "collapsed": false
   },
   "outputs": [
    {
     "data": {
      "text/plain": [
       "-1"
      ]
     },
     "execution_count": 1472,
     "metadata": {},
     "output_type": "execute_result"
    }
   ],
   "source": [
    "cv2.imshow('bw', bw)\n",
    "cv2.waitKey(0)\n",
    "cv2.destroyAllWindows() \n",
    "cv2.waitKey(1)"
   ]
  },
  {
   "cell_type": "code",
   "execution_count": 1473,
   "metadata": {
    "collapsed": false
   },
   "outputs": [],
   "source": [
    "horizontal = bw.copy()\n",
    "vertical = bw.copy()"
   ]
  },
  {
   "cell_type": "code",
   "execution_count": 1474,
   "metadata": {
    "collapsed": true
   },
   "outputs": [],
   "source": [
    "v_size = vertical.shape[0]//20\n",
    "v_size2 = max(1, vertical.shape[0]//100)\n",
    "v_struct = cv2.getStructuringElement(cv2.MORPH_RECT, (1, v_size))\n",
    "v_struct2 = cv2.getStructuringElement(cv2.MORPH_RECT, (1, v_size2))\n",
    "v_sub = cv2.erode(vertical, v_struct, iterations=1)\n",
    "v_final_sub = cv2.dilate(v_sub, v_struct, iterations=1)\n",
    "v_final = cv2.dilate(v_final_sub, v_struct2, iterations=1)"
   ]
  },
  {
   "cell_type": "code",
   "execution_count": 1475,
   "metadata": {
    "collapsed": false
   },
   "outputs": [
    {
     "data": {
      "text/plain": [
       "-1"
      ]
     },
     "execution_count": 1475,
     "metadata": {},
     "output_type": "execute_result"
    }
   ],
   "source": [
    "cv2.imshow('vertical', v_final)\n",
    "cv2.waitKey(0)\n",
    "cv2.destroyAllWindows() \n",
    "cv2.waitKey(1)"
   ]
  },
  {
   "cell_type": "code",
   "execution_count": 1476,
   "metadata": {
    "collapsed": false
   },
   "outputs": [],
   "source": [
    "h_size = horizontal.shape[1]//20\n",
    "# h_size2 = max(1, horizontal.shape[1]//100)\n",
    "h_struct = cv2.getStructuringElement(cv2.MORPH_RECT,(h_size,1))\n",
    "h_struct2 = cv2.getStructuringElement(cv2.MORPH_RECT,(v_size2,1))\n",
    "h_sub = cv2.erode(horizontal, h_struct, iterations = 1)\n",
    "h_final_sub = cv2.dilate(h_sub, h_struct, iterations = 1)\n",
    "h_final = cv2.dilate(h_final_sub, h_struct2, iterations = 1)\n"
   ]
  },
  {
   "cell_type": "code",
   "execution_count": 1477,
   "metadata": {
    "collapsed": false
   },
   "outputs": [
    {
     "data": {
      "text/plain": [
       "6"
      ]
     },
     "execution_count": 1477,
     "metadata": {},
     "output_type": "execute_result"
    }
   ],
   "source": [
    "h_final[h_final >= 200] = 255\n",
    "wit = 0\n",
    "wit_list = []\n",
    "random = rand\n",
    "for p in h_final[:, h_final.shape[1]//2]:\n",
    "    if p == 255:\n",
    "        wit += 1\n",
    "    else: \n",
    "        wit_list.append(wit)\n",
    "        wit = 0\n",
    "line_wit = max(wit_list)\n",
    "line_wit\n",
    "\n"
   ]
  },
  {
   "cell_type": "code",
   "execution_count": null,
   "metadata": {
    "collapsed": false
   },
   "outputs": [],
   "source": []
  },
  {
   "cell_type": "code",
   "execution_count": 1478,
   "metadata": {
    "collapsed": false
   },
   "outputs": [
    {
     "data": {
      "text/plain": [
       "-1"
      ]
     },
     "execution_count": 1478,
     "metadata": {},
     "output_type": "execute_result"
    }
   ],
   "source": [
    "cv2.imshow('horizontal', h_final)\n",
    "cv2.waitKey(0)\n",
    "cv2.destroyAllWindows() \n",
    "cv2.waitKey(1)"
   ]
  },
  {
   "cell_type": "code",
   "execution_count": 1479,
   "metadata": {
    "collapsed": true
   },
   "outputs": [],
   "source": [
    "mask = h_final + v_final"
   ]
  },
  {
   "cell_type": "code",
   "execution_count": 1480,
   "metadata": {
    "collapsed": false
   },
   "outputs": [
    {
     "data": {
      "text/plain": [
       "-1"
      ]
     },
     "execution_count": 1480,
     "metadata": {},
     "output_type": "execute_result"
    }
   ],
   "source": [
    "cv2.imshow('mask', mask)\n",
    "cv2.waitKey(0)\n",
    "cv2.destroyAllWindows() \n",
    "cv2.waitKey(1)"
   ]
  },
  {
   "cell_type": "code",
   "execution_count": 1481,
   "metadata": {
    "collapsed": true
   },
   "outputs": [],
   "source": [
    "joints = cv2.bitwise_and(v_final, h_final)"
   ]
  },
  {
   "cell_type": "code",
   "execution_count": 1482,
   "metadata": {
    "collapsed": false
   },
   "outputs": [
    {
     "data": {
      "text/plain": [
       "-1"
      ]
     },
     "execution_count": 1482,
     "metadata": {},
     "output_type": "execute_result"
    }
   ],
   "source": [
    "cv2.imshow('joint', joints)\n",
    "cv2.waitKey(0)\n",
    "cv2.destroyAllWindows() \n",
    "cv2.waitKey(1)"
   ]
  },
  {
   "cell_type": "code",
   "execution_count": 1483,
   "metadata": {
    "collapsed": false
   },
   "outputs": [],
   "source": [
    "re_joints = joints.copy() \n",
    "\n",
    "for i in range(joints.shape[0]):\n",
    "    for j in range(joints.shape[1]):\n",
    "        if re_joints[i][j] !=0:\n",
    "            re_joints[max(0, i - line_wit * 2): min(i + line_wit * 2, joints.shape[0] - 1), \n",
    "                   max(0,j - line_wit * 2): min(j + line_wit * 2, joints.shape[1] - 1)] = 0\n",
    "            re_joints[i][j] = 255\n",
    "points = {}\n",
    "one_line = []\n",
    "tmp = []\n",
    "k = 0\n",
    "            \n",
    "for i in range(joints.shape[0]):\n",
    "    for j in range(joints.shape[1]):\n",
    "        if re_joints[i][j] == 255:\n",
    "            one_line.append((i,j))\n",
    "            \n",
    "            \n",
    "fst = one_line[0]\n",
    "for pos in one_line:\n",
    "    plow = fst[0]\n",
    "    allow = int(joints.shape[0] * 0.03)\n",
    "    rng = range(max(0, plow - allow), min(joints.shape[0] - 1, plow + allow))\n",
    "    if pos[0] in rng:\n",
    "        tmp.append(pos)\n",
    "    else:\n",
    "        tmp = sorted(tmp, key=lambda x : x[1])\n",
    "        k += 1\n",
    "        points['line' + str(k)] = tmp\n",
    "        tmp = []\n",
    "        fst = pos\n",
    "        tmp.append(pos)\n",
    "k += 1\n",
    "points['line' + str(k)] = tmp\n",
    "\n"
   ]
  },
  {
   "cell_type": "code",
   "execution_count": 1484,
   "metadata": {
    "collapsed": false
   },
   "outputs": [
    {
     "data": {
      "text/plain": [
       "{'line1': [(153, 117), (153, 401), (152, 904), (152, 1601)],\n",
       " 'line10': [(703, 781), (703, 935), (703, 1068), (703, 1198)],\n",
       " 'line11': [(739, 1198), (739, 1601)],\n",
       " 'line12': [(807, 1198), (807, 1601)],\n",
       " 'line13': [(869, 117),\n",
       "  (869, 681),\n",
       "  (869, 781),\n",
       "  (869, 1141),\n",
       "  (869, 1198),\n",
       "  (869, 1601)],\n",
       " 'line14': [(930, 117), (930, 681), (930, 1141), (930, 1601)],\n",
       " 'line15': [(991, 117), (991, 681), (991, 1141), (991, 1601)],\n",
       " 'line2': [(220, 117),\n",
       "  (216, 401),\n",
       "  (216, 782),\n",
       "  (216, 899),\n",
       "  (220, 1198),\n",
       "  (220, 1597)],\n",
       " 'line3': [(285, 117), (281, 781), (281, 1198), (281, 1597)],\n",
       " 'line4': [(347, 781), (347, 1198), (347, 1601)],\n",
       " 'line5': [(408, 781), (408, 1198), (408, 1601)],\n",
       " 'line6': [(470, 117), (470, 781), (470, 1194), (470, 1601)],\n",
       " 'line7': [(535, 117), (531, 781), (531, 1194), (535, 1601)],\n",
       " 'line8': [(602, 781), (602, 935), (602, 1068), (602, 1198), (602, 1601)],\n",
       " 'line9': [(670, 1198), (670, 1601)]}"
      ]
     },
     "execution_count": 1484,
     "metadata": {},
     "output_type": "execute_result"
    }
   ],
   "source": [
    "points"
   ]
  },
  {
   "cell_type": "code",
   "execution_count": 1485,
   "metadata": {
    "collapsed": false
   },
   "outputs": [
    {
     "data": {
      "text/plain": [
       "-1"
      ]
     },
     "execution_count": 1485,
     "metadata": {},
     "output_type": "execute_result"
    }
   ],
   "source": [
    "cv2.imshow('re_joints', re_joints)\n",
    "cv2.waitKey(0)\n",
    "cv2.destroyAllWindows() \n",
    "cv2.waitKey(1)"
   ]
  },
  {
   "cell_type": "code",
   "execution_count": 1486,
   "metadata": {
    "collapsed": false
   },
   "outputs": [],
   "source": [
    "# 점 주위에 박스처리 해주는 기능\n",
    "depth = max(3, v_size2 + line_wit)\n",
    "box = np.zeros_like(mask)\n",
    "for i in range(1, len(points) + 1):\n",
    "    line = points['line' + str(i)]\n",
    "    for idx, p in enumerate(line):\n",
    "        box[max(0, p[0] - depth) , max(0, p[1] - depth) : min(joints.shape[1] - 1, p[1] + depth)] = 255\n",
    "        box[max(0, p[0] - depth) : min(joints.shape[0] - 1, p[0] + depth), max(0, p[1] - depth)] = 255\n",
    "        box[min(joints.shape[0] - 1, p[0] + depth), \n",
    "                         max(0, p[1] - depth) : min(joints.shape[1] -1 ,p[1] + depth)] = 255\n",
    "        box[min(joints.shape[0] - 1, p[0] - depth) : min(joints.shape[0] - 1, p[0] + depth), \n",
    "                         min(joints.shape[1] -1 ,p[1] + depth)] = 255\n"
   ]
  },
  {
   "cell_type": "code",
   "execution_count": 1487,
   "metadata": {
    "collapsed": true
   },
   "outputs": [],
   "source": [
    "boxed = box + mask"
   ]
  },
  {
   "cell_type": "code",
   "execution_count": 1488,
   "metadata": {
    "collapsed": false
   },
   "outputs": [
    {
     "data": {
      "text/plain": [
       "-1"
      ]
     },
     "execution_count": 1488,
     "metadata": {},
     "output_type": "execute_result"
    }
   ],
   "source": [
    "cv2.imshow('boxed', boxed)\n",
    "cv2.waitKey(0)\n",
    "cv2.destroyAllWindows() \n",
    "cv2.waitKey(1)"
   ]
  },
  {
   "cell_type": "code",
   "execution_count": 1489,
   "metadata": {
    "collapsed": false
   },
   "outputs": [],
   "source": [
    "# 좌표에 컨디션을 부과해주는 함수\n",
    "mask[mask > 240] = 255\n",
    "depth = max(3, v_size2 + line_wit)\n",
    "c_points = copy.deepcopy(points)\n",
    "for i in range(1, len(c_points) + 1):\n",
    "    line = c_points['line' + str(i)]\n",
    "    for idx, p in enumerate(line):\n",
    "        tmp = ''\n",
    "        c1 = 255 in mask[max(0, p[0] - depth) , max(0, p[1] - depth) : min(joints.shape[1] - 1, p[1] + depth)]\n",
    "        c2 = 255 in mask[max(0, p[0] - depth) : min(joints.shape[0] - 1, p[0] + depth), max(0, p[1] - depth)]\n",
    "        c3 = 255 in mask[min(joints.shape[0] - 1, p[0] + depth), \n",
    "                         max(0, p[1] - depth) : min(joints.shape[1] -1 ,p[1] + depth)] \n",
    "        c4 = 255 in mask[min(joints.shape[0] - 1, p[0] - depth) : min(joints.shape[0] - 1, p[0] + depth), \n",
    "                         min(joints.shape[1] -1 ,p[1] + depth)]\n",
    "        if c1:\n",
    "            tmp += 'c1'\n",
    "        if c2:\n",
    "            tmp += 'c2'\n",
    "        if c3:\n",
    "            tmp += 'c3'\n",
    "        if c4:\n",
    "            tmp += 'c4'\n",
    "        line[idx] = (p, tmp)\n"
   ]
  },
  {
   "cell_type": "code",
   "execution_count": 1490,
   "metadata": {
    "collapsed": false
   },
   "outputs": [
    {
     "data": {
      "text/plain": [
       "{'line1': [((153, 117), 'c3c4'),\n",
       "  ((153, 401), 'c2c3c4'),\n",
       "  ((152, 904), 'c2c3c4'),\n",
       "  ((152, 1601), 'c2c3')],\n",
       " 'line10': [((703, 781), 'c1c3c4'),\n",
       "  ((703, 935), 'c1c2c4'),\n",
       "  ((703, 1068), 'c1c2c4'),\n",
       "  ((703, 1198), 'c1c2c3')],\n",
       " 'line11': [((739, 1198), 'c1c3c4'), ((739, 1601), 'c1c2c3')],\n",
       " 'line12': [((807, 1198), 'c1c3c4'), ((807, 1601), 'c1c2c3')],\n",
       " 'line13': [((869, 117), 'c1c3c4'),\n",
       "  ((869, 681), 'c2c3c4'),\n",
       "  ((869, 781), 'c1c2c4'),\n",
       "  ((869, 1141), 'c2c3c4'),\n",
       "  ((869, 1198), 'c1c2c4'),\n",
       "  ((869, 1601), 'c1c2c3')],\n",
       " 'line14': [((930, 117), 'c1c3c4'),\n",
       "  ((930, 681), 'c1c2c3c4'),\n",
       "  ((930, 1141), 'c1c2c3c4'),\n",
       "  ((930, 1601), 'c1c2c3')],\n",
       " 'line15': [((991, 117), 'c1c4'),\n",
       "  ((991, 681), 'c1c2c4'),\n",
       "  ((991, 1141), 'c1c2c4'),\n",
       "  ((991, 1601), 'c1c2')],\n",
       " 'line2': [((220, 117), 'c1c3c4'),\n",
       "  ((216, 401), 'c1c2c4'),\n",
       "  ((216, 782), 'c2c3c4'),\n",
       "  ((216, 899), 'c1c2c4'),\n",
       "  ((220, 1198), 'c2c3c4'),\n",
       "  ((220, 1597), 'c1c2c3')],\n",
       " 'line3': [((285, 117), 'c1c3c4'),\n",
       "  ((281, 781), 'c1c2c3c4'),\n",
       "  ((281, 1198), 'c1c2c3c4'),\n",
       "  ((281, 1597), 'c1c2c3')],\n",
       " 'line4': [((347, 781), 'c1c3c4'),\n",
       "  ((347, 1198), 'c1c2c3c4'),\n",
       "  ((347, 1601), 'c1c2c3')],\n",
       " 'line5': [((408, 781), 'c1c3c4'),\n",
       "  ((408, 1198), 'c1c2c3c4'),\n",
       "  ((408, 1601), 'c1c2c3')],\n",
       " 'line6': [((470, 117), 'c1c3c4'),\n",
       "  ((470, 781), 'c1c2c3c4'),\n",
       "  ((470, 1194), 'c1c2c3c4'),\n",
       "  ((470, 1601), 'c1c2c3')],\n",
       " 'line7': [((535, 117), 'c1c3c4'),\n",
       "  ((531, 781), 'c1c2c3c4'),\n",
       "  ((531, 1194), 'c1c2c3c4'),\n",
       "  ((535, 1601), 'c1c2c3')],\n",
       " 'line8': [((602, 781), 'c1c3c4'),\n",
       "  ((602, 935), 'c2c3c4'),\n",
       "  ((602, 1068), 'c2c3c4'),\n",
       "  ((602, 1198), 'c1c2c3c4'),\n",
       "  ((602, 1601), 'c1c2c3')],\n",
       " 'line9': [((670, 1198), 'c1c3c4'), ((670, 1601), 'c1c2c3')]}"
      ]
     },
     "execution_count": 1490,
     "metadata": {},
     "output_type": "execute_result"
    }
   ],
   "source": [
    "c_points"
   ]
  },
  {
   "cell_type": "code",
   "execution_count": 1491,
   "metadata": {
    "collapsed": false
   },
   "outputs": [],
   "source": [
    "# 좌표를 각각 시작점, 보조점, 끝점으로 분류해주는 기능.\n",
    "for depth_bound in range(2, 5):\n",
    "    allow = int(joints.shape[1] * 0.02)\n",
    "    is_st = []\n",
    "    is_end = []\n",
    "    is_right = []\n",
    "    is_bot = []\n",
    "    for i in range(1, len(c_points) + 1):\n",
    "        line = c_points['line' + str(i)]\n",
    "        for idx, p in enumerate(line):\n",
    "            if 'c3c4' in p[1]: \n",
    "                is_st.append(p[0])\n",
    "            if 'c1c2' in p[1]:\n",
    "                is_end.append(p[0])\n",
    "            if 'c2c3' in p[1]:\n",
    "                is_right.append(p[0])\n",
    "            if 'c1' in p[1] and 'c4' in p[1]:\n",
    "                is_bot.append(p[0])\n",
    "    if len(is_st) == len(is_right) == len(is_bot) == len(is_end):\n",
    "        break\n",
    "    else:\n",
    "        print(\"시작점과 다른 점들의 수가 맞지 않습니다.\")\n",
    "        print(\"depth를 더 늘려 수정진행합니다.\")\n",
    "        # 점 주위에 박스처리 해주는 기능\n",
    "        depth = max(3, v_size2 + line_wit * depth_bound)\n",
    "        box = np.zeros_like(mask)\n",
    "        for i in range(1, len(points) + 1):\n",
    "            line = points['line' + str(i)]\n",
    "            for idx, p in enumerate(line):\n",
    "                box[max(0, p[0] - depth) , max(0, p[1] - depth) : min(joints.shape[1] - 1, p[1] + depth)] = 255\n",
    "                box[max(0, p[0] - depth) : min(joints.shape[0] - 1, p[0] + depth), max(0, p[1] - depth)] = 255\n",
    "                box[min(joints.shape[0] - 1, p[0] + depth), \n",
    "                                 max(0, p[1] - depth) : min(joints.shape[1] -1 ,p[1] + depth)] = 255\n",
    "                box[min(joints.shape[0] - 1, p[0] - depth) : min(joints.shape[0] - 1, p[0] + depth), \n",
    "                                 min(joints.shape[1] -1 ,p[1] + depth)] = 255\n",
    "        boxed = box + mask\n",
    "        cv2.imshow('boxed', boxed)\n",
    "        cv2.waitKey(0)\n",
    "        cv2.destroyAllWindows() \n",
    "        cv2.waitKey(1)\n",
    "        \n",
    "        # 좌표에 컨디션을 부과해주는 함수\n",
    "        mask[mask > 240] = 255\n",
    "        depth = max(3, v_size2 + line_wit * depth_bound)\n",
    "        c_points = copy.deepcopy(points)\n",
    "        for i in range(1, len(c_points) + 1):\n",
    "            line = c_points['line' + str(i)]\n",
    "            for idx, p in enumerate(line):\n",
    "                tmp = ''\n",
    "                c1 = 255 in mask[max(0, p[0] - depth) , max(0, p[1] - depth) : min(joints.shape[1] - 1, p[1] + depth)]\n",
    "                c2 = 255 in mask[max(0, p[0] - depth) : min(joints.shape[0] - 1, p[0] + depth), max(0, p[1] - depth)]\n",
    "                c3 = 255 in mask[min(joints.shape[0] - 1, p[0] + depth), \n",
    "                                 max(0, p[1] - depth) : min(joints.shape[1] -1 ,p[1] + depth)] \n",
    "                c4 = 255 in mask[min(joints.shape[0] - 1, p[0] - depth) : min(joints.shape[0] - 1, p[0] + depth), \n",
    "                                 min(joints.shape[1] -1 ,p[1] + depth)]\n",
    "                if c1:\n",
    "                    tmp += 'c1'\n",
    "                if c2:\n",
    "                    tmp += 'c2'\n",
    "                if c3:\n",
    "                    tmp += 'c3'\n",
    "                if c4:\n",
    "                    tmp += 'c4'\n",
    "                line[idx] = (p, tmp)\n"
   ]
  },
  {
   "cell_type": "code",
   "execution_count": 1492,
   "metadata": {
    "collapsed": false
   },
   "outputs": [
    {
     "name": "stdout",
     "output_type": "stream",
     "text": [
      "[(153, 117), (153, 401), (152, 904), (220, 117), (216, 782), (220, 1198), (285, 117), (281, 781), (281, 1198), (347, 781), (347, 1198), (408, 781), (408, 1198), (470, 117), (470, 781), (470, 1194), (535, 117), (531, 781), (531, 1194), (602, 781), (602, 935), (602, 1068), (602, 1198), (670, 1198), (703, 781), (739, 1198), (807, 1198), (869, 117), (869, 681), (869, 1141), (930, 117), (930, 681), (930, 1141)]\n",
      "[(216, 401), (216, 899), (220, 1597), (281, 781), (281, 1198), (281, 1597), (470, 781), (347, 1198), (347, 1601), (408, 1198), (408, 1601), (470, 1194), (470, 1601), (531, 781), (531, 1194), (535, 1601), (869, 781), (602, 1198), (602, 1601), (703, 935), (703, 1068), (703, 1198), (670, 1601), (739, 1601), (869, 1198), (807, 1601), (869, 1601), (930, 681), (930, 1141), (930, 1601), (991, 681), (991, 1141), (991, 1601)]\n"
     ]
    }
   ],
   "source": [
    "# 자를 좌표를 정해주는 기능\n",
    "st = []\n",
    "end = []\n",
    "allow = int(joints.shape[1] * 0.02)\n",
    "# 스타트 다음에 나오는 right 는 무조건 직전 스타트와 사각형을 이룬다.\n",
    "for idx, p in enumerate(is_st):\n",
    "    st.append(p)\n",
    "    rgt = is_right[idx]\n",
    "    for thing in is_bot:\n",
    "        if thing[1] in range(p[1] - allow, p[1] + allow ):\n",
    "            bot = thing\n",
    "            is_bot.remove(thing)\n",
    "            break\n",
    "    for thing in is_end:\n",
    "        if thing[0] in range(bot[0] - allow, bot[0] + allow ) and thing[1] in range(rgt[1] - allow, rgt[1] + allow):\n",
    "            end.append(thing)\n",
    "            is_end.remove(thing)\n",
    "            break\n",
    "print(st)\n",
    "print(end)\n",
    "        "
   ]
  },
  {
   "cell_type": "code",
   "execution_count": 1493,
   "metadata": {
    "collapsed": true
   },
   "outputs": [],
   "source": [
    "def fix_st_horizontal(v_final):\n",
    "    allow = 3\n",
    "    certain = 50\n",
    "    assume_wit = 15  \n",
    "    v_final[v_final > 240] = 255\n",
    "    fix_st_1 = []\n",
    "    for start in st:\n",
    "        for move in range(assume_wit):\n",
    "            if 255 in v_final[max(0, start[0] + certain - allow): min(v_final.shape[0] - 1, start[0] + certain + allow), \n",
    "                       start[1] + assume_wit - move]:\n",
    "                fix_st_1.append(assume_wit - move + 1)\n",
    "                break\n",
    "            if move == assume_wit - 1:\n",
    "                fix_st_1.append(0)\n",
    "    return fix_st_1\n",
    "\n",
    "# 각 테이블 윤곽선 두께가 다를 수 있기때문에 두께를 고려해서 시작점의 vertical 좌표에 더하거나 뺄 값을 계산한다.\n",
    "# 인자는 v_final이 아니라 h_final이 들어간다는 점에 유의해야한다.\n",
    "\n",
    "\n",
    "\n",
    "def fix_st_vertical(h_final):\n",
    "    allow = 3\n",
    "    certain = 20\n",
    "    assume_wit = 15  \n",
    "    h_final[h_final > 240] = 255\n",
    "    fix_st_0 = []\n",
    "    for start in st:\n",
    "        for move in range(1, assume_wit):\n",
    "            # 시작점이 좌상단에 있기 때문에 실제 테이블의 굵기가 아닌 옆 테이블의 굵기를 측정할 수 있다. width에만 해당된다. 따라서 certain 값을 더해 \n",
    "            # 자신 테이블의 윗 수평선 굵기를 잰다.\n",
    "            # start[0] 좌표에서 assume_wit만큼 내려오면 흰 여백에 위치한다. 이 곳에서 위쪽으로 조금씩(move)하면서 테이블 검은 선과 만날 때 \n",
    "            # start[0] 에서부터의 검은선까지의 거리를 계산한다. 이렇게하지 않으면 테이블 선 내부에 흰 공간이 있는 경우 오류를 내게 되서 이런 코드를\n",
    "            # 짜게 되었다. \n",
    "            # certain은 오른쪽으로 이동하는 값인데, 오른쪽으로 이동하지 않으면 옆에 테이블 윤곽선의 두께에 영향을 받기 때문에, 영향을 최소화하기 위해\n",
    "            # 확실히 옆테이블과 떨어진 위치에서 떨어져(certain) 계산한다.\n",
    "            # allow는 예측하지못한 상황에서 대비하기 위해 작성했는데, 상황에 따라 없어야 하는 코드가 될 수 있다.!\n",
    "            if 255 in h_final[start[0] + assume_wit - move , \n",
    "                              max(0, start[1] + certain  - allow) : min(h_final.shape[1] - 1, start[1] + certain + allow )]:\n",
    "                fix_st_0.append(assume_wit - move + 1)\n",
    "                break\n",
    "            if move == assume_wit - 1:\n",
    "                fix_st_0.append(0)\n",
    "    return fix_st_0\n",
    "\n",
    "def fix_st(st, fix_st_1, fix_st_0):\n",
    "    for idx, add in enumerate(zip(fix_st_0, fix_st_1)):\n",
    "        tmp = st[idx][0] + add[0], st[idx][1] + add[1]\n",
    "        st[idx] = tmp\n",
    "    return st"
   ]
  },
  {
   "cell_type": "code",
   "execution_count": 1494,
   "metadata": {
    "collapsed": false
   },
   "outputs": [
    {
     "data": {
      "text/plain": [
       "[2,\n",
       " 6,\n",
       " 0,\n",
       " 2,\n",
       " 6,\n",
       " 4,\n",
       " 3,\n",
       " 3,\n",
       " 2,\n",
       " 3,\n",
       " 2,\n",
       " 3,\n",
       " 2,\n",
       " 2,\n",
       " 7,\n",
       " 6,\n",
       " 3,\n",
       " 3,\n",
       " 6,\n",
       " 3,\n",
       " 3,\n",
       " 3,\n",
       " 2,\n",
       " 2,\n",
       " 3,\n",
       " 2,\n",
       " 2,\n",
       " 2,\n",
       " 2,\n",
       " 3,\n",
       " 2,\n",
       " 2,\n",
       " 3]"
      ]
     },
     "execution_count": 1494,
     "metadata": {},
     "output_type": "execute_result"
    }
   ],
   "source": [
    "allow = 3\n",
    "certain = 20\n",
    "assume_wit = 15  \n",
    "v_final[v_final > 240] = 255\n",
    "fix_st_1 = []\n",
    "for start in st:\n",
    "    for move in range(assume_wit):\n",
    "        if 255 in v_final[max(0, start[0] + certain - allow): min(v_final.shape[0] - 1, start[0] + certain + allow), \n",
    "                   start[1] + assume_wit - move]:\n",
    "            fix_st_1.append(assume_wit - move + 1)\n",
    "            break\n",
    "        if move == assume_wit - 1:\n",
    "            fix_st_1.append(0)\n",
    "fix_st_1"
   ]
  },
  {
   "cell_type": "code",
   "execution_count": 1495,
   "metadata": {
    "collapsed": false
   },
   "outputs": [
    {
     "data": {
      "text/plain": [
       "[2,\n",
       " 6,\n",
       " 3,\n",
       " 2,\n",
       " 10,\n",
       " 6,\n",
       " 3,\n",
       " 6,\n",
       " 6,\n",
       " 2,\n",
       " 2,\n",
       " 3,\n",
       " 3,\n",
       " 2,\n",
       " 6,\n",
       " 2,\n",
       " 2,\n",
       " 6,\n",
       " 6,\n",
       " 3,\n",
       " 3,\n",
       " 3,\n",
       " 3,\n",
       " 2,\n",
       " 2,\n",
       " 3,\n",
       " 2,\n",
       " 2,\n",
       " 2,\n",
       " 2,\n",
       " 2,\n",
       " 2,\n",
       " 2]"
      ]
     },
     "execution_count": 1495,
     "metadata": {},
     "output_type": "execute_result"
    }
   ],
   "source": [
    "allow = 3\n",
    "certain = 20\n",
    "line_allow = 15  \n",
    "h_final[h_final > 240] = 255\n",
    "fix_st_0 = []\n",
    "for start in st:\n",
    "    for wit in range(1, line_allow):\n",
    "        # 시작점이 좌상단에 있기 때문에 실제 테이블의 굵기가 아닌 옆 테이블의 굵기를 측정할 수 있다. width에만 해당된다. 따라서 certain 값을 더해 \n",
    "        # 자신 테이블의 윗 수평선 굵기를 잰다.\n",
    "        if 255 in h_final[start[0] + line_allow - wit , \n",
    "                          max(0, start[1] + certain  - allow) : min(h_final.shape[1] - 1, start[1] + certain + allow )]:\n",
    "            fix_st_0.append(line_allow - wit + 1)\n",
    "            break\n",
    "        if wit == line_allow - 1:\n",
    "            fix_st_0.append(0)\n",
    "fix_st_0\n",
    "\n"
   ]
  },
  {
   "cell_type": "code",
   "execution_count": null,
   "metadata": {
    "collapsed": true
   },
   "outputs": [],
   "source": [
    "for idx, add in enumerate(zip(fix_st_0, fix_st_1)):\n",
    "    tmp = st[idx][0] + add[0], st[idx][1] + add[1]\n",
    "    st[idx] = tmp"
   ]
  },
  {
   "cell_type": "code",
   "execution_count": 1556,
   "metadata": {
    "collapsed": false
   },
   "outputs": [],
   "source": [
    "def pre_process_(url_1):\n",
    "    img = Image.open(url_1)\n",
    "    joints, mask, line_wit, v_size2, h_final, v_final = find_joints(url_1)\n",
    "    one_line = make_points_list(joints=joints, line_wit=line_wit, v_size2=v_size2)\n",
    "    points = align_points(one_line=one_line, joints=joints)\n",
    "    box = make_box(points, joints, v_size2, line_wit)    \n",
    "    show_box(box=box, mask=mask)\n",
    "    c_points = give_conditions(points=points, mask=mask, v_size2=v_size2, line_wit=line_wit)\n",
    "    is_st, is_bot, is_end, is_right = classify_points(c_points, joints, v_size2, line_wit)\n",
    "    st, end = cut_points(joints=joints, is_st=is_st, is_bot=is_bot, is_end=is_end, is_right=is_right)\n",
    "    fix_st_0 = fix_st_vertical(h_final)\n",
    "    fix_st_1 = fix_st_horizontal(v_final)\n",
    "    st = fix_st(st, fix_st_0=fix_st_0, fix_st_1=fix_st_1)\n",
    "    img_list = make_crack(ful_img=img, st=st, end=end)\n",
    "    return img_list"
   ]
  },
  {
   "cell_type": "code",
   "execution_count": 1516,
   "metadata": {
    "collapsed": false
   },
   "outputs": [],
   "source": [
    "img = Image.fromarray(gray)\n",
    "img_list = make_crack(ful_img=img, st=st, end=end)\n"
   ]
  },
  {
   "cell_type": "code",
   "execution_count": 1562,
   "metadata": {
    "collapsed": false
   },
   "outputs": [
    {
     "data": {
      "image/png": "[encoded data removed]",
      "text/plain": [
       "<PIL.Image.Image image mode=RGBA size=1384x134 at 0x112A11D30>"
      ]
     },
     "execution_count": 1562,
     "metadata": {},
     "output_type": "execute_result"
    }
   ],
   "source": [
    "img_list[2]"
   ]
  },
  {
   "cell_type": "code",
   "execution_count": 1299,
   "metadata": {
    "collapsed": false
   },
   "outputs": [
    {
     "data": {
      "text/plain": [
       "'OMB No. 1545-0008'"
      ]
     },
     "execution_count": 1299,
     "metadata": {},
     "output_type": "execute_result"
    }
   ],
   "source": [
    "pytesseract.image_to_string(img_list[2])"
   ]
  },
  {
   "cell_type": "code",
   "execution_count": 989,
   "metadata": {
    "collapsed": false
   },
   "outputs": [],
   "source": [
    "page = []\n",
    "for img in img_list:\n",
    "    page.append(pytesseract.image_to_string(img))"
   ]
  },
  {
   "cell_type": "code",
   "execution_count": 990,
   "metadata": {
    "collapsed": false
   },
   "outputs": [
    {
     "data": {
      "text/plain": [
       "['',\n",
       " \"a Employee's social security number\\n\\n308-27-4383\",\n",
       " 'OMB No. 1545-0008',\n",
       " 'b Employer identiﬁcation number\\n\\n13-5565207',\n",
       " '1 Wages, tips, other compensation\\n\\n76579.31',\n",
       " '2 Federal income tax withheld\\n\\n14438.62',\n",
       " \"c Employer's name. address. and ZIP code\\n\\nKPMG LLP #2381212\\n717 N. Harwood Street Suite 3100\\nDallas, TX 75201-6585\",\n",
       " '3 Social security wages\\n\\n76579.31',\n",
       " '4 Social security tax withheld\\n\\n4747.92',\n",
       " '5 Medicare wages and tips\\n\\n76579.31',\n",
       " '6 Medicare tax withheld\\n1 1 10.40',\n",
       " '7 Social security tips',\n",
       " '8 Allocated tips',\n",
       " 'd Control number',\n",
       " '',\n",
       " '1O Dependent care beneﬁts',\n",
       " 'e Employee‘s ﬁrst name and initial Last name Sufi.\\n\\nBOSEOK IN\\n\\n255 S Grand Ave Apt 610\\nLos Angeles, CA 90012\\n\\nf Employee‘s address and ZIP code',\n",
       " '11 Nonqualiﬁed plans',\n",
       " '12a See instructions for box 12\\n\\nDD 4583.52',\n",
       " '13 Statutory\\nemployee',\n",
       " 'Retirement\\nplan\\n\\nX',\n",
       " 'Third-party\\nsick pay',\n",
       " '12b',\n",
       " '12c',\n",
       " '14 Other\\nCASDI 765.79',\n",
       " '12d',\n",
       " '',\n",
       " '15 State Employer‘s state ID number\\nCA | 073-3480—8',\n",
       " '16 State wages, tips, etc.\\n\\n76579.31',\n",
       " '17 State income tax\\n\\n4753.27',\n",
       " '20 Locality name',\n",
       " '18 Local wages, tips, etc.',\n",
       " '19 Local income tax']"
      ]
     },
     "execution_count": 990,
     "metadata": {},
     "output_type": "execute_result"
    }
   ],
   "source": [
    "page"
   ]
  },
  {
   "cell_type": "code",
   "execution_count": 996,
   "metadata": {
    "collapsed": false
   },
   "outputs": [],
   "source": [
    "# page 만들기.\n",
    "page_ = \"+\".join(page)\n",
    "pre_alphabet = None\n",
    "\n",
    "for idx, alphabet in enumerate(page_):\n",
    "    if alphabet in ['o', 'O'] and pre_alphabet in list('0123456789'):\n",
    "        page_ = page_[:idx] + '0' +page_[idx + 1:]\n",
    "    elif alphabet == '0' and pre_alphabet in string.ascii_letters:\n",
    "        page_ = page_[:idx] + 'o' +page_[idx + 1:]\n",
    "    \n",
    "#     if alphabet == 'ﬁ':\n",
    "#         page_ = page_[:idx] +'fi' + page_[idx + 1 :]\n",
    "\n",
    "    pre_alphabet = alphabet\n",
    "page = page_.split(\"+\")"
   ]
  },
  {
   "cell_type": "code",
   "execution_count": 997,
   "metadata": {
    "collapsed": false
   },
   "outputs": [
    {
     "name": "stdout",
     "output_type": "stream",
     "text": [
      "statutory\n",
      "employee\n"
     ]
    }
   ],
   "source": [
    "# 13번 처리\n",
    "for idx, phrase in page:\n",
    "    if 'statutory employee' in phrase.lower():\n",
    "        print('statutory employee')\n",
    "    if 'statutory\\nemployee' in phrase.lower():\n",
    "        print('statutory\\nemployee')"
   ]
  },
  {
   "cell_type": "code",
   "execution_count": 995,
   "metadata": {
    "collapsed": false
   },
   "outputs": [
    {
     "data": {
      "text/plain": [
       "['',\n",
       " \"a Employee's social security number\\n\\n308-27-4383\",\n",
       " 'OMB No. 1545-0008',\n",
       " 'b Employer identiﬁcation number\\n\\n13-5565207',\n",
       " '1 Wages, tips, other compensation\\n\\n76579.31',\n",
       " '2 Federal income tax withheld\\n\\n14438.62',\n",
       " \"c Employer's name. address. and ZIP code\\n\\nKPMG LLP #2381212\\n717 N. Harwood Street Suite 3100\\nDallas, TX 75201-6585\",\n",
       " '3 Social security wages\\n\\n76579.31',\n",
       " '4 Social security tax withheld\\n\\n4747.92',\n",
       " '5 Medicare wages and tips\\n\\n76579.31',\n",
       " '6 Medicare tax withheld\\n1 1 10.40',\n",
       " '7 Social security tips',\n",
       " '8 Allocated tips',\n",
       " 'd Control number',\n",
       " '',\n",
       " '10 Dependent care beneﬁts',\n",
       " 'e Employee‘s ﬁrst name and initial Last name Sufi.\\n\\nBOSEOK IN\\n\\n255 S Grand Ave Apt 610\\nLos Angeles, CA 90012\\n\\nf Employee‘s address and ZIP code',\n",
       " '11 Nonqualiﬁed plans',\n",
       " '12a See instructions for box 12\\n\\nDD 4583.52',\n",
       " '13 Statutory\\nemployee',\n",
       " 'Retirement\\nplan\\n\\nX',\n",
       " 'Third-party\\nsick pay',\n",
       " '12b',\n",
       " '12c',\n",
       " '14 Other\\nCASDI 765.79',\n",
       " '12d',\n",
       " '',\n",
       " '15 State Employer‘s state ID number\\nCA | 073-3480—8',\n",
       " '16 State wages, tips, etc.\\n\\n76579.31',\n",
       " '17 State income tax\\n\\n4753.27',\n",
       " '20 Locality name',\n",
       " '18 Local wages, tips, etc.',\n",
       " '19 Local income tax']"
      ]
     },
     "execution_count": 995,
     "metadata": {},
     "output_type": "execute_result"
    }
   ],
   "source": [
    "page"
   ]
  },
  {
   "cell_type": "code",
   "execution_count": null,
   "metadata": {
    "collapsed": false
   },
   "outputs": [],
   "source": []
  },
  {
   "cell_type": "code",
   "execution_count": 288,
   "metadata": {
    "collapsed": false
   },
   "outputs": [
    {
     "ename": "SyntaxError",
     "evalue": "invalid syntax (<ipython-input-288-0ffebfc87ad0>, line 2)",
     "output_type": "error",
     "traceback": [
      "\u001b[0;36m  File \u001b[0;32m\"<ipython-input-288-0ffebfc87ad0>\"\u001b[0;36m, line \u001b[0;32m2\u001b[0m\n\u001b[0;31m    1. 숫자의 소수점에서 띄어쓰기를 좌우로 한번씩 하는데, courier 글씨체의 특성상 자간이 커서 그렇다. 소수점 좌우로 띄어쓰기 삭제해주기.\u001b[0m\n\u001b[0m         ^\u001b[0m\n\u001b[0;31mSyntaxError\u001b[0m\u001b[0;31m:\u001b[0m invalid syntax\n"
     ]
    }
   ],
   "source": [
    "#해결해야 하는 점들.\n",
    "1. 숫자의 소수점에서 띄어쓰기를 좌우로 한번씩 하는데, courier 글씨체의 특성상 자간이 커서 그렇다. 소수점 좌우로 띄어쓰기 삭제해주기. \n",
    "(24267 . 78)\n",
    "(2 3 6 6 7 . 7 8)\n",
    "(1 4 6 7 . 4 0)\n",
    "\n",
    "# 2. ZIP 코드나 사람 이름에서 숫자 0과 대문자 O를 혼동하지 않도록, 1순위는 테서락트를 Arial, Courier 글씨체를 우선으로 판단하도록 학습시킬수 있는지,\n",
    "#    2순위로는 사람이름이나 ZIP코드를 잡아주는 코드 추가하기.\n",
    "\n",
    "3. 단어 사전화 작업.\n",
    "4. \\n 처리를 어떻게 해 줄 것인가.(\\n은 띄어쓰기로 수정.)\n",
    "5. 연속된 숫자에서는 O알파뱃이 아닌 숫자로 처리하도록 명령.\n",
    "6. 13번의 체크박스 처리.\n",
    "7. 시간 줄이기.\n",
    "8. fi 와 ﬁ가 차이가 있다는 거 인지하기"
   ]
  },
  {
   "cell_type": "code",
   "execution_count": 673,
   "metadata": {
    "collapsed": false
   },
   "outputs": [],
   "source": [
    "# 당분간 필요없는 코드\n",
    "# for idx, line in enumerate(page):\n",
    "#     tmp = list(line)\n",
    "#     while(1):\n",
    "#         if '\\n' in tmp:\n",
    "#             tmp.remove('\\n')\n",
    "#             cond = '\\n' in tmp\n",
    "#         else:\n",
    "#             break\n",
    "\n",
    "#     page[idx] = ''.join(tmp)"
   ]
  },
  {
   "cell_type": "code",
   "execution_count": 69,
   "metadata": {
    "collapsed": false
   },
   "outputs": [],
   "source": []
  },
  {
   "cell_type": "code",
   "execution_count": 49,
   "metadata": {
    "collapsed": false
   },
   "outputs": [
    {
     "data": {
      "text/plain": [
       "\"3 Iy R I III hlrd-palty\\nD e“ e ent D .\\nStaIIItuto I: P'all s Ck pay\""
      ]
     },
     "execution_count": 49,
     "metadata": {},
     "output_type": "execute_result"
    }
   ],
   "source": [
    "pytesseract.image_to_string(Image.open(url9))"
   ]
  },
  {
   "cell_type": "code",
   "execution_count": 721,
   "metadata": {
    "collapsed": false
   },
   "outputs": [],
   "source": [
    "w2_dic = {}\n",
    "d_result = result.copy()\n",
    "\n",
    "for idx, line in enumerate(d_result):\n",
    "    if line == '':\n",
    "        continue\n",
    "    key = line[:2] if '.' not in line[1] and ' ' not in line[1] else line[0]\n",
    "    data = line.split(\"\\n\")[0]\n",
    "    w2_dic[key] = data\n",
    "w2_dic['11'] = '11 Nonqualified plans'"
   ]
  },
  {
   "cell_type": "code",
   "execution_count": 722,
   "metadata": {
    "collapsed": false
   },
   "outputs": [
    {
     "data": {
      "text/plain": [
       "{'1': '1 wages, tips and other',\n",
       " '10': '10 dependent care benefits',\n",
       " '11': '11 Nonqualified plans',\n",
       " '12': '12 see instructions for box 12',\n",
       " '14': '14 see instructions for box 14',\n",
       " '15': '15 state',\n",
       " '16': '16 state wages,',\n",
       " '17': '17 state income',\n",
       " '18': '18 local wages, tips and',\n",
       " '19': '19 local income',\n",
       " '2': '2 federal income tax withheld',\n",
       " '20': '20 locality',\n",
       " '3': '3 social security wages',\n",
       " '4': '4 social security tax withheld',\n",
       " '5': '5 medicare wages and tips',\n",
       " '6': '6 medicare tax withheld',\n",
       " '7': '7 social security tips',\n",
       " '8': '8 allocated tips',\n",
       " 'Em': 'employer’s state id number',\n",
       " 'OM': 'omb no. 1545-0008 this information is being furnished to the internet revenue service. if you are required to ﬁle',\n",
       " 'Re': 'retirement plan: yes',\n",
       " 'St': 'statutory employee: no',\n",
       " 'Th': 'third-party sick pay: no',\n",
       " 'a': 'a. employee’s social security number',\n",
       " 'b': 'b. employer‘s identification number',\n",
       " 'c': 'c. employer‘s name, address, and zip code',\n",
       " 'd': 'd. control number',\n",
       " 'e': 'e. employee’s name, address, and zip code'}"
      ]
     },
     "execution_count": 722,
     "metadata": {},
     "output_type": "execute_result"
    }
   ],
   "source": [
    "w2_dic"
   ]
  },
  {
   "cell_type": "code",
   "execution_count": 127,
   "metadata": {
    "collapsed": false
   },
   "outputs": [
    {
     "data": {
      "text/plain": [
       "True"
      ]
     },
     "execution_count": 127,
     "metadata": {},
     "output_type": "execute_result"
    }
   ],
   "source": [
    "'\\n' in 'to\\nreport'"
   ]
  },
  {
   "cell_type": "code",
   "execution_count": 170,
   "metadata": {
    "collapsed": false
   },
   "outputs": [],
   "source": [
    "c_result = result.copy()\n",
    "c_result = \"+\".join(c_result)\n",
    "c_result = c_result.split(\"\\n\")\n",
    "c_result = \" \".join(c_result)\n",
    "c_result = c_result.split(\"+\")"
   ]
  },
  {
   "cell_type": "code",
   "execution_count": 607,
   "metadata": {
    "collapsed": true
   },
   "outputs": [],
   "source": [
    "# w2_list_ = [] \n",
    "# for line in c_result:\n",
    "#     w2_list_.append(line.split(\" \"))"
   ]
  },
  {
   "cell_type": "code",
   "execution_count": 601,
   "metadata": {
    "collapsed": false
   },
   "outputs": [
    {
     "data": {
      "text/plain": [
       "[['1', 'wages,', 'tips', 'compensation'],\n",
       " ['10', 'dependent', 'care', 'benefits'],\n",
       " ['11', 'nonqualified', 'plans'],\n",
       " ['12', 'see', 'instructions', 'for', 'box', '12'],\n",
       " ['14', 'see', 'instructions', 'for', 'box', '14'],\n",
       " ['15', 'state'],\n",
       " ['16', 'state', 'wages,', 'tips', 'and', 'etc'],\n",
       " ['17', 'state', 'income', 'tax'],\n",
       " ['18', 'local', 'wages,', 'tips', 'and', 'etc'],\n",
       " ['19', 'local', 'income', 'tax'],\n",
       " ['2', 'federal', 'income', 'tax'],\n",
       " ['20', 'locality', 'name'],\n",
       " ['3', 'social', 'security', 'wages'],\n",
       " ['4', 'social', 'security', 'tax'],\n",
       " ['5', 'medicare', 'wages', 'tips'],\n",
       " ['6', 'medicare', 'tax'],\n",
       " ['7', 'social', 'security', 'tips'],\n",
       " ['8', 'allocated', 'tips'],\n",
       " ['a', 'employee', 'social', 'security', 'number'],\n",
       " ['b', 'employer', 'identification'],\n",
       " ['c', 'employer', 'name,', 'address,', 'and', 'zip'],\n",
       " ['d', 'control', 'number'],\n",
       " ['e', 'employee', 'name,', 'address,', 'and', 'zip'],\n",
       " ['employer', 'state', 'id', 'number'],\n",
       " ['omb', 'no'],\n",
       " ['retirement', 'plan'],\n",
       " ['statutory', 'employee'],\n",
       " ['third-party', 'sick', 'pay']]"
      ]
     },
     "execution_count": 601,
     "metadata": {},
     "output_type": "execute_result"
    }
   ],
   "source": [
    "sorted(w2_list, key=lambda t : t[0])"
   ]
  },
  {
   "cell_type": "code",
   "execution_count": 600,
   "metadata": {
    "collapsed": false
   },
   "outputs": [],
   "source": [
    "w2_list.remove(['20', 'locality', 'name'])"
   ]
  },
  {
   "cell_type": "code",
   "execution_count": 465,
   "metadata": {
    "collapsed": false
   },
   "outputs": [
    {
     "data": {
      "text/plain": [
       "True"
      ]
     },
     "execution_count": 465,
     "metadata": {},
     "output_type": "execute_result"
    }
   ],
   "source": [
    "'‘' in 'employer‘s'"
   ]
  },
  {
   "cell_type": "code",
   "execution_count": 466,
   "metadata": {
    "collapsed": false
   },
   "outputs": [],
   "source": [
    "for idx, line in enumerate(w2_list):\n",
    "    for wdx, word in enumerate(line):\n",
    "        if '‘' in word:\n",
    "            w2_list[idx][wdx] = word[:-2]"
   ]
  },
  {
   "cell_type": "code",
   "execution_count": 566,
   "metadata": {
    "collapsed": true
   },
   "outputs": [],
   "source": [
    "#햇갈리기 쉬운 것은 두번 확인 -- Employee zip code 와 Employer zip code는 한자차이지만 매우 중요.\n",
    "# "
   ]
  },
  {
   "cell_type": "code",
   "execution_count": 676,
   "metadata": {
    "collapsed": false
   },
   "outputs": [],
   "source": [
    "a = '1 2 3'"
   ]
  },
  {
   "cell_type": "code",
   "execution_count": 678,
   "metadata": {
    "collapsed": false
   },
   "outputs": [],
   "source": [
    "b = list(a)"
   ]
  },
  {
   "cell_type": "code",
   "execution_count": 707,
   "metadata": {
    "collapsed": false
   },
   "outputs": [],
   "source": [
    "a = '1 1 10.40'"
   ]
  },
  {
   "cell_type": "code",
   "execution_count": 709,
   "metadata": {
    "collapsed": false
   },
   "outputs": [
    {
     "data": {
      "text/plain": [
       "True"
      ]
     },
     "execution_count": 709,
     "metadata": {},
     "output_type": "execute_result"
    }
   ],
   "source": [
    "' ' in list(a)"
   ]
  },
  {
   "cell_type": "code",
   "execution_count": 712,
   "metadata": {
    "collapsed": false
   },
   "outputs": [
    {
     "data": {
      "text/plain": [
       "'1110.40'"
      ]
     },
     "execution_count": 712,
     "metadata": {},
     "output_type": "execute_result"
    }
   ],
   "source": [
    "tmp = list(a)\n",
    "while ' ' in tmp:\n",
    "    tmp.remove(' ')\n",
    "\"\".join(tmp)"
   ]
  },
  {
   "cell_type": "code",
   "execution_count": 720,
   "metadata": {
    "collapsed": false
   },
   "outputs": [
    {
     "name": "stdout",
     "output_type": "stream",
     "text": [
      "a. Employee’s Social Security Number ['308-27-4383']\n",
      "b. Employer‘s Identification Number ['13-5565207']\n",
      "1 Wages, Tips and other ['76579.31']\n",
      "2 Federal Income Tax withheld ['14438.62']\n",
      "c. Employer‘s Name, Address, and ZIP Code ['KPMG LLP #2381212', '717 N. Harwood Street Suite 3100', 'Dallas, TX 75201-6585']\n",
      "3 Social Security Wages ['76579.31']\n",
      "4 Social Security Tax withheld ['4747.92']\n",
      "5 Medicare Wages and Tips ['76579.31']\n",
      "6 Medicare Tax withheld ['1 1 10.40']\n",
      "7 Social Security Tips []\n",
      "8 Allocated Tips []\n",
      "d. Control Number []\n",
      "10 Dependent Care Benefits []\n",
      "e. Employee’s Name, Address, and ZIP Code ['BOSEOK IN', '255 S Grand Ave Apt 610', 'Los Angeles, CA 90012']\n",
      "11 Nonqualified plans []\n",
      "12 See Instructions for box 12 ['DD 4583.52']\n",
      "12 See Instructions for box 12 []\n",
      "12 See Instructions for box 12 []\n",
      "14 See Instructions for box 14 ['CASDI 765.79']\n",
      "12 See Instructions for box 12 []\n",
      "15 State ['CA | 073-3480—8']\n",
      "16 State Wages, ['76579.31']\n",
      "17 State Income ['4753.27']\n",
      "20 Locality []\n",
      "18 Local Wages, Tips and []\n",
      "19 Local Income []\n"
     ]
    }
   ],
   "source": [
    "#text와 w2 사전 데이터 일치시키기.\n",
    "for text in page:\n",
    "    for idx, dic in enumerate(w2_list):\n",
    "        header = dic[0] if len(dic[0]) ==2 else dic[0] + ' '\n",
    "        #앞에 두자리를 보고 결정하기.\n",
    "        text_header = text[:2]\n",
    "        if header in text_header:\n",
    "            data = text.split(\"\\n\")[1:]\n",
    "            # 데이터 정리 작업. data 는 리스트\n",
    "            # ''은 '\\n'인데 두번 엔터를 눌러 입력하면 ''이 생긴다. 이 것을 삭제.\n",
    "            if '' in data:\n",
    "                while('' in data):\n",
    "                    data.remove('')\n",
    "            for idx, date in enumerate(data): \n",
    "                # 예외처리\n",
    "                if 'Employee' in date:\n",
    "                    data.remove(data[idx])\n",
    "# 빈칸을 없애주면 빈칸이 필요한 (DD 3583.42 )에도 없어진다. 다시 생각해보니 디비에 넣을 떄 숫자만 처리해주면 될 것가타.\n",
    "#             for idx, date in enumerate(data):\n",
    "#                 if ' ' in date:\n",
    "#                     tmp = list(date)\n",
    "#                     while(' ' in tmp):\n",
    "#                         tmp.remove(' ')\n",
    "#                     data[idx] = \"\".join(tmp)\n",
    "#             print(w2_list[idx], data)\n",
    "            key = header if ' ' not in header else header[0]\n",
    "            print(w2_dic[key], data)\n",
    "\n",
    "# 13번 처리."
   ]
  },
  {
   "cell_type": "code",
   "execution_count": 631,
   "metadata": {
    "collapsed": false
   },
   "outputs": [
    {
     "data": {
      "text/plain": [
       "['',\n",
       " \"a Employee's social security number\\n\\n308-27-4383\",\n",
       " 'OMB No. 1545-0008',\n",
       " 'b Employer identiﬁcation number\\n\\n13-5565207',\n",
       " '1 Wages, tips, other compensation\\n\\n76579.31',\n",
       " '2 Federal income tax withheld\\n\\n14438.62',\n",
       " \"c Employer's name. address. and ZIP code\\n\\nKPMG LLP #2381212\\n717 N. Harwood Street Suite 3100\\nDallas, TX 75201-6585\",\n",
       " '3 Social security wages\\n\\n76579.31',\n",
       " '4 Social security tax withheld\\n\\n4747.92',\n",
       " '5 Medicare wages and tips\\n\\n76579.31',\n",
       " '6 Medicare tax withheld\\n1 1 10.40',\n",
       " '7 Social security tips',\n",
       " '8 Allocated tips',\n",
       " 'd Control number',\n",
       " '',\n",
       " '10 Dependent care beneﬁts',\n",
       " 'e Employee‘s ﬁrst name and initial Last name Sufi.\\n\\nBOSEOK IN\\n\\n255 S Grand Ave Apt 610\\nLos Angeles, CA 90012\\n\\nf Employee‘s address and ZIP code',\n",
       " '11 Nonqualiﬁed plans',\n",
       " '12a See instructions for box 12\\n\\nDD 4583.52',\n",
       " '13 Statutory\\nemployee',\n",
       " 'Retirement\\nplan\\n\\nX',\n",
       " 'Third-party\\nsick pay',\n",
       " '12b',\n",
       " '12c',\n",
       " '14 Other\\nCASDI 765.79',\n",
       " '12d',\n",
       " '',\n",
       " '15 State Employer‘s state ID number\\nCA | 073-3480—8',\n",
       " '16 State wages, tips, etc.\\n\\n76579.31',\n",
       " '17 State income tax\\n\\n4753.27',\n",
       " '20 Locality name',\n",
       " '18 Local wages, tips, etc.',\n",
       " '19 Local income tax']"
      ]
     },
     "execution_count": 631,
     "metadata": {},
     "output_type": "execute_result"
    }
   ],
   "source": [
    "page"
   ]
  },
  {
   "cell_type": "code",
   "execution_count": 668,
   "metadata": {
    "collapsed": true
   },
   "outputs": [],
   "source": [
    "dataset = w2_dic, w2_list, page"
   ]
  },
  {
   "cell_type": "code",
   "execution_count": 669,
   "metadata": {
    "collapsed": true
   },
   "outputs": [],
   "source": [
    "import pickle"
   ]
  },
  {
   "cell_type": "code",
   "execution_count": 670,
   "metadata": {
    "collapsed": false
   },
   "outputs": [],
   "source": [
    "with open('w2_list2.pk1', 'wb') as f:\n",
    "    pickle.dump(dataset, f, -1)"
   ]
  },
  {
   "cell_type": "code",
   "execution_count": null,
   "metadata": {
    "collapsed": true
   },
   "outputs": [],
   "source": []
  },
  {
   "cell_type": "code",
   "execution_count": null,
   "metadata": {
    "collapsed": true
   },
   "outputs": [],
   "source": []
  },
  {
   "cell_type": "code",
   "execution_count": null,
   "metadata": {
    "collapsed": true
   },
   "outputs": [],
   "source": []
  },
  {
   "cell_type": "code",
   "execution_count": 174,
   "metadata": {
    "collapsed": false
   },
   "outputs": [],
   "source": [
    "line_words = {}\n",
    "for idx, line in enumerate(c_result):\n",
    "    line_words['line' + str(idx + 1)] = line\n"
   ]
  },
  {
   "cell_type": "code",
   "execution_count": 204,
   "metadata": {
    "collapsed": true
   },
   "outputs": [],
   "source": [
    "import collections"
   ]
  },
  {
   "cell_type": "code",
   "execution_count": 205,
   "metadata": {
    "collapsed": false
   },
   "outputs": [
    {
     "data": {
      "text/plain": [
       "3"
      ]
     },
     "execution_count": 205,
     "metadata": {},
     "output_type": "execute_result"
    }
   ],
   "source": [
    "int('3')"
   ]
  },
  {
   "cell_type": "code",
   "execution_count": 208,
   "metadata": {
    "collapsed": false
   },
   "outputs": [],
   "source": [
    "od_line_words = collections.OrderedDict(sorted(line_words.items(), key=lambda t: int(t[0][4:])))"
   ]
  },
  {
   "cell_type": "code",
   "execution_count": null,
   "metadata": {
    "collapsed": true
   },
   "outputs": [],
   "source": []
  }
 ],
 "metadata": {
  "kernelspec": {
   "display_name": "Python 3",
   "language": "python",
   "name": "python3"
  },
  "language_info": {
   "codemirror_mode": {
    "name": "ipython",
    "version": 3
   },
   "file_extension": ".py",
   "mimetype": "text/x-python",
   "name": "python",
   "nbconvert_exporter": "python",
   "pygments_lexer": "ipython3",
   "version": "3.4.3"
  }
 },
 "nbformat": 4,
 "nbformat_minor": 1
}
