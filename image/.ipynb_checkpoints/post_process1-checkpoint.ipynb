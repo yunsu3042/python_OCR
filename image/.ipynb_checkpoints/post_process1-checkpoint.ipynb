{
 "cells": [
  {
   "cell_type": "code",
   "execution_count": 1,
   "metadata": {
    "collapsed": false
   },
   "outputs": [],
   "source": [
    "import sys, os\n",
    "import pytesseract\n",
    "import copy\n",
    "import string\n",
    "import pickle\n",
    "import cv2\n",
    "import numpy as np\n",
    "import sqlite3\n",
    "sys.path.append('/Users/yunsu/mysite-projects/selenium')\n",
    "from matplotlib import pyplot as plt\n",
    "from W2_ocr import *\n",
    "from PIL import Image\n",
    "\n",
    "%matplotlib inline\n",
    "%config InlineBackend.figure_format = 'svg'\n"
   ]
  },
  {
   "cell_type": "code",
   "execution_count": 2,
   "metadata": {
    "collapsed": false
   },
   "outputs": [],
   "source": [
    "# page 숫자 0과 o의 혼동 인식하고 잡아주기.\n",
    "# 뒤에 데이터에서 F00이라는 값이 있어서 이 코드 때문에 더 햇갈림. 일단 제외시ㅣ키고, W2_dic['1O']을 추가시켜줌.\n",
    "def accuracy_process(page):\n",
    "    working_page = \"+\".join(page)\n",
    "    listed_page = list(working_page)\n",
    "    pre_letter = None\n",
    "    alphabets = string.ascii_letters\n",
    "\n",
    "    for idx, now_letter in enumerate(listed_page):\n",
    "        if idx == 0:\n",
    "            continue\n",
    "        else:\n",
    "            pre_letter = listed_page[idx - 1]\n",
    "        # 혹시라도 0과 o, O를 잘못 읽었을 경우 수정해주는 코드. 기준은 바로 앞에 알파뱃이 있는가 숫자가 있는가로 판단.\n",
    "        if now_letter in ['o', 'O'] and pre_letter in list('0123456789'):\n",
    "            listed_page[idx] = '0'\n",
    "        elif now_letter == '0' and pre_letter in alphabets:\n",
    "            listed_page[idx] = 'o'\n",
    "\n",
    "    #     if alphabet == 'ﬁ':\n",
    "    #         page_ = page_[:idx] +'fi' + page_[idx + 1 :]\n",
    "    working_page = ''.join(listed_page)\n",
    "    page = working_page.split(\"+\")\n",
    "    return page"
   ]
  },
  {
   "cell_type": "code",
   "execution_count": 3,
   "metadata": {
    "collapsed": false
   },
   "outputs": [
    {
     "ename": "SyntaxError",
     "evalue": "invalid syntax (<ipython-input-3-81aec9b4d0ee>, line 2)",
     "output_type": "error",
     "traceback": [
      "\u001b[0;36m  File \u001b[0;32m\"<ipython-input-3-81aec9b4d0ee>\"\u001b[0;36m, line \u001b[0;32m2\u001b[0m\n\u001b[0;31m    1. 숫자의 소수점에서 띄어쓰기를 좌우로 한번씩 하는데, courier 글씨체의 특성상 자간이 커서 그렇다. 소수점 좌우로 띄어쓰기 삭제해주기.\u001b[0m\n\u001b[0m         ^\u001b[0m\n\u001b[0;31mSyntaxError\u001b[0m\u001b[0;31m:\u001b[0m invalid syntax\n"
     ]
    }
   ],
   "source": [
    "#해결해야 하는 점들.\n",
    "1. 숫자의 소수점에서 띄어쓰기를 좌우로 한번씩 하는데, courier 글씨체의 특성상 자간이 커서 그렇다. 소수점 좌우로 띄어쓰기 삭제해주기. \n",
    "(24267 . 78)\n",
    "(2 3 6 6 7 . 7 8)\n",
    "(1 4 6 7 . 4 0)\n",
    "\n",
    "# 2. ZIP 코드나 사람 이름에서 숫자 0과 대문자 O를 혼동하지 않도록, 1순위는 테서락트를 Arial, Courier 글씨체를 우선으로 판단하도록 학습시킬수 있는지,\n",
    "#    2순위로는 사람이름이나 ZIP코드를 잡아주는 코드 추가하기.\n",
    "\n",
    "3. 단어 사전화 작업.\n",
    "4. \\n 처리를 어떻게 해 줄 것인가.(\\n은 띄어쓰기로 수정.)\n",
    "5. 연속된 숫자에서는 O알파뱃이 아닌 숫자로 처리하도록 명령.\n",
    "6. 13번의 체크박스 처리.\n",
    "7. 시간 줄이기.\n",
    "8. fi 와 ﬁ가 차이가 있다는 거 인지하기"
   ]
  },
  {
   "cell_type": "code",
   "execution_count": 264,
   "metadata": {
    "collapsed": false
   },
   "outputs": [],
   "source": [
    "with open('w2_dic2.pk1', 'wb') as f:\n",
    "    pickle.dump(w2_dic, f, -1)"
   ]
  },
  {
   "cell_type": "code",
   "execution_count": 18,
   "metadata": {
    "collapsed": true
   },
   "outputs": [],
   "source": [
    "with open('pages2.pk1', 'wb') as f:\n",
    "    pickle.dump((page_2014, page_2016), f, -1)"
   ]
  },
  {
   "cell_type": "code",
   "execution_count": 20,
   "metadata": {
    "collapsed": false
   },
   "outputs": [],
   "source": [
    "with open('w2_dic.pk1', 'rb') as f:\n",
    "    w2_dic = pickle.load(f)"
   ]
  },
  {
   "cell_type": "code",
   "execution_count": null,
   "metadata": {
    "collapsed": true
   },
   "outputs": [],
   "source": [
    "with open('pages.pk1', 'rb') as f:\n",
    "    page_2014, page_2016 = pickle.load(f)"
   ]
  },
  {
   "cell_type": "code",
   "execution_count": 9,
   "metadata": {
    "collapsed": true
   },
   "outputs": [],
   "source": [
    "url = '/Users/yunsu/desktop/python_ocr/2014.png'\n",
    "url2 = '/Users/yunsu/desktop/python_ocr/2016.png'\n",
    "url3 = '/Users/yunsu/desktop/python_ocr/test.png'"
   ]
  },
  {
   "cell_type": "code",
   "execution_count": 16,
   "metadata": {
    "collapsed": false
   },
   "outputs": [
    {
     "name": "stdout",
     "output_type": "stream",
     "text": [
      "version for 2016\n",
      "0.0\n",
      "8.13559322034\n",
      "0.0\n"
     ]
    }
   ],
   "source": [
    "img_list = pre_process(url2)\n",
    "page = ocr_process(img_list)"
   ]
  },
  {
   "cell_type": "code",
   "execution_count": 17,
   "metadata": {
    "collapsed": false
   },
   "outputs": [],
   "source": [
    "page_2016 = page"
   ]
  },
  {
   "cell_type": "code",
   "execution_count": 27,
   "metadata": {
    "collapsed": false
   },
   "outputs": [
    {
     "data": {
      "text/plain": [
       "{'1': '1 Wages, tips, other compensation',\n",
       " '10': '10 Dependent Care Benefits',\n",
       " '11': '11 Nonqualiﬁed plans',\n",
       " '12': '12 See Instructions for box 12',\n",
       " '12a': '12a See instructions for box 12',\n",
       " '12b': '12b not defined',\n",
       " '12c': '12c not defined',\n",
       " '12d': '12d not defined',\n",
       " '13': '13 Statutory employee',\n",
       " '14': '14 Other',\n",
       " '15': '15 State Employer‘s state ID number',\n",
       " '16': '16 State wages, tips, etc',\n",
       " '17': '17 State income tax',\n",
       " '18': '18 Local wages, tips, etc',\n",
       " '19': '19 Local income tax',\n",
       " '1O': '10 Dependent Care Benefits',\n",
       " '1o': '10 Dependent Care Benefits',\n",
       " '2': '2 Federal income tax withheld',\n",
       " '20': '20 Locality name',\n",
       " '3': '3 Social security wages',\n",
       " '4': '4 Social security tax withheld',\n",
       " '5': '5 Medicare wages and tips',\n",
       " '6': '6 Medicare tax withheld',\n",
       " '7': '7 Social security tips',\n",
       " '8': '8 Allocated tips',\n",
       " '9': 'Not defined',\n",
       " 'Emp': \"Employer's State ID Number\",\n",
       " 'OMB': 'OMB No. 1545-0008 This information is being furnished to the Internet Revenue Service. if you are required to ﬁle',\n",
       " 'Ret': 'Retirement plan',\n",
       " 'Sta': 'Statutory Employee',\n",
       " 'Thi': 'Third-party sick pay',\n",
       " 'a': \"a Employee's social security number\",\n",
       " 'b': 'b Employer identiﬁcation number',\n",
       " 'c': 'c Employer’s Name, Address, and ZIP Code',\n",
       " 'd': 'd Control number',\n",
       " 'e': \"e Employee's Name, Address, and ZIP Code\"}"
      ]
     },
     "execution_count": 27,
     "metadata": {},
     "output_type": "execute_result"
    }
   ],
   "source": [
    "w2_dic"
   ]
  },
  {
   "cell_type": "code",
   "execution_count": 261,
   "metadata": {
    "collapsed": true
   },
   "outputs": [],
   "source": [
    "# 데이터 정리 작업.\n",
    "# 각각 데이터의 앞에 3글자를 통해 header를 만들고, header와 w2_dic을 연결 \n",
    "def post_process1(page, w2_dic):\n",
    "    print(\"post_process 1을 진행합니다.\")\n",
    "    word_list = ['number', 'it', '(ein)', 'other', 'compensation', 'etc', 'code', 'zip', 'wages', 'tax', 'tips', \n",
    "            'benefits', 'state', 'name', 'plan', 'pay', 'employee']\n",
    "    result = {}\n",
    "    for _ in range(10):\n",
    "        if '' in page:\n",
    "            page.remove('')\n",
    "        else:\n",
    "            break\n",
    "    for string in page:\n",
    "        header = string[:3] if ' ' not in string[:3] else string[:2]\n",
    "        if '.' in list(header):\n",
    "            tmp = list(header)\n",
    "            tmp.remove('.')\n",
    "            header = str(''.join(tmp))\n",
    "        if ' ' in list(header):\n",
    "            tmp = list(header)\n",
    "            tmp.remove(' ')\n",
    "            header = str(''.join(tmp))\n",
    "        ful_data = string.split(\"\\n\")\n",
    "        for key in w2_dic:\n",
    "            if header == key:\n",
    "                exist = True\n",
    "                break\n",
    "        data = ful_data[1:]\n",
    "        # data에 ''지우는 거, 최대 10개까지 지움.\n",
    "        for _ in range(10):\n",
    "            if '' in data:\n",
    "                data.remove('')\n",
    "            if '' not in data:\n",
    "                break\n",
    "        # exist란 ocr 결과물의 각 header와 w2_dic의 key가 일치하는 게 없는 상황. \n",
    "        # 어디서부터가 유의미한 데이터인가 : W2 양식에서 맨 마지막 단어만 word_list 넣어준다.  \n",
    "        # word_dic을 for 구문으로 돌면서 data의 각 요소에 word가 있는지 파악한다.\n",
    "        # 첫쨰로 W2_dic과 일치하는 key를 찾는다.\n",
    "        # word_list에 있는 단어로 데이터와 제시문을 분리\n",
    "        if exist == True:\n",
    "            for word in word_list:\n",
    "                for lump in data:\n",
    "                    for split_lump in lump.split(\" \"):\n",
    "                        if split_lump.lower() == word:\n",
    "                            data.remove(lump)\n",
    "            # 깨끗한 데이터\n",
    "            if w2_dic[header] in result and len(data) == 0:\n",
    "                pass\n",
    "            else:\n",
    "                result[w2_dic[header]] = data\n",
    "        else:\n",
    "            print(\"page와 일치하는 key가 존재하지 않습니다.{}\".format(header))\n",
    "\n",
    "    # 있다면 카피한 data_list에서 뺀다.\n",
    "    # 데이터를 뽑는다.\n",
    "    if '13 Statutory employee' in result:\n",
    "        result['Statutory employee'] = result['13 Statutory employee']\n",
    "        result.pop('13 Statutory employee', None)\n",
    "    if 'Statutory Employee' in result:\n",
    "        result['Statutory employee'] = result['Statutory Employee']\n",
    "        result.pop('Statutory Employee')\n",
    "    check_list = ['Retirement plan', 'Statutory employee', 'Third-party sick pay', 'Statutory Employee']\n",
    "    for check in check_list:\n",
    "        if check in result:\n",
    "            tmp = result[check]\n",
    "            if len(tmp) == 0:\n",
    "                result[check] = 'N'  \n",
    "            elif tmp in [['N'], ['n']]:\n",
    "                result[check] = 'N'\n",
    "            elif tmp in [['Y'], ['y'], ['X']]:\n",
    "                result[check] = 'Y'\n",
    "\n",
    "    number_data = ['1 Wages, tips, other compensation', '16 State wages, tips, etc'\n",
    "                  ,'17 State income tax', '18 Local wages, tips, etc', '19 Local income tax', \n",
    "                   '2 Federal income tax withheld', '3 Social security wages', '4 Social security tax withheld',\n",
    "                  '5 Medicare wages and tips', '6 Medicare tax withheld', '7 Social security tips',] \n",
    "    for key in number_data:\n",
    "        if key in result:\n",
    "            if len(result[key]) == 0:\n",
    "                pass\n",
    "            elif len(result[key]) == 1:\n",
    "                tmp = result[key][0]\n",
    "                good = ''.join(tmp.split(\" \"))\n",
    "                try:\n",
    "                    result[key] = float(good)\n",
    "                except ValueError:\n",
    "                    # 잘못읽어 햇갈리기 쉬운 거 처리.\n",
    "                    confused = [('l', '1'), ('o', '0'), ('O', '0')]\n",
    "                    for x in confused:\n",
    "                        if x[0] in good:\n",
    "                            listed_good = list(good)\n",
    "                            idx= listed_good.index(x[0])\n",
    "                            listed_good[idx] = x[1]\n",
    "                            good = ''.join(listed_good)\n",
    "                            good = ''.join(good)\n",
    "                    try:\n",
    "                        result[key] = float(good)\n",
    "                    except:\n",
    "                        print(\"오류 {}는 숫자만 있어야 하는 데이터입니다. 다른 값이 들어가 있습니다.\".format(key))\n",
    "            else:\n",
    "                print('오류 number_data: {} 는 하나의 데이터가 아닙니다. '.format(key) )\n",
    "\n",
    "    key = 'c Employer’s Name, Address, and ZIP Code'\n",
    "    return result"
   ]
  },
  {
   "cell_type": "code",
   "execution_count": 262,
   "metadata": {
    "collapsed": true
   },
   "outputs": [],
   "source": [
    "def post_process2(result):\n",
    "    print(\"data_process 2을 시작합니다.\")\n",
    "    rdbs = {}\n",
    "\n",
    "    ssn = result[\"a Employee's social security number\"][0]\n",
    "    first_name = result[\"e Employee's Name, Address, and ZIP Code\"][0].split(\" \")[0]\n",
    "    last_name = result[\"e Employee's Name, Address, and ZIP Code\"][0].split(\" \")[1]\n",
    "    street = result[\"e Employee's Name, Address, and ZIP Code\"][1]\n",
    "    state_zip = result[\"e Employee's Name, Address, and ZIP Code\"][2].split(\",\")[1].split(\" \")\n",
    "    for _ in range(10):\n",
    "        if '' in state_zip:\n",
    "            state_zip.remove('')\n",
    "        else:\n",
    "            break\n",
    "    city = result[\"e Employee's Name, Address, and ZIP Code\"][2].split(\",\")[0]\n",
    "    EIN = result['b Employer identiﬁcation number'][0]\n",
    "    if \"#\" in result['c Employer’s Name, Address, and ZIP Code'][0]:\n",
    "        employer_name = result['c Employer’s Name, Address, and ZIP Code'][0].split(\"#\")[0]\n",
    "    else:\n",
    "        employer_name = result['c Employer’s Name, Address, and ZIP Code'][0]\n",
    "    employer_street = result['c Employer’s Name, Address, and ZIP Code'][1]\n",
    "    if ',' in result['c Employer’s Name, Address, and ZIP Code'][2]:\n",
    "        employer_multi = result['c Employer’s Name, Address, and ZIP Code'][2].split(\",\")\n",
    "    else:\n",
    "        employer_multi = result['c Employer’s Name, Address, and ZIP Code'][2].split(\" \")\n",
    "    employer_city = employer_multi[0]\n",
    "    if len(employer_multi[1:]) > 1:\n",
    "        employer_state_zip = employer_multi[1:]\n",
    "    else:\n",
    "        employer_state_zip = employer_multi[1].split(\" \")\n",
    "        for _ in range(10):\n",
    "            if '' in employer_state_zip:\n",
    "                employer_state_zip.remove('')\n",
    "            else:\n",
    "                break\n",
    "    employer_state = employer_state_zip[0]\n",
    "    employer_zip = employer_state_zip[1]\n",
    "\n",
    "    wtc = result['1 Wages, tips, other compensation']\n",
    "    fitw = result['2 Federal income tax withheld']\n",
    "    ssw = result['3 Social security wages']\n",
    "    sstw = result['4 Social security tax withheld']\n",
    "    mwat = result['5 Medicare wages and tips']\n",
    "    mtw = result['6 Medicare tax withheld']\n",
    "    sst = result['7 Social security tips']\n",
    "    at = result['8 Allocated tips']\n",
    "    dcb = result['10 Dependent Care Benefits']\n",
    "    if '11 Nonqualiﬁed plans' in result:\n",
    "        np = result['11 Nonqualiﬁed plans']\n",
    "    else:\n",
    "        np = []\n",
    "    if '12a See instructions for box 12' in result:\n",
    "        bx_12a = result['12a See instructions for box 12'][0]\n",
    "    else:\n",
    "        bx_12a = result['12 See Instructions for box 12'][0]\n",
    "    if '12b Not defined' in result:\n",
    "        bx_12b = result['12b Not defined']\n",
    "    else:\n",
    "        bx_12b = []\n",
    "    if '12c Not defined' in result:\n",
    "        bx_12c = result['12c Not defined']\n",
    "    else:\n",
    "        bx_12c = []\n",
    "    if '12d Not defined' in result:\n",
    "        bx_12d = result['12d Not defined']\n",
    "    else:\n",
    "        bx_12d = []\n",
    "    bx_13_se = result['Statutory employee']\n",
    "    bx_13_rp = result['Retirement plan']\n",
    "    bx_13_tpsp = result['Third-party sick pay']\n",
    "    if len(result['14 Other']) != 0:\n",
    "        bx_14_type = result['14 Other'][0].split(\" \")[0]\n",
    "        bx_14_amount = result['14 Other'][0].split(\" \")[1]\n",
    "    else:\n",
    "        bx_14_type = []\n",
    "        bx_14_amount = []\n",
    "    if \"|\" in result['15 State Employer‘s state ID number'][0]:\n",
    "        state = result['15 State Employer‘s state ID number'][0].split(\"|\")[0]\n",
    "        esin = result['15 State Employer‘s state ID number'][0].split(\"|\")[1]\n",
    "    else:\n",
    "        state = result['15 State Employer‘s state ID number'][0]\n",
    "        esin = result[\"Employer's State ID Number\"][0]\n",
    "    for _ in range(10):\n",
    "        if ' ' in esin:\n",
    "            if type(esin) != list:\n",
    "                tmp = list(esin)\n",
    "                tmp.remove(' ')\n",
    "                esin = \"\".join(tmp)\n",
    "            else:\n",
    "                esin.remove(' ')\n",
    "        else:\n",
    "            break\n",
    "\n",
    "    swte = result['16 State wages, tips, etc']\n",
    "    sit = result['17 State income tax']\n",
    "    ln = result['20 Locality name']\n",
    "    lwte = result['18 Local wages, tips, etc']\n",
    "    lit = result['19 Local income tax']\n",
    "\n",
    "    rdbs['1'] = ssn\n",
    "    rdbs['2'] = first_name\n",
    "    rdbs['3'] = last_name\n",
    "    rdbs['4'] = state_zip[1]\n",
    "    rdbs['5'] = street\n",
    "    rdbs['6'] = city\n",
    "    rdbs['7'] = state_zip[0]\n",
    "    rdbs['8'] = EIN\n",
    "    rdbs['9'] = employer_name\n",
    "    rdbs['10'] = employer_zip\n",
    "    rdbs['11'] = employer_street\n",
    "    rdbs['12'] = employer_city\n",
    "    rdbs['13'] = employer_state\n",
    "    rdbs['14'] = wtc\n",
    "    rdbs['15'] = fitw\n",
    "    rdbs['16'] = ssw\n",
    "    rdbs['17'] = sstw\n",
    "    rdbs['18'] = mwat\n",
    "    rdbs['19'] = mtw\n",
    "    rdbs['20'] = sst\n",
    "    rdbs['21'] = at\n",
    "    rdbs['22'] = dcb\n",
    "    rdbs['23'] = np\n",
    "    rdbs['24'] = bx_12a\n",
    "    rdbs['25'] = bx_12b\n",
    "    rdbs['26'] = bx_12c\n",
    "    rdbs['27'] = bx_12d\n",
    "    rdbs['28'] = bx_13_se\n",
    "    rdbs['29'] = bx_13_rp\n",
    "    rdbs['30'] = bx_13_tpsp\n",
    "    rdbs['31'] = bx_14_type\n",
    "    rdbs['32'] = bx_14_amount\n",
    "    rdbs['33'] = state\n",
    "    rdbs['34'] = esin\n",
    "    rdbs['35'] = swte\n",
    "    rdbs['36'] = sit\n",
    "    rdbs['37'] = ln\n",
    "    rdbs['38'] = lwte\n",
    "    rdbs['39'] = lit\n",
    "    return rdbs"
   ]
  },
  {
   "cell_type": "code",
   "execution_count": 263,
   "metadata": {
    "collapsed": true
   },
   "outputs": [],
   "source": [
    "def insert_data(rdbs):\n",
    "    key_list = []\n",
    "    value_list = []\n",
    "    for key in rdbs:\n",
    "        key_list.append(key)\n",
    "    key_list = sorted(key_list, key=lambda t :int(t))\n",
    "\n",
    "    for key in key_list:\n",
    "        value = '' if rdbs[key] == [] else rdbs[key]\n",
    "        value = str(value) if type(value) != str else value\n",
    "        value_list.append(value)\n",
    "    table_name = rdbs['2']\n",
    "    print(\"데이터 입력을 시작합니다.\")\n",
    "    conn = sqlite3.connect('TAX.db')\n",
    "    curs = conn.cursor()\n",
    "    curs.execute('create table {table_name} (t1 primary key, t2, t3, t4, t5, t6, t7, t8, t9, t10, t11, t12, t13, t14, t15, t16, t17, t18, t19, t20, t21, t22, t23, t24, t25, t26, t27, t28, t29, t30, t31, t32, t33, t34, t35, t36, t37, t38, t39)'.format(table_name=table_name))\n",
    "    curs.execute('insert into {table_name} values(?,?,?,?,?,?,?,?,?,?,?,?,?,?,?,?,?,?,?,?,?,?,?,?,?,?,?,?,?,?,?,?,?,?,?,?,?,?,?)'.format(table_name=table_name), tuple(value_list))\n",
    "    conn.commit()\n",
    "    conn.close()\n",
    "    print(\"데이터 입력을 마쳤습니다.\")"
   ]
  },
  {
   "cell_type": "code",
   "execution_count": null,
   "metadata": {
    "collapsed": true
   },
   "outputs": [],
   "source": []
  },
  {
   "cell_type": "code",
   "execution_count": null,
   "metadata": {
    "collapsed": true
   },
   "outputs": [],
   "source": []
  },
  {
   "cell_type": "code",
   "execution_count": null,
   "metadata": {
    "collapsed": true
   },
   "outputs": [],
   "source": []
  },
  {
   "cell_type": "code",
   "execution_count": 279,
   "metadata": {
    "collapsed": false
   },
   "outputs": [
    {
     "data": {
      "text/plain": [
       "['',\n",
       " \"a Employee's social security number\\n\\n308-27-4383\",\n",
       " 'OMB No. 1545-0008',\n",
       " 'b Employer identiﬁcation number\\n\\n13-5565207',\n",
       " '1 Wages, tips, other compensation\\n\\n76579.31',\n",
       " '2 Federal income tax withheld\\n\\n14438.62',\n",
       " \"c Employer's name. address. and ZIP code\\n\\nKPMG LLP #2381212\\n717 N. Harwood Street Suite 3100\\nDallas, TX 75201-6585\",\n",
       " '3 Social security wages\\n\\n76579.31',\n",
       " '4 Social security tax withheld\\n\\n4747.92',\n",
       " '5 Medicare wages and tips\\n\\n76579.31',\n",
       " '6 Medicare tax withheld\\n1 1 10.40',\n",
       " '7 Social security tips',\n",
       " '8 Allocated tips',\n",
       " 'd Control number',\n",
       " '',\n",
       " '1O Dependent care beneﬁts',\n",
       " 'e Employee‘s ﬁrst name and initial Last name Sufi.\\n\\nBOSEOK IN\\n\\n255 S Grand Ave Apt 610\\nLos Angeles, CA 90012\\n\\nf Employee‘s address and ZIP code',\n",
       " '11 Nonqualiﬁed plans',\n",
       " '12a See instructions for box 12\\n\\nDD | 4583.52',\n",
       " '13 Statutory\\nemployee',\n",
       " 'Retirement\\nplan\\n\\nX',\n",
       " 'Third-party\\nsick pay',\n",
       " '12b',\n",
       " '12c',\n",
       " '14 Other\\nCASDI 765.79',\n",
       " '12d',\n",
       " '',\n",
       " '15 State Employer‘s state ID number\\nCA | 073-3480—8',\n",
       " '16 State wages, tips, etc.\\n\\n76579.31',\n",
       " '17 State income tax\\n\\n4753.27',\n",
       " '20 Locality name',\n",
       " '18 Local wages, tips, etc.',\n",
       " '19 Local income tax']"
      ]
     },
     "execution_count": 279,
     "metadata": {},
     "output_type": "execute_result"
    }
   ],
   "source": [
    "page_2014"
   ]
  },
  {
   "cell_type": "code",
   "execution_count": 469,
   "metadata": {
    "collapsed": false
   },
   "outputs": [
    {
     "data": {
      "text/plain": [
       "[\"a. Employee's Social Security Number\",\n",
       " 'OMB No. 1545-0008 This information is being furnished to the Internet Revenue Service. if you are required to ﬁle\\na tex return, a negligence penalty or other sanction maybe imposed on you if this income is taxable and you fail to\\nreport it.',\n",
       " 'b. Employer’s Identification Number\\n(EIN)\\n35 — 9990000',\n",
       " 'd. Control Number',\n",
       " '1 Wages, Tips and other\\ncompensation\\n\\n24267.78',\n",
       " '2 Federal Income Tax withheld\\n2838.60',\n",
       " 'c. Employer’s Name, Address, and ZIP Code\\nDFAS ATTN: YUNSOO/JUNG\\n8899 EAST 56TH STREET\\nINDIANAPOLIS IN 46249—2410',\n",
       " '3 Social Security Wages\\n2 3 6 6 7 . 7 8',\n",
       " '4 Social Security Tax withheld\\nl 4 6 7 . 4 0',\n",
       " '5 Medicare Wages and Tips\\n2366? . 78',\n",
       " '6 Medicare Tax withheld\\n343 . 18',\n",
       " '7 Social Security Tips',\n",
       " '8 Allocated Tips',\n",
       " \"e. Employee's Name, Address, and ZIP Code\\n\\nJonadan\\nGEWHQATO 6411\",\n",
       " '10 Dependent Care Benefits',\n",
       " '12 See Instructions for box 12\\n\\nAA16 387.08',\n",
       " '14 See Instructions for box 14',\n",
       " 'Statutory Employee\\nN',\n",
       " 'Retirement Plan\\nY',\n",
       " 'Third-party sick pay\\nN',\n",
       " '15 State\\nVA',\n",
       " \"Employer's State ID Number\\n3035999000F001\",\n",
       " '16 State Wages,\\nTips and etc\\n\\n24267.78',\n",
       " '17 State Income\\nTax\\n\\n965.40',\n",
       " '18 Local Wages, Tips and\\netc',\n",
       " '19 Local Income\\nTax',\n",
       " '20 Locality\\nName',\n",
       " '15 State',\n",
       " \"Employer's State ID Number\",\n",
       " '16 State Wages,\\nTips and etc',\n",
       " '17 State Income\\nTax',\n",
       " '18 Local Wages, Tips and\\netc',\n",
       " '19 Local Income\\nTax',\n",
       " '20 Locality\\nName']"
      ]
     },
     "execution_count": 469,
     "metadata": {},
     "output_type": "execute_result"
    }
   ],
   "source": [
    "page_2016"
   ]
  },
  {
   "cell_type": "code",
   "execution_count": 31,
   "metadata": {
    "collapsed": true
   },
   "outputs": [],
   "source": [
    "word_list = ['number', 'it', '(ein)', 'other', 'compensation', 'etc', 'code', 'zip', 'wages', 'tax', 'tips', \n",
    "            'benefits', 'state', 'name', 'plan', 'pay', 'employee']"
   ]
  },
  {
   "cell_type": "code",
   "execution_count": null,
   "metadata": {
    "collapsed": true
   },
   "outputs": [],
   "source": []
  },
  {
   "cell_type": "code",
   "execution_count": 32,
   "metadata": {
    "collapsed": false
   },
   "outputs": [
    {
     "data": {
      "text/plain": [
       "{'1 Wages, tips, other compensation': 76579.31,\n",
       " '10 Dependent Care Benefits': [],\n",
       " '11 Nonqualiﬁed plans': [],\n",
       " '12a See instructions for box 12': ['DD | 4583.52'],\n",
       " '12b not defined': [],\n",
       " '12c not defined': [],\n",
       " '12d not defined': [],\n",
       " '14 Other': ['CASDI 765.79'],\n",
       " '15 State Employer‘s state ID number': ['CA | 073-3480—8'],\n",
       " '16 State wages, tips, etc': 76579.31,\n",
       " '17 State income tax': 4753.27,\n",
       " '18 Local wages, tips, etc': [],\n",
       " '19 Local income tax': [],\n",
       " '2 Federal income tax withheld': 14438.62,\n",
       " '20 Locality name': [],\n",
       " '3 Social security wages': 76579.31,\n",
       " '4 Social security tax withheld': 4747.92,\n",
       " '5 Medicare wages and tips': 76579.31,\n",
       " '6 Medicare tax withheld': 1110.4,\n",
       " '7 Social security tips': [],\n",
       " '8 Allocated tips': [],\n",
       " 'OMB No. 1545-0008 This information is being furnished to the Internet Revenue Service. if you are required to ﬁle': [],\n",
       " 'Retirement plan': 'Y',\n",
       " 'Statutory employee': 'N',\n",
       " 'Third-party sick pay': 'N',\n",
       " \"a Employee's social security number\": ['308-27-4383'],\n",
       " 'b Employer identiﬁcation number': ['13-5565207'],\n",
       " 'c Employer’s Name, Address, and ZIP Code': ['KPMG LLP #2381212',\n",
       "  '717 N. Harwood Street Suite 3100',\n",
       "  'Dallas, TX 75201-6585'],\n",
       " 'd Control number': [],\n",
       " \"e Employee's Name, Address, and ZIP Code\": ['BOSEOK IN',\n",
       "  '255 S Grand Ave Apt 610',\n",
       "  'Los Angeles, CA 90012']}"
      ]
     },
     "execution_count": 32,
     "metadata": {},
     "output_type": "execute_result"
    }
   ],
   "source": [
    "# 데이터 정리 작업.\n",
    "# 각각 데이터의 앞에 3글자를 통해 header를 만들고, header와 w2_dic을 연결 \n",
    "result = {}\n",
    "page = page_2014\n",
    "for _ in range(10):\n",
    "    if '' in page:\n",
    "        page.remove('')\n",
    "    else:\n",
    "        break\n",
    "for string in page:\n",
    "    header = string[:3] if ' ' not in string[:3] else string[:2]\n",
    "    if '.' in list(header):\n",
    "        tmp = list(header)\n",
    "        tmp.remove('.')\n",
    "        header = str(''.join(tmp))\n",
    "    if ' ' in list(header):\n",
    "        tmp = list(header)\n",
    "        tmp.remove(' ')\n",
    "        header = str(''.join(tmp))\n",
    "    ful_data = string.split(\"\\n\")\n",
    "    for key in w2_dic:\n",
    "        if header == key:\n",
    "            exist = True\n",
    "            break\n",
    "    data = ful_data[1:]\n",
    "    # data에 ''지우는 거, 최대 10개까지 지움.\n",
    "    for _ in range(10):\n",
    "        if '' in data:\n",
    "            data.remove('')\n",
    "        if '' not in data:\n",
    "            break\n",
    "    # exist란 ocr 결과물의 각 header와 w2_dic의 key가 일치하는 게 없는 상황. \n",
    "    # 어디서부터가 유의미한 데이터인가 : W2 양식에서 맨 마지막 단어만 word_list 넣어준다.  \n",
    "    # word_dic을 for 구문으로 돌면서 data의 각 요소에 word가 있는지 파악한다.\n",
    "    # 첫쨰로 W2_dic과 일치하는 key를 찾는다.\n",
    "    # word_list에 있는 단어로 데이터와 제시문을 분리\n",
    "    if exist == True:\n",
    "        for word in word_list:\n",
    "            for lump in data:\n",
    "                for split_lump in lump.split(\" \"):\n",
    "                    if split_lump.lower() == word:\n",
    "                        data.remove(lump)\n",
    "        # 깨끗한 데이터\n",
    "        if w2_dic[header] in result and len(data) == 0:\n",
    "            pass\n",
    "        else:\n",
    "            result[w2_dic[header]] = data\n",
    "    else:\n",
    "        print(\"page와 일치하는 key가 존재하지 않습니다.{}\".format(header))\n",
    "\n",
    "# 있다면 카피한 data_list에서 뺀다.\n",
    "# 데이터를 뽑는다.\n",
    "if '13 Statutory employee' in result:\n",
    "    result['Statutory employee'] = result['13 Statutory employee']\n",
    "    result.pop('13 Statutory employee', None)\n",
    "if 'Statutory Employee' in result:\n",
    "    result['Statutory employee'] = result['Statutory Employee']\n",
    "    result.pop('Statutory Employee')\n",
    "check_list = ['Retirement plan', 'Statutory employee', 'Third-party sick pay', 'Statutory Employee']\n",
    "for check in check_list:\n",
    "    if check in result:\n",
    "        tmp = result[check]\n",
    "        if len(tmp) == 0:\n",
    "            result[check] = 'N'  \n",
    "        elif tmp in [['N'], ['n']]:\n",
    "            result[check] = 'N'\n",
    "        elif tmp in [['Y'], ['y'], ['X']]:\n",
    "            result[check] = 'Y'\n",
    "\n",
    "number_data = ['1 Wages, tips, other compensation', '16 State wages, tips, etc'\n",
    "              ,'17 State income tax', '18 Local wages, tips, etc', '19 Local income tax', \n",
    "               '2 Federal income tax withheld', '3 Social security wages', '4 Social security tax withheld',\n",
    "              '5 Medicare wages and tips', '6 Medicare tax withheld', '7 Social security tips',] \n",
    "for key in number_data:\n",
    "    if key in result:\n",
    "        if len(result[key]) == 0:\n",
    "            pass\n",
    "        elif len(result[key]) == 1:\n",
    "            tmp = result[key][0]\n",
    "            good = ''.join(tmp.split(\" \"))\n",
    "            try:\n",
    "                result[key] = float(good)\n",
    "            except ValueError:\n",
    "                # 잘못읽어 햇갈리기 쉬운 거 처리.\n",
    "                confused = [('l', '1'), ('o', '0'), ('O', '0')]\n",
    "                for x in confused:\n",
    "                    if x[0] in good:\n",
    "                        listed_good = list(good)\n",
    "                        idx= listed_good.index(x[0])\n",
    "                        listed_good[idx] = x[1]\n",
    "                        good = ''.join(listed_good)\n",
    "                        good = ''.join(good)\n",
    "                try:\n",
    "                    result[key] = float(good)\n",
    "                except:\n",
    "                    print(\"오류 {}는 숫자만 있어야 하는 데이터입니다. 다른 값이 들어가 있습니다.\".format(key))\n",
    "        else:\n",
    "            print('오류 number_data: {} 는 하나의 데이터가 아닙니다. '.format(key) )\n",
    "\n",
    "key = 'c Employer’s Name, Address, and ZIP Code'\n",
    "\n",
    "result"
   ]
  },
  {
   "cell_type": "code",
   "execution_count": 41,
   "metadata": {
    "collapsed": false
   },
   "outputs": [
    {
     "data": {
      "text/plain": [
       "' 073-3480—8'"
      ]
     },
     "execution_count": 41,
     "metadata": {},
     "output_type": "execute_result"
    }
   ],
   "source": [
    "result['15 State Employer‘s state ID number'][0].split(\"|\")[1]"
   ]
  },
  {
   "cell_type": "code",
   "execution_count": 44,
   "metadata": {
    "collapsed": false
   },
   "outputs": [],
   "source": [
    "rdbs = {}\n",
    "\n",
    "ssn = result[\"a Employee's social security number\"][0]\n",
    "first_name = result[\"e Employee's Name, Address, and ZIP Code\"][0].split(\" \")[0]\n",
    "last_name = result[\"e Employee's Name, Address, and ZIP Code\"][0].split(\" \")[1]\n",
    "street = result[\"e Employee's Name, Address, and ZIP Code\"][1]\n",
    "state_zip = result[\"e Employee's Name, Address, and ZIP Code\"][2].split(\",\")[1].split(\" \")\n",
    "for _ in range(10):\n",
    "    if '' in state_zip:\n",
    "        state_zip.remove('')\n",
    "    else:\n",
    "        break\n",
    "city = result[\"e Employee's Name, Address, and ZIP Code\"][2].split(\",\")[0]\n",
    "EIN = result['b Employer identiﬁcation number'][0]\n",
    "if \"#\" in result['c Employer’s Name, Address, and ZIP Code'][0]:\n",
    "    employer_name = result['c Employer’s Name, Address, and ZIP Code'][0].split(\"#\")[0]\n",
    "else:\n",
    "    employer_name = result['c Employer’s Name, Address, and ZIP Code'][0]\n",
    "employer_street = result['c Employer’s Name, Address, and ZIP Code'][1]\n",
    "if ',' in result['c Employer’s Name, Address, and ZIP Code'][2]:\n",
    "    employer_multi = result['c Employer’s Name, Address, and ZIP Code'][2].split(\",\")\n",
    "else:\n",
    "    employer_multi = result['c Employer’s Name, Address, and ZIP Code'][2].split(\" \")\n",
    "employer_city = employer_multi[0]\n",
    "if len(employer_multi[1:]) > 1:\n",
    "    employer_state_zip = employer_multi[1:]\n",
    "else:\n",
    "    employer_state_zip = employer_multi[1].split(\" \")\n",
    "    for _ in range(10):\n",
    "        if '' in employer_state_zip:\n",
    "            employer_state_zip.remove('')\n",
    "        else:\n",
    "            break\n",
    "employer_state = employer_state_zip[0]\n",
    "employer_zip = employer_state_zip[1]\n",
    "\n",
    "wtc = result['1 Wages, tips, other compensation']\n",
    "fitw = result['2 Federal income tax withheld']\n",
    "ssw = result['3 Social security wages']\n",
    "sstw = result['4 Social security tax withheld']\n",
    "mwat = result['5 Medicare wages and tips']\n",
    "mtw = result['6 Medicare tax withheld']\n",
    "sst = result['7 Social security tips']\n",
    "at = result['8 Allocated tips']\n",
    "dcb = result['10 Dependent Care Benefits']\n",
    "if '11 Nonqualiﬁed plans' in result:\n",
    "    np = result['11 Nonqualiﬁed plans']\n",
    "else:\n",
    "    np = []\n",
    "if '12a See instructions for box 12' in result:\n",
    "    bx_12a = result['12a See instructions for box 12'][0]\n",
    "else:\n",
    "    bx_12a = result['12 See Instructions for box 12'][0]\n",
    "if '12b Not defined' in result:\n",
    "    bx_12b = result['12b Not defined']\n",
    "else:\n",
    "    bx_12b = []\n",
    "if '12c Not defined' in result:\n",
    "    bx_12c = result['12c Not defined']\n",
    "else:\n",
    "    bx_12c = []\n",
    "if '12d Not defined' in result:\n",
    "    bx_12d = result['12d Not defined']\n",
    "else:\n",
    "    bx_12d = []\n",
    "bx_13_se = result['Statutory employee']\n",
    "bx_13_rp = result['Retirement plan']\n",
    "bx_13_tpsp = result['Third-party sick pay']\n",
    "if len(result['14 Other']) != 0:\n",
    "    bx_14_type = result['14 Other'][0].split(\" \")[0]\n",
    "    bx_14_amount = result['14 Other'][0].split(\" \")[1]\n",
    "else:\n",
    "    bx_14_type = []\n",
    "    bx_14_amount = []\n",
    "if \"|\" in result['15 State Employer‘s state ID number'][0]:\n",
    "    state = result['15 State Employer‘s state ID number'][0].split(\"|\")[0]\n",
    "    esin = result['15 State Employer‘s state ID number'][0].split(\"|\")[1]\n",
    "else:\n",
    "    state = result['15 State Employer‘s state ID number'][0]\n",
    "    esin = result[\"Employer's State ID Number\"][0]\n",
    "for _ in range(10):\n",
    "    if ' ' in esin:\n",
    "        if type(esin) != list:\n",
    "            tmp = list(esin)\n",
    "            tmp.remove(' ')\n",
    "            esin = \"\".join(tmp)\n",
    "        else:\n",
    "            esin.remove(' ')\n",
    "    else:\n",
    "        break\n",
    "        \n",
    "swte = result['16 State wages, tips, etc']\n",
    "sit = result['17 State income tax']\n",
    "ln = result['20 Locality name']\n",
    "lwte = result['18 Local wages, tips, etc']\n",
    "lit = result['19 Local income tax']\n",
    "\n",
    "rdbs['1'] = ssn\n",
    "rdbs['2'] = first_name\n",
    "rdbs['3'] = last_name\n",
    "rdbs['4'] = state_zip[1]\n",
    "rdbs['5'] = street\n",
    "rdbs['6'] = city\n",
    "rdbs['7'] = state_zip[0]\n",
    "rdbs['8'] = EIN\n",
    "rdbs['9'] = employer_name\n",
    "rdbs['10'] = employer_zip\n",
    "rdbs['11'] = employer_street\n",
    "rdbs['12'] = employer_city\n",
    "rdbs['13'] = employer_state\n",
    "rdbs['14'] = wtc\n",
    "rdbs['15'] = fitw\n",
    "rdbs['16'] = ssw\n",
    "rdbs['17'] = sstw\n",
    "rdbs['18'] = mwat\n",
    "rdbs['19'] = mtw\n",
    "rdbs['20'] = sst\n",
    "rdbs['21'] = at\n",
    "rdbs['22'] = dcb\n",
    "rdbs['23'] = np\n",
    "rdbs['24'] = bx_12a\n",
    "rdbs['25'] = bx_12b\n",
    "rdbs['26'] = bx_12c\n",
    "rdbs['27'] = bx_12d\n",
    "rdbs['28'] = bx_13_se\n",
    "rdbs['29'] = bx_13_rp\n",
    "rdbs['30'] = bx_13_tpsp\n",
    "rdbs['31'] = bx_14_type\n",
    "rdbs['32'] = bx_14_amount\n",
    "rdbs['33'] = state\n",
    "rdbs['34'] = esin\n",
    "rdbs['35'] = swte\n",
    "rdbs['36'] = sit\n",
    "rdbs['37'] = ln\n",
    "rdbs['38'] = lwte\n",
    "rdbs['39'] = lit\n"
   ]
  },
  {
   "cell_type": "code",
   "execution_count": 238,
   "metadata": {
    "collapsed": false
   },
   "outputs": [
    {
     "data": {
      "text/plain": [
       "{'1': '308-27-4383',\n",
       " '10': '75201-6585',\n",
       " '11': '717 N. Harwood Street Suite 3100',\n",
       " '12': 'Dallas',\n",
       " '13': 'TX',\n",
       " '14': 76579.31,\n",
       " '15': 14438.62,\n",
       " '16': 76579.31,\n",
       " '17': 4747.92,\n",
       " '18': 76579.31,\n",
       " '19': 1110.4,\n",
       " '2': 'BOSEOK',\n",
       " '20': [],\n",
       " '21': [],\n",
       " '22': [],\n",
       " '23': [],\n",
       " '24': 'DD | 4583.52',\n",
       " '25': [],\n",
       " '26': [],\n",
       " '27': [],\n",
       " '28': 'N',\n",
       " '29': 'Y',\n",
       " '3': 'IN',\n",
       " '30': 'N',\n",
       " '31': 'CASDI',\n",
       " '32': '765.79',\n",
       " '33': 'CA ',\n",
       " '34': '073-3480—8',\n",
       " '35': 76579.31,\n",
       " '36': 4753.27,\n",
       " '37': [],\n",
       " '38': [],\n",
       " '39': [],\n",
       " '4': '90012',\n",
       " '5': '255 S Grand Ave Apt 610',\n",
       " '6': 'Los Angeles',\n",
       " '7': 'CA',\n",
       " '8': '13-5565207',\n",
       " '9': 'KPMG LLP '}"
      ]
     },
     "execution_count": 238,
     "metadata": {},
     "output_type": "execute_result"
    }
   ],
   "source": [
    "rdbs"
   ]
  },
  {
   "cell_type": "code",
   "execution_count": 239,
   "metadata": {
    "collapsed": true
   },
   "outputs": [],
   "source": [
    "key_list = []\n",
    "for key in rdbs:\n",
    "    key_list.append(key)\n",
    "key_list = sorted(key_list, key=lambda t :int(t))"
   ]
  },
  {
   "cell_type": "code",
   "execution_count": 259,
   "metadata": {
    "collapsed": true
   },
   "outputs": [],
   "source": []
  },
  {
   "cell_type": "code",
   "execution_count": 248,
   "metadata": {
    "collapsed": false
   },
   "outputs": [],
   "source": [
    "value_list = []\n",
    "for key in key_list:\n",
    "    value = '' if rdbs[key] == [] else rdbs[key]\n",
    "    value = str(value) if type(value) != str else value\n",
    "    value_list.append(value)\n",
    "    "
   ]
  },
  {
   "cell_type": "code",
   "execution_count": 249,
   "metadata": {
    "collapsed": false
   },
   "outputs": [
    {
     "data": {
      "text/plain": [
       "('308-27-4383',\n",
       " 'BOSEOK',\n",
       " 'IN',\n",
       " '90012',\n",
       " '255 S Grand Ave Apt 610',\n",
       " 'Los Angeles',\n",
       " 'CA',\n",
       " '13-5565207',\n",
       " 'KPMG LLP ',\n",
       " '75201-6585',\n",
       " '717 N. Harwood Street Suite 3100',\n",
       " 'Dallas',\n",
       " 'TX',\n",
       " '76579.31',\n",
       " '14438.62',\n",
       " '76579.31',\n",
       " '4747.92',\n",
       " '76579.31',\n",
       " '1110.4',\n",
       " '',\n",
       " '',\n",
       " '',\n",
       " '',\n",
       " 'DD | 4583.52',\n",
       " '',\n",
       " '',\n",
       " '',\n",
       " 'N',\n",
       " 'Y',\n",
       " 'N',\n",
       " 'CASDI',\n",
       " '765.79',\n",
       " 'CA ',\n",
       " '073-3480—8',\n",
       " '76579.31',\n",
       " '4753.27',\n",
       " '',\n",
       " '',\n",
       " '')"
      ]
     },
     "execution_count": 249,
     "metadata": {},
     "output_type": "execute_result"
    }
   ],
   "source": [
    "tuple(value_list)"
   ]
  },
  {
   "cell_type": "code",
   "execution_count": 257,
   "metadata": {
    "collapsed": false
   },
   "outputs": [],
   "source": [
    "conn = sqlite3.connect('tax.db')\n",
    "curs = conn.cursor()\n",
    "table_name = 'ace'\n",
    "curs.execute('create table {} (t1 primary key , t2, t3, t4, t5, t6, t7, t8, t9, t10, t11, t12, t13, t14, t15, t16, t17, t18, t19, t20, t21, t22, t23, t24, t25, t26, t27, t28, t29, t30, t31, t32, t33, t34, t35, t36, t37, t38, t39)'.format(table_name))\n",
    "curs.execute('insert into {} values(?,?,?,?,?,?,?,?,?,?,?,?,?,?,?,?,?,?,?,?,?,?,?,?,?,?,?,?,?,?,?,?,?,?,?,?,?,?,?)'.format(table_name), tuple(value_list))\n",
    "conn.commit()\n",
    "conn.close()"
   ]
  },
  {
   "cell_type": "code",
   "execution_count": null,
   "metadata": {
    "collapsed": true
   },
   "outputs": [],
   "source": []
  },
  {
   "cell_type": "code",
   "execution_count": 96,
   "metadata": {
    "collapsed": true
   },
   "outputs": [],
   "source": []
  },
  {
   "cell_type": "code",
   "execution_count": null,
   "metadata": {
    "collapsed": true
   },
   "outputs": [],
   "source": []
  },
  {
   "cell_type": "code",
   "execution_count": null,
   "metadata": {
    "collapsed": true
   },
   "outputs": [],
   "source": []
  },
  {
   "cell_type": "code",
   "execution_count": null,
   "metadata": {
    "collapsed": true
   },
   "outputs": [],
   "source": []
  },
  {
   "cell_type": "code",
   "execution_count": null,
   "metadata": {
    "collapsed": true
   },
   "outputs": [],
   "source": []
  }
 ],
 "metadata": {
  "kernelspec": {
   "display_name": "Python 3",
   "language": "python",
   "name": "python3"
  },
  "language_info": {
   "codemirror_mode": {
    "name": "ipython",
    "version": 3
   },
   "file_extension": ".py",
   "mimetype": "text/x-python",
   "name": "python",
   "nbconvert_exporter": "python",
   "pygments_lexer": "ipython3",
   "version": "3.4.3"
  }
 },
 "nbformat": 4,
 "nbformat_minor": 1
}
