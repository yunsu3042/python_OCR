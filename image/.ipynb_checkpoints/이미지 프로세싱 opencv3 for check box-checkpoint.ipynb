{
 "cells": [
  {
   "cell_type": "code",
   "execution_count": 1,
   "metadata": {
    "collapsed": true
   },
   "outputs": [],
   "source": [
    "import cv2\n",
    "import numpy as np\n",
    "from matplotlib import pyplot as plt\n",
    "from PIL import Image\n",
    "import pytesseract\n",
    "import copy\n",
    "\n",
    "%matplotlib inline\n",
    "%config InlineBackend.figure_format = 'svg'\n"
   ]
  },
  {
   "cell_type": "code",
   "execution_count": 181,
   "metadata": {
    "collapsed": true
   },
   "outputs": [],
   "source": [
    "url = '/Users/yunsu/desktop/python_ocr/ocr_test7.png'"
   ]
  },
  {
   "cell_type": "code",
   "execution_count": 182,
   "metadata": {
    "collapsed": false
   },
   "outputs": [],
   "source": [
    "src = cv2.imread(url)"
   ]
  },
  {
   "cell_type": "code",
   "execution_count": 352,
   "metadata": {
    "collapsed": false
   },
   "outputs": [
    {
     "data": {
      "text/plain": [
       "(76, 1112, 3)"
      ]
     },
     "execution_count": 352,
     "metadata": {},
     "output_type": "execute_result"
    }
   ],
   "source": [
    "src.shape"
   ]
  },
  {
   "cell_type": "code",
   "execution_count": null,
   "metadata": {
    "collapsed": true
   },
   "outputs": [],
   "source": []
  },
  {
   "cell_type": "code",
   "execution_count": 184,
   "metadata": {
    "collapsed": false
   },
   "outputs": [
    {
     "data": {
      "text/plain": [
       "-1"
      ]
     },
     "execution_count": 184,
     "metadata": {},
     "output_type": "execute_result"
    }
   ],
   "source": [
    "cv2.imshow('src', src)\n",
    "cv2.waitKey(0)\n",
    "\n",
    "cv2.destroyAllWindows()\n",
    "cv2.waitKey(1)\n"
   ]
  },
  {
   "cell_type": "code",
   "execution_count": 185,
   "metadata": {
    "collapsed": false
   },
   "outputs": [],
   "source": [
    "gray = cv2.cvtColor(src, cv2.COLOR_BGR2GRAY)"
   ]
  },
  {
   "cell_type": "code",
   "execution_count": 186,
   "metadata": {
    "collapsed": false
   },
   "outputs": [
    {
     "data": {
      "text/plain": [
       "-1"
      ]
     },
     "execution_count": 186,
     "metadata": {},
     "output_type": "execute_result"
    }
   ],
   "source": [
    "cv2.imshow('gray', gray)\n",
    "cv2.waitKey(0)\n",
    "\n",
    "cv2.destroyAllWindows()\n",
    "cv2.waitKey(1)\n"
   ]
  },
  {
   "cell_type": "code",
   "execution_count": 39,
   "metadata": {
    "collapsed": true
   },
   "outputs": [],
   "source": [
    "ret,thresh = cv2.threshold(gray,100 ,255,cv2.THRESH_BINARY_INV)\n"
   ]
  },
  {
   "cell_type": "code",
   "execution_count": 40,
   "metadata": {
    "collapsed": false
   },
   "outputs": [
    {
     "data": {
      "text/plain": [
       "-1"
      ]
     },
     "execution_count": 40,
     "metadata": {},
     "output_type": "execute_result"
    }
   ],
   "source": [
    "cv2.imshow('thresh', thresh)\n",
    "cv2.waitKey(0)\n",
    "\n",
    "cv2.destroyAllWindows()\n",
    "cv2.waitKey(1)\n"
   ]
  },
  {
   "cell_type": "code",
   "execution_count": 41,
   "metadata": {
    "collapsed": true
   },
   "outputs": [],
   "source": [
    "bw = cv2.adaptiveThreshold(~gray, 255, cv2.ADAPTIVE_THRESH_MEAN_C, cv2.THRESH_BINARY, 15, -5)"
   ]
  },
  {
   "cell_type": "code",
   "execution_count": 42,
   "metadata": {
    "collapsed": false
   },
   "outputs": [
    {
     "data": {
      "text/plain": [
       "-1"
      ]
     },
     "execution_count": 42,
     "metadata": {},
     "output_type": "execute_result"
    }
   ],
   "source": [
    "cv2.imshow('bw', bw)\n",
    "cv2.waitKey(0)\n",
    "cv2.destroyAllWindows() \n",
    "cv2.waitKey(1)"
   ]
  },
  {
   "cell_type": "code",
   "execution_count": 59,
   "metadata": {
    "collapsed": true
   },
   "outputs": [],
   "source": [
    "horizontal = bw.copy()\n",
    "vertical = bw.copy()"
   ]
  },
  {
   "cell_type": "code",
   "execution_count": 60,
   "metadata": {
    "collapsed": false
   },
   "outputs": [],
   "source": [
    "v_size = vertical.shape[0]//2\n",
    "v_size2 = max(1, vertical.shape[0]//100)\n",
    "v_struct = cv2.getStructuringElement(cv2.MORPH_RECT, (1, v_size))\n",
    "v_struct2 = cv2.getStructuringElement(cv2.MORPH_RECT, (1, v_size2))\n",
    "v_sub = cv2.erode(vertical, v_struct, iterations=1)\n",
    "v_final = cv2.dilate(v_sub, v_struct, iterations=1)\n",
    "v_final = cv2.dilate(v_final, v_struct2, iterations=1)"
   ]
  },
  {
   "cell_type": "code",
   "execution_count": 45,
   "metadata": {
    "collapsed": false
   },
   "outputs": [
    {
     "data": {
      "text/plain": [
       "-1"
      ]
     },
     "execution_count": 45,
     "metadata": {},
     "output_type": "execute_result"
    }
   ],
   "source": [
    "cv2.imshow('vertical', v_final)\n",
    "cv2.waitKey(0)\n",
    "cv2.destroyAllWindows() \n",
    "cv2.waitKey(1)"
   ]
  },
  {
   "cell_type": "code",
   "execution_count": 68,
   "metadata": {
    "collapsed": false
   },
   "outputs": [
    {
     "data": {
      "text/plain": [
       "37"
      ]
     },
     "execution_count": 68,
     "metadata": {},
     "output_type": "execute_result"
    }
   ],
   "source": [
    "h_size = horizontal.shape[1]//30\n",
    "# h_size2 = max(1, horizontal.shape[1]//100)\n",
    "h_struct = cv2.getStructuringElement(cv2.MORPH_RECT,(h_size,1))\n",
    "h_struct2 = cv2.getStructuringElement(cv2.MORPH_RECT,(v_size2,1))\n",
    "h_sub = cv2.erode(horizontal, h_struct, iterations = 1)\n",
    "h_final = cv2.dilate(h_sub, h_struct, iterations = 1)\n",
    "h_final = cv2.dilate(h_final, h_struct2, iterations = 1)\n",
    "h_size"
   ]
  },
  {
   "cell_type": "code",
   "execution_count": 69,
   "metadata": {
    "collapsed": false
   },
   "outputs": [
    {
     "data": {
      "text/plain": [
       "3"
      ]
     },
     "execution_count": 69,
     "metadata": {},
     "output_type": "execute_result"
    }
   ],
   "source": [
    "# \n",
    "h_final[h_final >= 200] = 255\n",
    "wit = 0\n",
    "wit_list = []\n",
    "\n",
    "for i in range(h_final.shape[1]):\n",
    "    if sum(h_final[:, i]) >= 255 * 2 :\n",
    "        break\n",
    "for p in h_final[:,i]:\n",
    "    if p == 255:\n",
    "        wit += 1\n",
    "    else: \n",
    "        wit_list.append(wit)\n",
    "        wit = 0\n",
    "line_wit = max(wit_list)\n",
    "line_wit"
   ]
  },
  {
   "cell_type": "code",
   "execution_count": 70,
   "metadata": {
    "collapsed": false
   },
   "outputs": [
    {
     "data": {
      "text/plain": [
       "-1"
      ]
     },
     "execution_count": 70,
     "metadata": {},
     "output_type": "execute_result"
    }
   ],
   "source": [
    "cv2.imshow('horizontal', h_final)\n",
    "cv2.waitKey(0)\n",
    "cv2.destroyAllWindows() \n",
    "cv2.waitKey(1)"
   ]
  },
  {
   "cell_type": "code",
   "execution_count": 71,
   "metadata": {
    "collapsed": true
   },
   "outputs": [],
   "source": [
    "mask = h_final + v_final"
   ]
  },
  {
   "cell_type": "code",
   "execution_count": 72,
   "metadata": {
    "collapsed": false
   },
   "outputs": [
    {
     "data": {
      "text/plain": [
       "-1"
      ]
     },
     "execution_count": 72,
     "metadata": {},
     "output_type": "execute_result"
    }
   ],
   "source": [
    "cv2.imshow('mask', mask)\n",
    "cv2.waitKey(0)\n",
    "cv2.destroyAllWindows() \n",
    "cv2.waitKey(1)"
   ]
  },
  {
   "cell_type": "code",
   "execution_count": 73,
   "metadata": {
    "collapsed": true
   },
   "outputs": [],
   "source": [
    "joints = cv2.bitwise_and(v_final, h_final)"
   ]
  },
  {
   "cell_type": "code",
   "execution_count": 74,
   "metadata": {
    "collapsed": false
   },
   "outputs": [
    {
     "data": {
      "text/plain": [
       "-1"
      ]
     },
     "execution_count": 74,
     "metadata": {},
     "output_type": "execute_result"
    }
   ],
   "source": [
    "cv2.imshow('joint', joints)\n",
    "cv2.waitKey(0)\n",
    "cv2.destroyAllWindows() \n",
    "cv2.waitKey(1)"
   ]
  },
  {
   "cell_type": "code",
   "execution_count": 75,
   "metadata": {
    "collapsed": false
   },
   "outputs": [],
   "source": [
    "def second(x):\n",
    "    return x[1]\n",
    "\n",
    "for i in range(joints.shape[0]):\n",
    "    for j in range(joints.shape[1]):\n",
    "        if joints[i][j] !=0:\n",
    "            joints[i - 2: i + 7, j - 2: j + 7] = 0\n",
    "            joints[i][j] = 255\n",
    "points = {}\n",
    "one_line = []\n",
    "tmp = []\n",
    "k = 0\n",
    "            \n",
    "for i in range(joints.shape[0]):\n",
    "    for j in range(joints.shape[1]):\n",
    "        if joints[i][j] == 255:\n",
    "            one_line.append((i,j))\n",
    "            \n",
    "            \n",
    "fst = one_line[0]\n",
    "for pos in one_line:\n",
    "    plow = fst[0]\n",
    "    allow = int(joints.shape[0] * 0.03)\n",
    "    rng = range(max(0, plow - allow), min(joints.shape[0] - 1, plow + allow))\n",
    "    if pos[0] in rng:\n",
    "        tmp.append(pos)\n",
    "    else:\n",
    "        sorted(tmp, key=second)\n",
    "        k += 1\n",
    "        points['line' + str(k)] = tmp\n",
    "        tmp = []\n",
    "        fst = pos\n",
    "        tmp.append(pos)\n",
    "k += 1\n",
    "points['line' + str(k)] = tmp\n",
    "\n"
   ]
  },
  {
   "cell_type": "code",
   "execution_count": 103,
   "metadata": {
    "collapsed": true
   },
   "outputs": [],
   "source": [
    "# 점 주위에 박스처리 해주는 기능\n",
    "depth = max(3, v_size2 + line_wit)\n",
    "box = np.zeros_like(mask)\n",
    "for i in range(1, len(points) + 1):\n",
    "    line = points['line' + str(i)]\n",
    "    for idx, p in enumerate(line):\n",
    "        box[max(0, p[0] - depth) , max(0, p[1] - depth) : min(joints.shape[1] - 1, p[1] + depth)] = 255\n",
    "        box[max(0, p[0] - depth) : min(joints.shape[0] - 1, p[0] + depth), max(0, p[1] - depth)] = 255\n",
    "        box[min(joints.shape[0] - 1, p[0] + depth), \n",
    "                         max(0, p[1] - depth) : min(joints.shape[1] -1 ,p[1] + depth)] = 255\n",
    "        box[min(joints.shape[0] - 1, p[0] - depth) : min(joints.shape[0] - 1, p[0] + depth), \n",
    "                         min(joints.shape[1] -1 ,p[1] + depth)] = 255\n"
   ]
  },
  {
   "cell_type": "code",
   "execution_count": 104,
   "metadata": {
    "collapsed": true
   },
   "outputs": [],
   "source": [
    "boxed = box + mask"
   ]
  },
  {
   "cell_type": "code",
   "execution_count": 105,
   "metadata": {
    "collapsed": false
   },
   "outputs": [
    {
     "data": {
      "text/plain": [
       "-1"
      ]
     },
     "execution_count": 105,
     "metadata": {},
     "output_type": "execute_result"
    }
   ],
   "source": [
    "cv2.imshow('boxed', boxed)\n",
    "cv2.waitKey(0)\n",
    "cv2.destroyAllWindows() \n",
    "cv2.waitKey(1)"
   ]
  },
  {
   "cell_type": "code",
   "execution_count": 106,
   "metadata": {
    "collapsed": true
   },
   "outputs": [],
   "source": [
    "# 좌표에 컨디션을 부과해주는 함수\n",
    "mask[mask > 240] = 255\n",
    "depth = max(3, v_size2 + line_wit)\n",
    "c_points = copy.deepcopy(points)\n",
    "for i in range(1, len(c_points) + 1):\n",
    "    line = c_points['line' + str(i)]\n",
    "    for idx, p in enumerate(line):\n",
    "        tmp = ''\n",
    "        c1 = 255 in mask[max(0, p[0] - depth) , max(0, p[1] - depth) : min(joints.shape[1] - 1, p[1] + depth)]\n",
    "        c2 = 255 in mask[max(0, p[0] - depth) : min(joints.shape[0] - 1, p[0] + depth), max(0, p[1] - depth)]\n",
    "        c3 = 255 in mask[min(joints.shape[0] - 1, p[0] + depth), \n",
    "                         max(0, p[1] - depth) : min(joints.shape[1] -1 ,p[1] + depth)] \n",
    "        c4 = 255 in mask[min(joints.shape[0] - 1, p[0] - depth) : min(joints.shape[0] - 1, p[0] + depth), \n",
    "                         min(joints.shape[1] -1 ,p[1] + depth)]\n",
    "        if c1:\n",
    "            tmp += 'c1'\n",
    "        if c2:\n",
    "            tmp += 'c2'\n",
    "        if c3:\n",
    "            tmp += 'c3'\n",
    "        if c4:\n",
    "            tmp += 'c4'\n",
    "        line[idx] = (p, tmp)\n"
   ]
  },
  {
   "cell_type": "code",
   "execution_count": 107,
   "metadata": {
    "collapsed": false
   },
   "outputs": [
    {
     "name": "stdout",
     "output_type": "stream",
     "text": [
      "시작점과 다른 점들의 수가 맞지 않습니다.\n",
      "depth를 더 늘려 수정진행합니다.\n",
      "3\n"
     ]
    }
   ],
   "source": [
    "# 좌표를 각각 시작점, 보조점, 끝점으로 분류해주는 기능.\n",
    "for depth_increase in range(2, 5):\n",
    "    allow = int(joints.shape[1] * 0.02)\n",
    "    is_st = []\n",
    "    is_end = []\n",
    "    is_right = []\n",
    "    is_bot = []\n",
    "    for i in range(1, len(c_points) + 1):\n",
    "        line = c_points['line' + str(i)]\n",
    "        for idx, p in enumerate(line):\n",
    "            if 'c3c4' in p[1]: \n",
    "                is_st.append(p[0])\n",
    "            if 'c1c2' in p[1]:\n",
    "                is_end.append(p[0])\n",
    "            if 'c2c3' in p[1]:\n",
    "                is_right.append(p[0])\n",
    "            if 'c1' in p[1] and 'c4' in p[1]:\n",
    "                is_bot.append(p[0])\n",
    "    if len(is_st) == len(is_right) == len(is_bot) == len(is_end):\n",
    "        break\n",
    "    else:\n",
    "        print(\"시작점과 다른 점들의 수가 맞지 않습니다.\")\n",
    "        print(\"depth를 더 늘려 수정진행합니다.\")\n",
    "        # 좌표에 컨디션을 부과해주는 함수\n",
    "        mask[mask > 240] = 255\n",
    "        depth = max(3, v_size2 + line_wit * depth_increase)\n",
    "        c_points = copy.deepcopy(points)\n",
    "        for i in range(1, len(c_points) + 1):\n",
    "            line = c_points['line' + str(i)]\n",
    "            for idx, p in enumerate(line):\n",
    "                tmp = ''\n",
    "                c1 = 255 in mask[max(0, p[0] - depth) , max(0, p[1] - depth) : min(joints.shape[1] - 1, p[1] + depth)]\n",
    "                c2 = 255 in mask[max(0, p[0] - depth) : min(joints.shape[0] - 1, p[0] + depth), max(0, p[1] - depth)]\n",
    "                c3 = 255 in mask[min(joints.shape[0] - 1, p[0] + depth), \n",
    "                                 max(0, p[1] - depth) : min(joints.shape[1] -1 ,p[1] + depth)] \n",
    "                c4 = 255 in mask[min(joints.shape[0] - 1, p[0] - depth) : min(joints.shape[0] - 1, p[0] + depth), \n",
    "                                 min(joints.shape[1] -1 ,p[1] + depth)]\n",
    "                if c1:\n",
    "                    tmp += 'c1'\n",
    "                if c2:\n",
    "                    tmp += 'c2'\n",
    "                if c3:\n",
    "                    tmp += 'c3'\n",
    "                if c4:\n",
    "                    tmp += 'c4'\n",
    "                line[idx] = (p, tmp)\n"
   ]
  },
  {
   "cell_type": "code",
   "execution_count": 108,
   "metadata": {
    "collapsed": false
   },
   "outputs": [
    {
     "name": "stdout",
     "output_type": "stream",
     "text": [
      "[(24, 55), (25, 481), (25, 896)]\n",
      "[(59, 90), (59, 516), (58, 928)]\n"
     ]
    }
   ],
   "source": [
    "# 자를 좌표를 정해주는 기능\n",
    "st = []\n",
    "end = []\n",
    "allow = int(joints.shape[1] * 0.02)\n",
    "# 스타트 다음에 나오는 right 는 무조건 직전 스타트와 사각형을 이룬다.\n",
    "for idx, p in enumerate(is_st):\n",
    "    st.append(p)\n",
    "    rgt = is_right[idx]\n",
    "    for thing in is_bot:\n",
    "        if thing[1] in range(p[1] - allow, p[1] + allow ):\n",
    "            bot = thing\n",
    "            is_bot.remove(thing)\n",
    "            break\n",
    "    for thing in is_end:\n",
    "        if thing[0] in range(bot[0] - allow, bot[0] + allow ) and thing[1] in range(rgt[1] - allow, rgt[1] + allow):\n",
    "            end.append(thing)\n",
    "            is_end.remove(thing)\n",
    "            break\n",
    "print(st)\n",
    "print(end)\n",
    "        "
   ]
  },
  {
   "cell_type": "code",
   "execution_count": 321,
   "metadata": {
    "collapsed": false
   },
   "outputs": [],
   "source": [
    "def make_crack_box(ful_img, st, end, line_wit):\n",
    "    img_list = []\n",
    "\n",
    "    for i in range(len(st)):\n",
    "        tmp = ful_img.crop((st[i][1]+ line_wit *2, st[i][0] + line_wit * 2, end[i][1], end[i][0]))\n",
    "        img_list.append(tmp)\n",
    "    return img_list\n"
   ]
  },
  {
   "cell_type": "code",
   "execution_count": 351,
   "metadata": {
    "collapsed": false
   },
   "outputs": [
    {
     "name": "stdout",
     "output_type": "stream",
     "text": [
      "0: None\n",
      "1 : x\n",
      "2: None\n"
     ]
    }
   ],
   "source": [
    "img = Image.fromarray(gray)\n",
    "img_list = make_crack_box(ful_img=img, st=st, end=end, line_wit=line_wit)\n",
    "for idx, image in enumerate(img_list):\n",
    "    gr = np.array(image)\n",
    "    ret, thresh = cv2.threshold(gr, 70 ,255, cv2.THRESH_BINARY_INV)\n",
    "    if np.sum(thresh)/thresh.size > 10:\n",
    "        print(\"{} : x\".format(idx))\n",
    "    else:\n",
    "        print(\"{}: None\".format(idx))"
   ]
  },
  {
   "cell_type": "code",
   "execution_count": 349,
   "metadata": {
    "collapsed": false
   },
   "outputs": [
    {
     "data": {
      "text/plain": [
       "0.0"
      ]
     },
     "execution_count": 349,
     "metadata": {},
     "output_type": "execute_result"
    }
   ],
   "source": []
  },
  {
   "cell_type": "code",
   "execution_count": 362,
   "metadata": {
    "collapsed": true
   },
   "outputs": [],
   "source": [
    "def make_crack_box(ful_img, st, end, line_wit):\n",
    "    img_list = []\n",
    "\n",
    "    for i in range(len(st)):\n",
    "        tmp = ful_img.crop((st[i][1]+ line_wit *2, st[i][0] + line_wit * 2, end[i][1], end[i][0]))\n",
    "        img_list.append(tmp)\n",
    "    return img_list\n",
    "\n",
    "def sub_puzzle(img):\n",
    "    gray = np.array(img)\n",
    "    cv2.imshow('gray', gray)\n",
    "    cv2.waitKey(0)\n",
    "\n",
    "    cv2.destroyAllWindows()\n",
    "    cv2.waitKey(1)\n",
    "\n",
    "    bw = cv2.adaptiveThreshold(~gray, 255, cv2.ADAPTIVE_THRESH_MEAN_C, cv2.THRESH_BINARY, 15, -5)\n",
    "    cv2.imshow('bw', bw)\n",
    "    cv2.waitKey(0)\n",
    "    cv2.destroyAllWindows() \n",
    "    cv2.waitKey(1)\n",
    "\n",
    "    horizontal = bw.copy()\n",
    "    vertical = bw.copy()\n",
    "\n",
    "\n",
    "\n",
    "    v_size = vertical.shape[0]//2\n",
    "    v_size2 = max(1, vertical.shape[0]//100)\n",
    "    v_struct = cv2.getStructuringElement(cv2.MORPH_RECT, (1, v_size))\n",
    "    v_struct2 = cv2.getStructuringElement(cv2.MORPH_RECT, (1, v_size2))\n",
    "    v_sub = cv2.erode(vertical, v_struct, iterations=1)\n",
    "    v_final = cv2.dilate(v_sub, v_struct, iterations=1)\n",
    "    v_final = cv2.dilate(v_final, v_struct2, iterations=1)\n",
    "    cv2.imshow('vertical', v_final)\n",
    "    cv2.waitKey(0)\n",
    "    cv2.destroyAllWindows() \n",
    "    cv2.waitKey(1)\n",
    "\n",
    "    h_size = horizontal.shape[1]//30\n",
    "    # h_size2 = max(1, horizontal.shape[1]//100)\n",
    "    h_struct = cv2.getStructuringElement(cv2.MORPH_RECT,(h_size,1))\n",
    "    h_struct2 = cv2.getStructuringElement(cv2.MORPH_RECT,(v_size2,1))\n",
    "    h_sub = cv2.erode(horizontal, h_struct, iterations = 1)\n",
    "    h_final = cv2.dilate(h_sub, h_struct, iterations = 1)\n",
    "    h_final = cv2.dilate(h_final, h_struct2, iterations = 1)\n",
    "    h_size\n",
    "\n",
    "    # \n",
    "    h_final[h_final >= 200] = 255\n",
    "    wit = 0\n",
    "    wit_list = []\n",
    "\n",
    "    for i in range(h_final.shape[1]):\n",
    "        if sum(h_final[:, i]) >= 255 * 2 :\n",
    "            break\n",
    "    for p in h_final[:,i]:\n",
    "        if p == 255:\n",
    "            wit += 1\n",
    "        else: \n",
    "            wit_list.append(wit)\n",
    "            wit = 0\n",
    "    line_wit = max(wit_list)\n",
    "    line_wit\n",
    "\n",
    "    cv2.imshow('horizontal', h_final)\n",
    "    cv2.waitKey(0)\n",
    "    cv2.destroyAllWindows() \n",
    "    cv2.waitKey(1)\n",
    "    mask = h_final + v_final\n",
    "\n",
    "    cv2.imshow('mask', mask)\n",
    "    cv2.waitKey(0)\n",
    "    cv2.destroyAllWindows() \n",
    "    cv2.waitKey(1)\n",
    "\n",
    "    joints = cv2.bitwise_and(v_final, h_final)\n",
    "    cv2.imshow('joint', joints)\n",
    "    cv2.waitKey(0)\n",
    "    cv2.destroyAllWindows() \n",
    "    cv2.waitKey(1)\n",
    "\n",
    "    def second(x):\n",
    "        return x[1]\n",
    "\n",
    "    for i in range(joints.shape[0]):\n",
    "        for j in range(joints.shape[1]):\n",
    "            if joints[i][j] !=0:\n",
    "                joints[i - 2: i + 7, j - 2: j + 7] = 0\n",
    "                joints[i][j] = 255\n",
    "    points = {}\n",
    "    one_line = []\n",
    "    tmp = []\n",
    "    k = 0\n",
    "\n",
    "    for i in range(joints.shape[0]):\n",
    "        for j in range(joints.shape[1]):\n",
    "            if joints[i][j] == 255:\n",
    "                one_line.append((i,j))\n",
    "\n",
    "\n",
    "    fst = one_line[0]\n",
    "    for pos in one_line:\n",
    "        plow = fst[0]\n",
    "        allow = int(joints.shape[0] * 0.03)\n",
    "        rng = range(max(0, plow - allow), min(joints.shape[0] - 1, plow + allow))\n",
    "        if pos[0] in rng:\n",
    "            tmp.append(pos)\n",
    "        else:\n",
    "            sorted(tmp, key=second)\n",
    "            k += 1\n",
    "            points['line' + str(k)] = tmp\n",
    "            tmp = []\n",
    "            fst = pos\n",
    "            tmp.append(pos)\n",
    "    k += 1\n",
    "    points['line' + str(k)] = tmp\n",
    "\n",
    "\n",
    "    # 점 주위에 박스처리 해주는 기능\n",
    "    depth = max(3, v_size2 + line_wit)\n",
    "    box = np.zeros_like(mask)\n",
    "    for i in range(1, len(points) + 1):\n",
    "        line = points['line' + str(i)]\n",
    "        for idx, p in enumerate(line):\n",
    "            box[max(0, p[0] - depth) , max(0, p[1] - depth) : min(joints.shape[1] - 1, p[1] + depth)] = 255\n",
    "            box[max(0, p[0] - depth) : min(joints.shape[0] - 1, p[0] + depth), max(0, p[1] - depth)] = 255\n",
    "            box[min(joints.shape[0] - 1, p[0] + depth), \n",
    "                             max(0, p[1] - depth) : min(joints.shape[1] -1 ,p[1] + depth)] = 255\n",
    "            box[min(joints.shape[0] - 1, p[0] - depth) : min(joints.shape[0] - 1, p[0] + depth), \n",
    "                             min(joints.shape[1] -1 ,p[1] + depth)] = 255\n",
    "\n",
    "    boxed = box + mask\n",
    "    cv2.imshow('boxed', boxed)\n",
    "    cv2.waitKey(0)\n",
    "    cv2.destroyAllWindows() \n",
    "    cv2.waitKey(1)\n",
    "\n",
    "    # 좌표에 컨디션을 부과해주는 함수\n",
    "    mask[mask > 240] = 255\n",
    "    depth = max(3, v_size2 + line_wit)\n",
    "    c_points = copy.deepcopy(points)\n",
    "    for i in range(1, len(c_points) + 1):\n",
    "        line = c_points['line' + str(i)]\n",
    "        for idx, p in enumerate(line):\n",
    "            tmp = ''\n",
    "            c1 = 255 in mask[max(0, p[0] - depth) , max(0, p[1] - depth) : min(joints.shape[1] - 1, p[1] + depth)]\n",
    "            c2 = 255 in mask[max(0, p[0] - depth) : min(joints.shape[0] - 1, p[0] + depth), max(0, p[1] - depth)]\n",
    "            c3 = 255 in mask[min(joints.shape[0] - 1, p[0] + depth), \n",
    "                             max(0, p[1] - depth) : min(joints.shape[1] -1 ,p[1] + depth)] \n",
    "            c4 = 255 in mask[min(joints.shape[0] - 1, p[0] - depth) : min(joints.shape[0] - 1, p[0] + depth), \n",
    "                             min(joints.shape[1] -1 ,p[1] + depth)]\n",
    "            if c1:\n",
    "                tmp += 'c1'\n",
    "            if c2:\n",
    "                tmp += 'c2'\n",
    "            if c3:\n",
    "                tmp += 'c3'\n",
    "            if c4:\n",
    "                tmp += 'c4'\n",
    "            line[idx] = (p, tmp)\n",
    "    # 좌표를 각각 시작점, 보조점, 끝점으로 분류해주는 기능.\n",
    "    for depth_increase in range(2, 5):\n",
    "        allow = int(joints.shape[1] * 0.02)\n",
    "        is_st = []\n",
    "        is_end = []\n",
    "        is_right = []\n",
    "        is_bot = []\n",
    "        for i in range(1, len(c_points) + 1):\n",
    "            line = c_points['line' + str(i)]\n",
    "            for idx, p in enumerate(line):\n",
    "                if 'c3c4' in p[1]: \n",
    "                    is_st.append(p[0])\n",
    "                if 'c1c2' in p[1]:\n",
    "                    is_end.append(p[0])\n",
    "                if 'c2c3' in p[1]:\n",
    "                    is_right.append(p[0])\n",
    "                if 'c1' in p[1] and 'c4' in p[1]:\n",
    "                    is_bot.append(p[0])\n",
    "        if len(is_st) == len(is_right) == len(is_bot) == len(is_end):\n",
    "            break\n",
    "        else:\n",
    "            print(\"시작점과 다른 점들의 수가 맞지 않습니다.\")\n",
    "            print(\"depth를 더 늘려 수정진행합니다.\")\n",
    "            depth = max(3, v_size2 + line_wit * depth_increase)\n",
    "            box = np.zeros_like(mask)\n",
    "            for i in range(1, len(points) + 1):\n",
    "                line = points['line' + str(i)]\n",
    "                for idx, p in enumerate(line):\n",
    "                    box[max(0, p[0] - depth) , max(0, p[1] - depth) : min(joints.shape[1] - 1, p[1] + depth)] = 255\n",
    "                    box[max(0, p[0] - depth) : min(joints.shape[0] - 1, p[0] + depth), max(0, p[1] - depth)] = 255\n",
    "                    box[min(joints.shape[0] - 1, p[0] + depth), \n",
    "                                     max(0, p[1] - depth) : min(joints.shape[1] -1 ,p[1] + depth)] = 255\n",
    "                    box[min(joints.shape[0] - 1, p[0] - depth) : min(joints.shape[0] - 1, p[0] + depth), \n",
    "                                     min(joints.shape[1] -1 ,p[1] + depth)] = 255\n",
    "\n",
    "            boxed = box + mask\n",
    "            cv2.imshow('boxed', boxed)\n",
    "            cv2.waitKey(0)\n",
    "            cv2.destroyAllWindows() \n",
    "            cv2.waitKey(1)\n",
    "            # 좌표에 컨디션을 부과해주는 함수\n",
    "            mask[mask > 240] = 255\n",
    "            depth = max(3, v_size2 + line_wit * depth_increase)\n",
    "            c_points = copy.deepcopy(points)\n",
    "            for i in range(1, len(c_points) + 1):\n",
    "                line = c_points['line' + str(i)]\n",
    "                for idx, p in enumerate(line):\n",
    "                    tmp = ''\n",
    "                    c1 = 255 in mask[max(0, p[0] - depth) , max(0, p[1] - depth) : min(joints.shape[1] - 1, p[1] + depth)]\n",
    "                    c2 = 255 in mask[max(0, p[0] - depth) : min(joints.shape[0] - 1, p[0] + depth), max(0, p[1] - depth)]\n",
    "                    c3 = 255 in mask[min(joints.shape[0] - 1, p[0] + depth), \n",
    "                                     max(0, p[1] - depth) : min(joints.shape[1] -1 ,p[1] + depth)] \n",
    "                    c4 = 255 in mask[min(joints.shape[0] - 1, p[0] - depth) : min(joints.shape[0] - 1, p[0] + depth), \n",
    "                                     min(joints.shape[1] -1 ,p[1] + depth)]\n",
    "                    if c1:\n",
    "                        tmp += 'c1'\n",
    "                    if c2:\n",
    "                        tmp += 'c2'\n",
    "                    if c3:\n",
    "                        tmp += 'c3'\n",
    "                    if c4:\n",
    "                        tmp += 'c4'\n",
    "                    line[idx] = (p, tmp)\n",
    "\n",
    "\n",
    "    # 자를 좌표를 정해주는 기능\n",
    "    st = []\n",
    "    end = []\n",
    "    allow = int(joints.shape[1] * 0.02)\n",
    "    # 스타트 다음에 나오는 right 는 무조건 직전 스타트와 사각형을 이룬다.\n",
    "    for idx, p in enumerate(is_st):\n",
    "        st.append(p)\n",
    "        rgt = is_right[idx]\n",
    "        for thing in is_bot:\n",
    "            if thing[1] in range(p[1] - allow, p[1] + allow ):\n",
    "                bot = thing\n",
    "                is_bot.remove(thing)\n",
    "                break\n",
    "        for thing in is_end:\n",
    "            if thing[0] in range(bot[0] - allow, bot[0] + allow ) and thing[1] in range(rgt[1] - allow, rgt[1] + allow):\n",
    "                end.append(thing)\n",
    "                is_end.remove(thing)\n",
    "                break\n",
    "\n",
    "    img = Image.fromarray(gray)\n",
    "    img_list = make_crack_box(ful_img=img, st=st, end=end, line_wit=line_wit)\n",
    "    choice = ['Statutory Employee', 'Retirement Plan', 'Third-party sick pay']\n",
    "    for idx, image in enumerate(img_list):\n",
    "        gr = np.array(image)\n",
    "        ret, thresh = cv2.threshold(gr, 70 ,255, cv2.THRESH_BINARY_INV)\n",
    "        if np.sum(thresh)/thresh.size > 10:\n",
    "            print(\"{} : Yes\".format(choice[idx]))\n",
    "        else:\n",
    "            print(\"{}: None\".format(choice[idx]))\n",
    "        "
   ]
  },
  {
   "cell_type": "code",
   "execution_count": 363,
   "metadata": {
    "collapsed": true
   },
   "outputs": [],
   "source": [
    "img = Image.open(url)"
   ]
  },
  {
   "cell_type": "code",
   "execution_count": 364,
   "metadata": {
    "collapsed": false
   },
   "outputs": [
    {
     "data": {
      "image/png": "[encoded data removed]",
      "text/plain": [
       "<PIL.PngImagePlugin.PngImageFile image mode=RGBA size=1112x76 at 0x110F4F898>"
      ]
     },
     "execution_count": 364,
     "metadata": {},
     "output_type": "execute_result"
    }
   ],
   "source": [
    "img"
   ]
  },
  {
   "cell_type": "code",
   "execution_count": 365,
   "metadata": {
    "collapsed": false
   },
   "outputs": [
    {
     "name": "stdout",
     "output_type": "stream",
     "text": [
      "시작점과 다른 점들의 수가 맞지 않습니다.\n",
      "depth를 더 늘려 수정진행합니다.\n",
      "Statutory Employee: None\n",
      "Retirement Plan : Yes\n",
      "Third-party sick pay: None\n"
     ]
    }
   ],
   "source": [
    "sub_puzzle(img)"
   ]
  },
  {
   "cell_type": "code",
   "execution_count": null,
   "metadata": {
    "collapsed": true
   },
   "outputs": [],
   "source": []
  }
 ],
 "metadata": {
  "kernelspec": {
   "display_name": "Python 3",
   "language": "python",
   "name": "python3"
  },
  "language_info": {
   "codemirror_mode": {
    "name": "ipython",
    "version": 3
   },
   "file_extension": ".py",
   "mimetype": "text/x-python",
   "name": "python",
   "nbconvert_exporter": "python",
   "pygments_lexer": "ipython3",
   "version": "3.4.3"
  }
 },
 "nbformat": 4,
 "nbformat_minor": 1
}
