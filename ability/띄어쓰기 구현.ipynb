{
 "cells": [
  {
   "cell_type": "code",
   "execution_count": 1,
   "metadata": {
    "collapsed": false
   },
   "outputs": [
    {
     "name": "stdout",
     "output_type": "stream",
     "text": [
      "loading param pickles\n",
      "done\n",
      "loadind data pickles\n",
      "done\n"
     ]
    }
   ],
   "source": [
    "# coding: utf-8\n",
    "import os,sys\n",
    "sys.path.append(os.pardir)  #| 부모 디렉터리의 파일을 가져올 수 있도록 설정\n",
    "sys.path.append(\"/Users/yunsu/mysite-projects/selenium\")\n",
    "import numpy as np\n",
    "from net.deep_convnet import DeepConvNet\n",
    "from dataset.ocrdata import load_dataset\n",
    "import pickle, string\n",
    "from python_ocr import *\n",
    "from PIL import Image\n",
    "from matplotlib import pyplot as plt\n",
    "\n",
    "\n",
    "file_path = '/Users/yunsu/Desktop/book_reading/study_by_self/load/ocrparams2.pk1'\n",
    "network = DeepConvNet(output_size=26, file_path=file_path)  \n",
    "(x_train, t_train), (x_test, t_test) = load_dataset()\n"
   ]
  },
  {
   "cell_type": "code",
   "execution_count": 4,
   "metadata": {
    "collapsed": true
   },
   "outputs": [],
   "source": [
    "url = \"/Users/yunsu/desktop/python_ocr/ocr_test1.png\""
   ]
  },
  {
   "cell_type": "code",
   "execution_count": 17,
   "metadata": {
    "collapsed": false
   },
   "outputs": [
    {
     "data": {
      "image/png": "[encoded data removed]",
      "text/plain": [
       "<PIL.Image.Image image mode=L size=625x42 at 0x11252EEB8>"
      ]
     },
     "execution_count": 17,
     "metadata": {},
     "output_type": "execute_result"
    }
   ],
   "source": [
    "lines[0]"
   ]
  },
  {
   "cell_type": "code",
   "execution_count": 98,
   "metadata": {
    "collapsed": false
   },
   "outputs": [],
   "source": [
    "pos , max_wit = x_cordinate(img=lines[0])"
   ]
  },
  {
   "cell_type": "code",
   "execution_count": 99,
   "metadata": {
    "collapsed": false
   },
   "outputs": [],
   "source": [
    "a = pos[0]\n",
    "a.append(pos[1][-1])\n",
    "b = pos[1]\n",
    "b.insert(0,0)\n",
    "thre = 5\n",
    "space_list = []\n",
    "idx = 0\n",
    "for x, y in zip(a, b):\n",
    "    if abs(x - y) > thre:\n",
    "        space_list.append(idx)\n",
    "    idx += 1\n"
   ]
  },
  {
   "cell_type": "code",
   "execution_count": 59,
   "metadata": {
    "collapsed": false
   },
   "outputs": [
    {
     "ename": "NameError",
     "evalue": "name 'space' is not defined",
     "output_type": "error",
     "traceback": [
      "\u001b[0;31m---------------------------------------------------------------------------\u001b[0m",
      "\u001b[0;31mNameError\u001b[0m                                 Traceback (most recent call last)",
      "\u001b[0;32m<ipython-input-59-f945ece6b359>\u001b[0m in \u001b[0;36m<module>\u001b[0;34m()\u001b[0m\n\u001b[0;32m----> 1\u001b[0;31m \u001b[0mspace\u001b[0m\u001b[0;34m\u001b[0m\u001b[0m\n\u001b[0m",
      "\u001b[0;31mNameError\u001b[0m: name 'space' is not defined"
     ]
    }
   ],
   "source": [
    "space"
   ]
  },
  {
   "cell_type": "code",
   "execution_count": 70,
   "metadata": {
    "collapsed": true
   },
   "outputs": [],
   "source": [
    "def crop_(url):\n",
    "    ful_img = Image.open(url)\n",
    "    plt.imshow(ful_img)\n",
    "    plt.axis(\"off\")\n",
    "    plt.show()\n",
    "    lines = y_crop(url=url)\n",
    "    characters = {}\n",
    "    space_dic = {}\n",
    "    for idx, line in enumerate(lines):\n",
    "        characters[\"line\" + str(idx + 1)] = []\n",
    "        width,height = line.size\n",
    "        cropby, max_wit = x_cordinate(img=line)\n",
    "        space_dic['line' + str(idx + 1)] = find_space(cropby)\n",
    "        for pos in range(len(cropby[0])):\n",
    "            char = line.crop((cropby[0][pos], 0, cropby[1][pos], height))\n",
    "            top, bot = y_cordinate_(img=char)\n",
    "            w, h = char.size\n",
    "            char = char.crop((0, top[0], w, bot[0]))\n",
    "            hgt = bot[0] - top[0]\n",
    "            extra_h = height - hgt\n",
    "            wit = cropby[1][pos] - cropby[0][pos]\n",
    "            extra_w = max_wit - wit \n",
    "            arr = np.array(char)\n",
    "            arr = add_row(arr, where='high', n=extra_h//2)\n",
    "            arr = add_row(arr, where='low', n=extra_h//2)\n",
    "            arr = add_col(arr, where=\"left\", n=extra_w//2 )\n",
    "            arr = add_col(arr, where='right', n=extra_w//2)\n",
    "            char = Image.fromarray(arr)\n",
    "            characters[\"line\" + str(idx + 1)].append(char)\n",
    "    \n",
    "    return characters, space_dic\n",
    "\n",
    "def find_space(cropby):\n",
    "    poss = cropby[0].copy(), cropby[1].copy()\n",
    "    a = poss[0]\n",
    "    a.append(poss[1][-1])\n",
    "    b = poss[1]\n",
    "    b.insert(0,0)\n",
    "    thre = 5\n",
    "    space_list = []\n",
    "    idx = 0\n",
    "    for x, y in zip(a, b):\n",
    "        if abs(x - y) > thre:\n",
    "            space_list.append(idx)\n",
    "        idx += 1\n",
    "    return space_list"
   ]
  },
  {
   "cell_type": "code",
   "execution_count": 126,
   "metadata": {
    "collapsed": true
   },
   "outputs": [],
   "source": [
    "# coding: utf-8\n",
    "import string\n",
    "import os,sys\n",
    "import collections\n",
    "sys.path.append(os.pardir)  #| 부모 디렉터리의 파일을 가져올 수 있도록 설정\n",
    "sys.path.append(\"/Users/yunsu/mysite-projects/selenium\")\n",
    "import numpy as np\n",
    "from net.deep_convnet2 import DeepConvNet\n",
    "from dataset.ocrdata import load_dataset\n",
    "import pickle\n",
    "from python_ocr import *\n",
    "from PIL import Image\n",
    "from matplotlib import pyplot as plt\n",
    "\n",
    "def chrs_process(char):\n",
    "    if char.size[0]< 28 and char.size[1] <28:\n",
    "        tmp = round(28/max(char.size) + 0.5)\n",
    "        t = (char.size[0]*tmp, char.size[1]*tmp)\n",
    "        char = char.resize(t)\n",
    "        char.thumbnail((28, 28))\n",
    "        char = char.convert(\"L\")\n",
    "        char = np.array(char)\n",
    "        mask = (char >=170)\n",
    "        char[mask] = 255\n",
    "        char = make_matrix(char, size=(28,28))\n",
    "        char = clean_(char)\n",
    "        char = make_matrix(char, size=(28,28))\n",
    "\n",
    "    else:\n",
    "        vw, vh = vacant_margin(char)\n",
    "        thumb_size = (28, 28)\n",
    "        if max(vw, vh) <= 4:\n",
    "            if max(vw, vh) <= 1:\n",
    "                thumb_size = (24, 24)\n",
    "            elif max(vw, vh) <= 2:\n",
    "                thumb_size = (25, 25)\n",
    "            elif max(vw, vh) <= 3:\n",
    "                thumb_size = (26, 26)\n",
    "            else:\n",
    "                thumb_size = (27, 27)\n",
    "\n",
    "        elif max(vw, vh) > 4 and vh <= 2:\n",
    "            thumb_size = (24, 24)\n",
    "        char.thumbnail(thumb_size)\n",
    "        char = char.convert(\"L\")\n",
    "        char = np.array(char)\n",
    "        char = clean_(char)\n",
    "        char = make_matrix(char, size=(28,28))\n",
    "        char = make_center(arr=char)\n",
    "\n",
    "    return char\n",
    "\n",
    "\n",
    "def ocr(chrs, x_helper, space_dic):\n",
    "    idx = 0\n",
    "    enter = [0]\n",
    "    phrase = []\n",
    "    num_lines = len(chrs)\n",
    "    for i in range(1, num_lines + 1):\n",
    "        line = 'line' + str(i)\n",
    "        for char in chrs[line]:\n",
    "            char = chrs_process(char)\n",
    "            char = char.reshape(1,28,28)\n",
    "            phrase.append(char)\n",
    "            idx += 1\n",
    "\n",
    "        enter.append(idx)\n",
    "\n",
    "    phrase = np.array(phrase)\n",
    "    num = phrase.shape[0]\n",
    "    x_helper[0:num] = phrase\n",
    "#     file_path = '/Users/yunsu/Desktop/book_reading/study_by_self/load/ocrparams/E_D_all_FNx1_FNT1_1.pk1'\n",
    "    file_path = '/Users/yunsu/Desktop/book_reading/study_by_self/load/ocrparams/E_D_all_ver3_FNT1_FNx1.pk1'\n",
    "\n",
    "\n",
    "    network = DeepConvNet(output_size=62, file_path=file_path)\n",
    "    \n",
    "    y = np.argmax(network.predict(x_helper)[0:num], axis=1)\n",
    "    print(y)\n",
    "    alphabet_index = np.array(list(range(10)) + list(string.ascii_uppercase) + list(string.ascii_lowercase))\n",
    "    \n",
    "    answer = np.array(alphabet_index[y])\n",
    "    for pushed, new_line in enumerate(enter):\n",
    "        answer = np.insert(answer, new_line + pushed, '\\n')\n",
    "    answer = \"\".join(answer)\n",
    "    split_answer = answer.split(\"\\n\")[1:-1]\n",
    "    for i, line in enumerate(split_answer):\n",
    "        line = list(line)\n",
    "        for idx, space in enumerate(space_dic['line' + str(i + 1)]):\n",
    "            line.insert(space + idx, \" \")\n",
    "        split_answer[i] = \"\".join(line)\n",
    "    answer = \"\\n\".join(split_answer)\n",
    "    answer = \"\\n\" + answer\n",
    "    print(answer)\n",
    "    return None"
   ]
  },
  {
   "cell_type": "code",
   "execution_count": 127,
   "metadata": {
    "collapsed": false
   },
   "outputs": [
    {
     "data": {
      "image/png": "[encoded data removed]",
      "text/plain": [
       "<matplotlib.figure.Figure at 0x10f33f7b8>"
      ]
     },
     "metadata": {},
     "output_type": "display_data"
    }
   ],
   "source": [
    "chrs, space_dic = crop_(url)"
   ]
  },
  {
   "cell_type": "code",
   "execution_count": 128,
   "metadata": {
    "collapsed": false
   },
   "outputs": [
    {
     "ename": "NameError",
     "evalue": "name 'make_center' is not defined",
     "output_type": "error",
     "traceback": [
      "\u001b[0;31m---------------------------------------------------------------------------\u001b[0m",
      "\u001b[0;31mNameError\u001b[0m                                 Traceback (most recent call last)",
      "\u001b[0;32m<ipython-input-128-6921d66ae2b6>\u001b[0m in \u001b[0;36m<module>\u001b[0;34m()\u001b[0m\n\u001b[0;32m----> 1\u001b[0;31m \u001b[0mocr\u001b[0m\u001b[0;34m(\u001b[0m\u001b[0mchrs\u001b[0m\u001b[0;34m,\u001b[0m \u001b[0mx_train\u001b[0m\u001b[0;34m[\u001b[0m\u001b[0;34m:\u001b[0m\u001b[0;36m100\u001b[0m\u001b[0;34m]\u001b[0m\u001b[0;34m,\u001b[0m \u001b[0mspace_dic\u001b[0m\u001b[0;34m)\u001b[0m\u001b[0;34m\u001b[0m\u001b[0m\n\u001b[0m",
      "\u001b[0;32m<ipython-input-126-f6c10b4469d8>\u001b[0m in \u001b[0;36mocr\u001b[0;34m(chrs, x_helper, space_dic)\u001b[0m\n\u001b[1;32m     60\u001b[0m         \u001b[0mline\u001b[0m \u001b[0;34m=\u001b[0m \u001b[0;34m'line'\u001b[0m \u001b[0;34m+\u001b[0m \u001b[0mstr\u001b[0m\u001b[0;34m(\u001b[0m\u001b[0mi\u001b[0m\u001b[0;34m)\u001b[0m\u001b[0;34m\u001b[0m\u001b[0m\n\u001b[1;32m     61\u001b[0m         \u001b[0;32mfor\u001b[0m \u001b[0mchar\u001b[0m \u001b[0;32min\u001b[0m \u001b[0mchrs\u001b[0m\u001b[0;34m[\u001b[0m\u001b[0mline\u001b[0m\u001b[0;34m]\u001b[0m\u001b[0;34m:\u001b[0m\u001b[0;34m\u001b[0m\u001b[0m\n\u001b[0;32m---> 62\u001b[0;31m             \u001b[0mchar\u001b[0m \u001b[0;34m=\u001b[0m \u001b[0mchrs_process\u001b[0m\u001b[0;34m(\u001b[0m\u001b[0mchar\u001b[0m\u001b[0;34m)\u001b[0m\u001b[0;34m\u001b[0m\u001b[0m\n\u001b[0m\u001b[1;32m     63\u001b[0m             \u001b[0mchar\u001b[0m \u001b[0;34m=\u001b[0m \u001b[0mchar\u001b[0m\u001b[0;34m.\u001b[0m\u001b[0mreshape\u001b[0m\u001b[0;34m(\u001b[0m\u001b[0;36m1\u001b[0m\u001b[0;34m,\u001b[0m\u001b[0;36m28\u001b[0m\u001b[0;34m,\u001b[0m\u001b[0;36m28\u001b[0m\u001b[0;34m)\u001b[0m\u001b[0;34m\u001b[0m\u001b[0m\n\u001b[1;32m     64\u001b[0m             \u001b[0mphrase\u001b[0m\u001b[0;34m.\u001b[0m\u001b[0mappend\u001b[0m\u001b[0;34m(\u001b[0m\u001b[0mchar\u001b[0m\u001b[0;34m)\u001b[0m\u001b[0;34m\u001b[0m\u001b[0m\n",
      "\u001b[0;32m<ipython-input-126-f6c10b4469d8>\u001b[0m in \u001b[0;36mchrs_process\u001b[0;34m(char)\u001b[0m\n\u001b[1;32m     47\u001b[0m         \u001b[0mchar\u001b[0m \u001b[0;34m=\u001b[0m \u001b[0mclean_\u001b[0m\u001b[0;34m(\u001b[0m\u001b[0mchar\u001b[0m\u001b[0;34m)\u001b[0m\u001b[0;34m\u001b[0m\u001b[0m\n\u001b[1;32m     48\u001b[0m         \u001b[0mchar\u001b[0m \u001b[0;34m=\u001b[0m \u001b[0mmake_matrix\u001b[0m\u001b[0;34m(\u001b[0m\u001b[0mchar\u001b[0m\u001b[0;34m,\u001b[0m \u001b[0msize\u001b[0m\u001b[0;34m=\u001b[0m\u001b[0;34m(\u001b[0m\u001b[0;36m28\u001b[0m\u001b[0;34m,\u001b[0m\u001b[0;36m28\u001b[0m\u001b[0;34m)\u001b[0m\u001b[0;34m)\u001b[0m\u001b[0;34m\u001b[0m\u001b[0m\n\u001b[0;32m---> 49\u001b[0;31m         \u001b[0mchar\u001b[0m \u001b[0;34m=\u001b[0m \u001b[0mmake_center\u001b[0m\u001b[0;34m(\u001b[0m\u001b[0marr\u001b[0m\u001b[0;34m=\u001b[0m\u001b[0mchar\u001b[0m\u001b[0;34m)\u001b[0m\u001b[0;34m\u001b[0m\u001b[0m\n\u001b[0m\u001b[1;32m     50\u001b[0m \u001b[0;34m\u001b[0m\u001b[0m\n\u001b[1;32m     51\u001b[0m     \u001b[0;32mreturn\u001b[0m \u001b[0mchar\u001b[0m\u001b[0;34m\u001b[0m\u001b[0m\n",
      "\u001b[0;31mNameError\u001b[0m: name 'make_center' is not defined"
     ]
    }
   ],
   "source": [
    "ocr(chrs, x_train[:100], space_dic)"
   ]
  },
  {
   "cell_type": "code",
   "execution_count": 104,
   "metadata": {
    "collapsed": false
   },
   "outputs": [
    {
     "data": {
      "text/plain": [
       "['', '3SocialseMrityW5ges', '23667l78']"
      ]
     },
     "execution_count": 104,
     "metadata": {},
     "output_type": "execute_result"
    }
   ],
   "source": [
    "\"\\n3SocialseMrityW5ges\\n23667l78\".split(\"\\n\")"
   ]
  },
  {
   "cell_type": "code",
   "execution_count": 144,
   "metadata": {
    "collapsed": true
   },
   "outputs": [],
   "source": [
    "img = Image.open(url)"
   ]
  },
  {
   "cell_type": "code",
   "execution_count": 149,
   "metadata": {
    "collapsed": false
   },
   "outputs": [],
   "source": [
    "img = img.convert(\"L\")"
   ]
  },
  {
   "cell_type": "code",
   "execution_count": 42,
   "metadata": {
    "collapsed": true
   },
   "outputs": [],
   "source": [
    "a = ([1,2,3], [4,5,6])"
   ]
  },
  {
   "cell_type": "code",
   "execution_count": 43,
   "metadata": {
    "collapsed": true
   },
   "outputs": [],
   "source": [
    "b = a"
   ]
  },
  {
   "cell_type": "code",
   "execution_count": 47,
   "metadata": {
    "collapsed": false
   },
   "outputs": [
    {
     "data": {
      "text/plain": [
       "1"
      ]
     },
     "execution_count": 47,
     "metadata": {},
     "output_type": "execute_result"
    }
   ],
   "source": [
    "b[0].pop(0)"
   ]
  },
  {
   "cell_type": "code",
   "execution_count": 50,
   "metadata": {
    "collapsed": false
   },
   "outputs": [
    {
     "data": {
      "text/plain": [
       "[2, 3]"
      ]
     },
     "execution_count": 50,
     "metadata": {},
     "output_type": "execute_result"
    }
   ],
   "source": [
    "b[0]"
   ]
  },
  {
   "cell_type": "code",
   "execution_count": 51,
   "metadata": {
    "collapsed": false
   },
   "outputs": [
    {
     "data": {
      "text/plain": [
       "([2, 3], [4, 5, 6])"
      ]
     },
     "execution_count": 51,
     "metadata": {},
     "output_type": "execute_result"
    }
   ],
   "source": [
    "a"
   ]
  },
  {
   "cell_type": "code",
   "execution_count": 125,
   "metadata": {
    "collapsed": true
   },
   "outputs": [],
   "source": [
    "temp = \"3SocialSeMrityW5ges\\n23667.78\""
   ]
  },
  {
   "cell_type": "code",
   "execution_count": 126,
   "metadata": {
    "collapsed": false
   },
   "outputs": [
    {
     "data": {
      "text/plain": [
       "[1, 7, 14]"
      ]
     },
     "execution_count": 126,
     "metadata": {},
     "output_type": "execute_result"
    }
   ],
   "source": [
    "space_list"
   ]
  },
  {
   "cell_type": "code",
   "execution_count": 127,
   "metadata": {
    "collapsed": false
   },
   "outputs": [],
   "source": [
    "line = temp.split(\"\\n\")[0]\n",
    "line = list(line)\n",
    "for idx, space in enumerate(space_list):\n",
    "    line.insert(space + idx, \" \")\n",
    "line = \"\".join(line)"
   ]
  },
  {
   "cell_type": "code",
   "execution_count": 128,
   "metadata": {
    "collapsed": false
   },
   "outputs": [
    {
     "data": {
      "text/plain": [
       "'3SocialSeMrityW5ges\\n23667.78'"
      ]
     },
     "execution_count": 128,
     "metadata": {},
     "output_type": "execute_result"
    }
   ],
   "source": [
    "temp"
   ]
  },
  {
   "cell_type": "code",
   "execution_count": null,
   "metadata": {
    "collapsed": true
   },
   "outputs": [],
   "source": []
  }
 ],
 "metadata": {
  "kernelspec": {
   "display_name": "Python 3",
   "language": "python",
   "name": "python3"
  },
  "language_info": {
   "codemirror_mode": {
    "name": "ipython",
    "version": 3
   },
   "file_extension": ".py",
   "mimetype": "text/x-python",
   "name": "python",
   "nbconvert_exporter": "python",
   "pygments_lexer": "ipython3",
   "version": "3.4.3"
  }
 },
 "nbformat": 4,
 "nbformat_minor": 1
}
