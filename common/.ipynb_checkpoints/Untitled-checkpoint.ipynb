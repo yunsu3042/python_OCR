{
 "cells": [
  {
   "cell_type": "code",
   "execution_count": 424,
   "metadata": {
    "collapsed": false
   },
   "outputs": [],
   "source": [
    "# coding: utf-8\n",
    "import os, sys\n",
    "sys.path.append(os.pardir)\n",
    "import numpy as np\n",
    "from common.functions import *\n",
    "\n",
    "class Relu():\n",
    "    def __init__(self):\n",
    "        self.mask = None\n",
    "        \n",
    "    def forward(self, x):\n",
    "        self.mask = (x <= 0)\n",
    "        out = x.copy()\n",
    "        out[self.mask] = 0\n",
    "        return out\n",
    "    \n",
    "    def backward(self,dout):\n",
    "        dout[self.mask] = 0\n",
    "        dx = dout\n",
    "        return dx\n",
    "\n",
    "class Sigmoid():\n",
    "    def __init__(self):\n",
    "        self.out = None\n",
    "    \n",
    "    def forward(self, x):\n",
    "        out = 1/(1 + np.exp(-x))\n",
    "        self.out = out\n",
    "        return out\n",
    "    \n",
    "    def backward(self, dout):\n",
    "        dx = dout * self.out * (1 - self.out)\n",
    "        return dx\n",
    "    \n",
    "class Affine():\n",
    "    def __init__(self, W, b):\n",
    "        self.W = W\n",
    "        self.b = b\n",
    "        self.x = None\n",
    "        self.original_x_shape = None\n",
    "        self.dW = None\n",
    "        self.db = None\n",
    "    \n",
    "    def forward(self, x):\n",
    "        self.original_x_shape = x.shape\n",
    "        x = x.reshape(x.shape[0], -1)\n",
    "        self.x = x\n",
    "        out = np.dot(x, self.W) + self.b\n",
    "        return out\n",
    "    \n",
    "    def backward(self, dout):\n",
    "        \n",
    "        self.dW = np.dot(self.x.T, dout)\n",
    "        self.db = np.sum(dout, axis=0)\n",
    "        dx = np.dot(dout, self.W.T)\n",
    "        dx = dx.reshape(*self.original_x_shape)\n",
    "        return dx\n",
    "    \n",
    "    \n",
    "class SoftmaxWithLoss():\n",
    "    def __init__(self):\n",
    "        self.x = None\n",
    "        self.y = None\n",
    "        self.t = None\n",
    "        self.loss = None\n",
    "\n",
    "    def forward(self, x, t):\n",
    "        self.y = softmax(x)\n",
    "        self.t = t\n",
    "        self.loss = cross_entropy_error(self.y, self.t)\n",
    "        return self.loss\n",
    "    \n",
    "    def backward(self, dout=1):\n",
    "        batch_size = self.t.shape[0]\n",
    "        dx = (self.t - self.y) / batch_size\n",
    "        return dx\n",
    "    \n",
    "\n",
    "class DropOut():\n",
    "    def __init__(self, dropout_ratio):\n",
    "        self.mask = None\n",
    "        self.dropout_ratio = dropout_ratio\n",
    "        \n",
    "    def forward(self, x):\n",
    "        self.mask = np.random.randn(*x.shape) >= self.dropout_ratio\n",
    "        return x * self.mask\n",
    "    \n",
    "    def backward(self, dout):\n",
    "        return dout * self.mask\n",
    "    \n",
    "\n",
    "class Convolution():\n",
    "    def __init__(self, W, b, stride, pad):\n",
    "        self.W = W\n",
    "        self.b = b\n",
    "        self.stride = stride\n",
    "        self.pad = pad\n",
    "        \n",
    "        self.x = None\n",
    "        self.col = None\n",
    "        self.col_W = None\n",
    "        \n",
    "        self.dW = None\n",
    "        self.db = None\n",
    "        \n",
    "    def forward(self, x):\n",
    "        FN, C, FH, FW = self.W.shape \n",
    "        N, C, H, W = self.x.shape\n",
    "        \n",
    "        out_h = int((H + 2 * pad - FH)/stride) + 1\n",
    "        out_w = int((W + 2 *pad - FW)/stride ) + 1\n",
    "        col = im2col(x, FH, FW, self.stride, self.pad)\n",
    "        col_w = self.W.reshape(FN, -1).T\n",
    "        \n",
    "        out = np.dot(col, col_W) + self.b\n",
    "        out = out.reshape(N, out_h, out_W, -1).transpose(0, 3, 1, 2)\n",
    "        self.x = x\n",
    "        self.col = col\n",
    "        self.col_W = col_W    \n",
    "        return out\n",
    "    \n",
    "    def backward(self, dout):\n",
    "        FN, C, FH, FW = self.W.shape\n",
    "        dout = dout.transpose(0,3,1,2).reshape(-1,FN)\n",
    "        \n",
    "        self.db = np.sum(dout, axis=0)\n",
    "        self.dW = np.dot(self.col.T, dout)\n",
    "        self.dW = self.dW.transpose(1, 0).reshape(FN, C, FH, FW)\n",
    "        \n",
    "        dcol = np.dot(dout, self.col_W.T)\n",
    "        dx = col2im(dcol, self.x.shape, FH, FW, self.stride, self.pad)\n",
    "        \n",
    "        return dx\n",
    "    \n",
    "    \n",
    "    class Pooling():\n",
    "        def __init__(self, pool_h, pool_w, stride=1, pad=0):\n",
    "            self.pool_h = pool_h\n",
    "            self.pool_w = pool_w\n",
    "            self.stride = stride\n",
    "            self.pad = pad\n",
    "            \n",
    "        def forward(self, x):\n",
    "            N, C, H, W = x.shape\n",
    "            out_h = int((H - self.pool_h)/stride + 1)\n",
    "            out_h = int((W - self.pool_w)/stride + 1)\n",
    "            \n",
    "            col = im2col(x, self.pool_h, self.pool_w, self.stride, self.pad)\n",
    "            col = col.reshape(-1, self.pool_h * self.pool_w)\n",
    "            \n",
    "            arg_max = np.argmax(col, axis=1)\n",
    "            out = np.max(col, axis=1)\n",
    "            out = out.reshape(N, out_h, out_w, C).transpose(0, 3, 1, 2)\n",
    "            \n",
    "            self.x = x\n",
    "            self.arg_max = arg_max\n",
    "            return out\n",
    "        \n",
    "        def backward(self, dout):\n",
    "            dout = dout.transpose(0, 2, 3, 1)\n",
    "            pool_size = self.pool_h * self.pool_w\n",
    "            dmax = np.zeros((dout.size, pool_size))\n",
    "            dmax[np.arange(self.arg_max.size), self.arg_max.flatten()] = dout.flatten()\n",
    "            dmax = dmax.reshape(dout.shape + (pool_size,)) \n",
    "\n",
    "            dcol = dmax.reshape(dmax.shape[0] * dmax.shape[1] * dmax.shape[2], -1)\n",
    "            dx = col2im(dcol, self.x.shape, self.pool_h, self.pool_w, self.stride, self.pad)\n",
    "\n",
    "            return dx\n",
    "\n",
    "            \n",
    "    \n",
    "        \n"
   ]
  },
  {
   "cell_type": "code",
   "execution_count": 432,
   "metadata": {
    "collapsed": false
   },
   "outputs": [
    {
     "data": {
      "text/plain": [
       "array([1, 2, 3, 4, 5])"
      ]
     },
     "execution_count": 432,
     "metadata": {},
     "output_type": "execute_result"
    }
   ],
   "source": [
    "x[mask]"
   ]
  },
  {
   "cell_type": "code",
   "execution_count": 433,
   "metadata": {
    "collapsed": false
   },
   "outputs": [
    {
     "data": {
      "text/plain": [
       "array([[1, 2, 3],\n",
       "       [4, 5, 0]])"
      ]
     },
     "execution_count": 433,
     "metadata": {},
     "output_type": "execute_result"
    }
   ],
   "source": [
    "x * mask"
   ]
  },
  {
   "cell_type": "code",
   "execution_count": 465,
   "metadata": {
    "collapsed": false
   },
   "outputs": [
    {
     "data": {
      "text/plain": [
       "array([[-0.14174202, -0.62967909,  0.68546723],\n",
       "       [-0.9574383 , -1.86532133, -0.15938614]])"
      ]
     },
     "execution_count": 465,
     "metadata": {},
     "output_type": "execute_result"
    }
   ],
   "source": [
    "np.random.randn(2,3)"
   ]
  },
  {
   "cell_type": "code",
   "execution_count": 476,
   "metadata": {
    "collapsed": false
   },
   "outputs": [
    {
     "data": {
      "text/plain": [
       "148"
      ]
     },
     "execution_count": 476,
     "metadata": {},
     "output_type": "execute_result"
    }
   ],
   "source": [
    "np.sum(np.random.rand(100,3) > 0.5)"
   ]
  },
  {
   "cell_type": "code",
   "execution_count": null,
   "metadata": {
    "collapsed": true
   },
   "outputs": [],
   "source": []
  },
  {
   "cell_type": "code",
   "execution_count": null,
   "metadata": {
    "collapsed": true
   },
   "outputs": [],
   "source": []
  },
  {
   "cell_type": "code",
   "execution_count": null,
   "metadata": {
    "collapsed": true
   },
   "outputs": [],
   "source": []
  },
  {
   "cell_type": "code",
   "execution_count": null,
   "metadata": {
    "collapsed": true
   },
   "outputs": [],
   "source": []
  },
  {
   "cell_type": "code",
   "execution_count": null,
   "metadata": {
    "collapsed": true
   },
   "outputs": [],
   "source": []
  },
  {
   "cell_type": "code",
   "execution_count": null,
   "metadata": {
    "collapsed": true
   },
   "outputs": [],
   "source": []
  }
 ],
 "metadata": {
  "kernelspec": {
   "display_name": "Python 3",
   "language": "python",
   "name": "python3"
  },
  "language_info": {
   "codemirror_mode": {
    "name": "ipython",
    "version": 3
   },
   "file_extension": ".py",
   "mimetype": "text/x-python",
   "name": "python",
   "nbconvert_exporter": "python",
   "pygments_lexer": "ipython3",
   "version": "3.4.3"
  }
 },
 "nbformat": 4,
 "nbformat_minor": 1
}
