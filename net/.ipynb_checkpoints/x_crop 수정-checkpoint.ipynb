{
 "cells": [
  {
   "cell_type": "code",
   "execution_count": 1,
   "metadata": {
    "collapsed": false
   },
   "outputs": [
    {
     "ename": "NameError",
     "evalue": "name 'x_crop' is not defined",
     "output_type": "error",
     "traceback": [
      "\u001b[0;31m---------------------------------------------------------------------------\u001b[0m",
      "\u001b[0;31mNameError\u001b[0m                                 Traceback (most recent call last)",
      "\u001b[0;32m<ipython-input-1-9ad7d2f23784>\u001b[0m in \u001b[0;36m<module>\u001b[0;34m()\u001b[0m\n\u001b[0;32m----> 1\u001b[0;31m \u001b[0mx_crop\u001b[0m\u001b[0;34m\u001b[0m\u001b[0m\n\u001b[0m",
      "\u001b[0;31mNameError\u001b[0m: name 'x_crop' is not defined"
     ]
    }
   ],
   "source": [
    "x_crop"
   ]
  },
  {
   "cell_type": "code",
   "execution_count": null,
   "metadata": {
    "collapsed": true
   },
   "outputs": [],
   "source": [
    "# 한 줄의 글을 글자별로 x 축으로 자를 때 같은 너비로 자르고 싶다는 필요."
   ]
  },
  {
   "cell_type": "code",
   "execution_count": null,
   "metadata": {
    "collapsed": true
   },
   "outputs": [],
   "source": [
    "# 한 줄의 글에서 제일 너비가 큰 글자를 기준으로 좌우 여백을 흰 공백으로 맞춰준다."
   ]
  },
  {
   "cell_type": "code",
   "execution_count": 2,
   "metadata": {
    "collapsed": true
   },
   "outputs": [],
   "source": [
    "def x_cordinate(url=None, img=None):\n",
    "    wordst = []\n",
    "    wordnd = []\n",
    "    max_width =\n",
    "    if url:\n",
    "        arr = image_into_array(url)\n",
    "        height, width = arr.shape\n",
    "        for w in range(width-1):\n",
    "            if 1 not in arr[:,[w]] and 1 in arr[:,[w+1]]:\n",
    "                wordst.append(w - 1)\n",
    "            if 1 in arr[:,[w]] and 1 not in arr[:,[w+1]]:\n",
    "                wordnd.append(w + 2)\n",
    "        return wordst, wordnd\n",
    "    elif img:\n",
    "        arr = image_into_array_byimg(img)\n",
    "        width, height = img.size\n",
    "        for w in range(width-1):\n",
    "            if 1 not in arr[:,[w]] and 1 in arr[:,[w+1]]:\n",
    "                wordst.append(w - 1)\n",
    "            if 1 in arr[:,[w]] and 1 not in arr[:,[w+1]]:\n",
    "                wordnd.append(w + 2)\n",
    "    return wordst, wordnd"
   ]
  },
  {
   "cell_type": "code",
   "execution_count": null,
   "metadata": {
    "collapsed": true
   },
   "outputs": [],
   "source": []
  },
  {
   "cell_type": "code",
   "execution_count": null,
   "metadata": {
    "collapsed": true
   },
   "outputs": [],
   "source": []
  },
  {
   "cell_type": "code",
   "execution_count": null,
   "metadata": {
    "collapsed": true
   },
   "outputs": [],
   "source": []
  },
  {
   "cell_type": "code",
   "execution_count": null,
   "metadata": {
    "collapsed": true
   },
   "outputs": [],
   "source": []
  }
 ],
 "metadata": {
  "kernelspec": {
   "display_name": "Python 3",
   "language": "python",
   "name": "python3"
  },
  "language_info": {
   "codemirror_mode": {
    "name": "ipython",
    "version": 3
   },
   "file_extension": ".py",
   "mimetype": "text/x-python",
   "name": "python",
   "nbconvert_exporter": "python",
   "pygments_lexer": "ipython3",
   "version": "3.4.3"
  }
 },
 "nbformat": 4,
 "nbformat_minor": 1
}
