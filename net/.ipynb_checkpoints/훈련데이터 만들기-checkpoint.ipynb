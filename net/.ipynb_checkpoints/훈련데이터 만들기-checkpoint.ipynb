{
 "cells": [
  {
   "cell_type": "code",
   "execution_count": 1,
   "metadata": {
    "collapsed": false
   },
   "outputs": [],
   "source": [
    "import os, sys\n",
    "import numpy as np\n",
    "sys.path.append(os.pardir)\n",
    "sys.path.append(\"/Users/yunsu/mysite-projects/selenium\")\n",
    "from python_ocr import *\n",
    "from PIL import Image"
   ]
  },
  {
   "cell_type": "code",
   "execution_count": 2,
   "metadata": {
    "collapsed": true
   },
   "outputs": [],
   "source": [
    "# 훈련데이터 만드는 순서.\n",
    "# 1. 텍스트를 칠 수 있는 프로그램을 열어, 200pt로 스크린샷을 찍습니다.\n",
    "# 2. "
   ]
  },
  {
   "cell_type": "code",
   "execution_count": 29,
   "metadata": {
    "collapsed": true
   },
   "outputs": [],
   "source": [
    "path1 = \"/Users/yunsu/Desktop/python_ocr/raw/zero/\"\n",
    "path2 = \"/Users/yunsu/Desktop/python_ocr/raw/upper_O/\"\n",
    "path3 = \"/Users/yunsu/Desktop/python_ocr/raw/lower_o/\"\n",
    "save_dir1 = \"/Users/yunsu/Desktop/python_ocr/processed/zero/\"\n",
    "save_dir2 = \"/Users/yunsu/Desktop/python_ocr/processed/upper_O/\"\n",
    "save_dir3 = \"/Users/yunsu/Desktop/python_ocr/processed/lower_o/\""
   ]
  },
  {
   "cell_type": "code",
   "execution_count": 26,
   "metadata": {
    "collapsed": false
   },
   "outputs": [],
   "source": [
    "files = os.listdir(path2)"
   ]
  },
  {
   "cell_type": "code",
   "execution_count": 27,
   "metadata": {
    "collapsed": false
   },
   "outputs": [],
   "source": [
    "#앞으로 모든 훈련데이터는 이렇게 만들것이다.\n",
    "#문제점 : make_min_matrix를 적용해 데이터를 만들면 대문자 O와 소문자 o모두 크기가 같아지게 된다.\n",
    "# 지금까지 입력 데이터도, 훈련데이터도 make_min_matrix를 적용했기때문에 문제가 생각보다 크다.\n",
    "# \n",
    "def make_train_data(dirname, save_dir):\n",
    "    files = os.listdir(dirname)\n",
    "    data_num = len(files)\n",
    "    data_size = (128, 128)\n",
    "    thum_size = (108, 108)\n",
    "    for i, filename in enumerate(files):\n",
    "        img = Image.open(dirname + filename)\n",
    "        img = img.convert(\"L\")\n",
    "        arr = np.array(img)\n",
    "        arr = make_min_matrix(arr)\n",
    "        img = Image.fromarray(arr)\n",
    "        img.thumbnail(thum_size)\n",
    "        arr = np.array(img)\n",
    "        arr = make_matrix(arr, size=data_size)\n",
    "        img = Image.fromarray(arr)\n",
    "        img.save(save_dir + str(i + 1)+\".png\")\n",
    "    print(str(data_size) + \" 크기의 훈련 데이터\" + str(data_num) + \" 개가 저장되었습니다.\")\n",
    "    return None"
   ]
  },
  {
   "cell_type": "code",
   "execution_count": 31,
   "metadata": {
    "collapsed": false
   },
   "outputs": [
    {
     "name": "stdout",
     "output_type": "stream",
     "text": [
      "(128, 128) 크기의 훈련 데이터49 개가 저장되었습니다.\n"
     ]
    }
   ],
   "source": [
    "make_train_data(path3, save_dir3 )"
   ]
  },
  {
   "cell_type": "code",
   "execution_count": 34,
   "metadata": {
    "collapsed": false
   },
   "outputs": [
    {
     "data": {
      "text/plain": [
       "(128, 128, 128, 128, 128, 128)"
      ]
     },
     "execution_count": 34,
     "metadata": {},
     "output_type": "execute_result"
    }
   ],
   "source": [
    "(128, 128) * 3"
   ]
  },
  {
   "cell_type": "code",
   "execution_count": 35,
   "metadata": {
    "collapsed": false
   },
   "outputs": [
    {
     "data": {
      "text/plain": [
       "102.4"
      ]
     },
     "execution_count": 35,
     "metadata": {},
     "output_type": "execute_result"
    }
   ],
   "source": [
    "128 * 0.8"
   ]
  },
  {
   "cell_type": "code",
   "execution_count": null,
   "metadata": {
    "collapsed": true
   },
   "outputs": [],
   "source": []
  }
 ],
 "metadata": {
  "kernelspec": {
   "display_name": "Python 3",
   "language": "python",
   "name": "python3"
  },
  "language_info": {
   "codemirror_mode": {
    "name": "ipython",
    "version": 3
   },
   "file_extension": ".py",
   "mimetype": "text/x-python",
   "name": "python",
   "nbconvert_exporter": "python",
   "pygments_lexer": "ipython3",
   "version": "3.4.3"
  }
 },
 "nbformat": 4,
 "nbformat_minor": 1
}
