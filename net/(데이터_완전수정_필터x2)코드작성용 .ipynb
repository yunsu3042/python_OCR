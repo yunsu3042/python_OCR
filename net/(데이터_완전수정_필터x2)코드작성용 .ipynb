{
 "cells": [
  {
   "cell_type": "code",
   "execution_count": null,
   "metadata": {
    "collapsed": false
   },
   "outputs": [
    {
     "name": "stdout",
     "output_type": "stream",
     "text": [
      "loadind data pickles\n",
      "done\n",
      "[   9  576  576 1152 1152 2304 4096  100]\n",
      "0\n",
      "train loss:2.68973400862\n",
      "1th epoch end: Saved Network Parameters!\n",
      "=== epoch:1, train acc:0.083, test acc:0.079 ===\n",
      "1\n",
      "train loss:2.98608126747\n"
     ]
    }
   ],
   "source": [
    "# coding: utf-8\n",
    "# 숫자 + 대문자 (C, S, Z 제외) + 소문자\n",
    "import sys, os\n",
    "sys.path.append(os.pardir)  #| 부모 디렉터리의 파일을 가져올 수 있도록 설정\n",
    "import numpy as np\n",
    "import matplotlib.pyplot as plt\n",
    "from dataset.ocrdata2 import load_dataset\n",
    "from dataset.mnist import load_mnist\n",
    "from net.deep_convnet3 import DeepConvNet\n",
    "from common.trainer import Trainer\n",
    "import pickle\n",
    "(x_train, t_train), (x_test, t_test) = load_dataset()\n",
    "save_path = '/Users/yunsu/Desktop/book_reading/study_by_self/load/ocrparams/revised_data/E_D_all_FNx2.pk1'\n",
    "file_path = None\n",
    "network = DeepConvNet(output_size=62, file_path=file_path)  \n",
    "trainer = Trainer(network, x_train, t_train, x_test, t_test,\n",
    "                  epochs=15, mini_batch_size=100,\n",
    "                  optimizer='Adam', optimizer_param={'lr':0.001},\n",
    "                  evaluate_sample_num_per_epoch=1000)\n",
    "trainer.train(save_path=save_path)\n",
    "\n"
   ]
  },
  {
   "cell_type": "code",
   "execution_count": 2,
   "metadata": {
    "collapsed": false
   },
   "outputs": [
    {
     "name": "stdout",
     "output_type": "stream",
     "text": [
      "loadind data pickles\n",
      "done\n"
     ]
    }
   ],
   "source": [
    "# coding: utf-8\n",
    "# 숫자 + 대문자 (C, S, Z 제외) + 소문자\n",
    "import sys, os\n",
    "sys.path.append(os.pardir)  #| 부모 디렉터리의 파일을 가져올 수 있도록 설정\n",
    "import numpy as np\n",
    "import matplotlib.pyplot as plt\n",
    "from dataset.ocrdata2 import load_dataset\n",
    "from dataset.mnist import load_mnist\n",
    "from net.deep_convnet3 import DeepConvNet\n",
    "from common.trainer import Trainer\n",
    "import pickle\n",
    "(x_train, t_train), (x_test, t_test) = load_dataset()"
   ]
  },
  {
   "cell_type": "code",
   "execution_count": 4,
   "metadata": {
    "collapsed": false
   },
   "outputs": [
    {
     "data": {
      "text/plain": [
       "(47755, 1, 28, 28)"
      ]
     },
     "execution_count": 4,
     "metadata": {},
     "output_type": "execute_result"
    }
   ],
   "source": [
    "x_train.shape"
   ]
  },
  {
   "cell_type": "code",
   "execution_count": 5,
   "metadata": {
    "collapsed": true
   },
   "outputs": [],
   "source": []
  },
  {
   "cell_type": "code",
   "execution_count": 6,
   "metadata": {
    "collapsed": false
   },
   "outputs": [
    {
     "data": {
      "text/plain": [
       "array([[255, 255, 255, 255, 255, 255, 255, 255, 255, 255, 255, 255, 255,\n",
       "        255, 255, 255, 255, 255, 255, 255, 255, 255, 255, 255, 255, 255,\n",
       "        255, 255],\n",
       "       [255, 255, 255, 255, 255, 255, 255, 255, 255, 255, 255, 255, 255,\n",
       "        255, 255, 255, 255, 255, 255, 255, 255, 255, 255, 255, 255, 255,\n",
       "        255, 255],\n",
       "       [255, 255, 255, 255, 255, 255, 255, 255, 255, 255, 255, 255, 255,\n",
       "        255, 255, 255, 255, 255, 255, 255, 255, 255, 255, 255, 255, 255,\n",
       "        255, 255],\n",
       "       [255, 255, 255, 255, 255, 255, 255, 255, 255, 255, 210, 145,  96,\n",
       "         73,  73,  90, 140, 202, 254, 255, 255, 255, 255, 255, 255, 255,\n",
       "        255, 255],\n",
       "       [255, 255, 255, 255, 255, 255, 255, 255, 204,  77,   7,   0,   0,\n",
       "          0,   0,   0,   0,   3,  66, 193, 255, 255, 255, 255, 255, 255,\n",
       "        255, 255],\n",
       "       [255, 255, 255, 255, 255, 255, 255, 153,  12,   0,   0,   0,   0,\n",
       "          4,   5,   0,   0,   0,   0,   7, 141, 255, 255, 255, 255, 255,\n",
       "        255, 255],\n",
       "       [255, 255, 255, 255, 255, 255, 160,   2,   0,   0,   0,  77, 165,\n",
       "        212, 214, 173,  88,   3,   0,   0,   0, 144, 255, 255, 255, 255,\n",
       "        255, 255],\n",
       "       [255, 255, 255, 255, 255, 218,  18,   0,   0,  10, 158, 255, 255,\n",
       "        255, 255, 255, 255, 171,  15,   0,   0,   9, 203, 255, 255, 255,\n",
       "        255, 255],\n",
       "       [255, 255, 255, 255, 255, 103,   0,   0,   0, 148, 255, 255, 255,\n",
       "        255, 255, 255, 255, 255, 166,   3,   0,   0,  78, 255, 255, 255,\n",
       "        255, 255],\n",
       "       [255, 255, 255, 255, 234,  23,   0,   0,  52, 250, 255, 255, 255,\n",
       "        255, 255, 255, 255, 255, 255,  72,   0,   0,  10, 216, 255, 255,\n",
       "        255, 255],\n",
       "       [255, 255, 255, 255, 184,   0,   0,   0, 138, 255, 255, 255, 255,\n",
       "        255, 255, 255, 255, 255, 255, 164,   0,   0,   0, 155, 255, 255,\n",
       "        255, 255],\n",
       "       [255, 255, 255, 255, 138,   0,   0,   1, 196, 255, 255, 255, 255,\n",
       "        255, 255, 255, 255, 255, 255, 217,  10,   0,   0, 109, 255, 255,\n",
       "        255, 255],\n",
       "       [255, 255, 255, 255, 115,   0,   0,  12, 222, 255, 255, 255, 255,\n",
       "        255, 255, 255, 255, 255, 255, 239,  28,   0,   0,  81, 255, 255,\n",
       "        255, 255],\n",
       "       [255, 255, 255, 255,  95,   0,   0,  21, 233, 255, 255, 255, 255,\n",
       "        255, 255, 255, 255, 255, 255, 243,  34,   0,   0,  72, 255, 255,\n",
       "        255, 255],\n",
       "       [255, 255, 255, 255,  95,   0,   0,  21, 233, 255, 255, 255, 255,\n",
       "        255, 255, 255, 255, 255, 255, 242,  33,   0,   0,  75, 255, 255,\n",
       "        255, 255],\n",
       "       [255, 255, 255, 255, 116,   0,   0,  12, 222, 255, 255, 255, 255,\n",
       "        255, 255, 255, 255, 255, 255, 237,  26,   0,   0,  86, 255, 255,\n",
       "        255, 255],\n",
       "       [255, 255, 255, 255, 139,   0,   0,   1, 195, 255, 255, 255, 255,\n",
       "        255, 255, 255, 255, 255, 255, 211,   6,   0,   0, 117, 255, 255,\n",
       "        255, 255],\n",
       "       [255, 255, 255, 255, 185,   0,   0,   0, 138, 255, 255, 255, 255,\n",
       "        255, 255, 255, 255, 255, 255, 161,   0,   0,   0, 156, 255, 255,\n",
       "        255, 255],\n",
       "       [255, 255, 255, 255, 235,  25,   0,   0,  52, 249, 255, 255, 255,\n",
       "        255, 255, 255, 255, 255, 255,  71,   0,   0,   9, 214, 255, 255,\n",
       "        255, 255],\n",
       "       [255, 255, 255, 255, 255, 103,   0,   0,   0, 142, 255, 255, 255,\n",
       "        255, 255, 255, 255, 255, 167,   3,   0,   0,  72, 253, 255, 255,\n",
       "        255, 255],\n",
       "       [255, 255, 255, 255, 255, 218,  18,   0,   0,   8, 153, 255, 255,\n",
       "        255, 255, 255, 255, 172,  16,   0,   0,   6, 194, 255, 255, 255,\n",
       "        255, 255],\n",
       "       [255, 255, 255, 255, 255, 255, 160,   2,   0,   0,   0,  77, 165,\n",
       "        212, 214, 175,  89,   3,   0,   0,   0, 134, 255, 255, 255, 255,\n",
       "        255, 255],\n",
       "       [255, 255, 255, 255, 255, 255, 255, 153,  10,   0,   0,   0,   0,\n",
       "          4,   5,   0,   0,   0,   0,   7, 134, 254, 255, 255, 255, 255,\n",
       "        255, 255],\n",
       "       [255, 255, 255, 255, 255, 255, 255, 255, 197,  73,   5,   0,   0,\n",
       "          0,   0,   0,   0,   6,  74, 194, 255, 255, 255, 255, 255, 255,\n",
       "        255, 255],\n",
       "       [255, 255, 255, 255, 255, 255, 255, 255, 255, 255, 207, 143,  94,\n",
       "         73,  73,  93, 143, 208, 255, 255, 255, 255, 255, 255, 255, 255,\n",
       "        255, 255],\n",
       "       [255, 255, 255, 255, 255, 255, 255, 255, 255, 255, 255, 255, 255,\n",
       "        255, 255, 255, 255, 255, 255, 255, 255, 255, 255, 255, 255, 255,\n",
       "        255, 255],\n",
       "       [255, 255, 255, 255, 255, 255, 255, 255, 255, 255, 255, 255, 255,\n",
       "        255, 255, 255, 255, 255, 255, 255, 255, 255, 255, 255, 255, 255,\n",
       "        255, 255],\n",
       "       [255, 255, 255, 255, 255, 255, 255, 255, 255, 255, 255, 255, 255,\n",
       "        255, 255, 255, 255, 255, 255, 255, 255, 255, 255, 255, 255, 255,\n",
       "        255, 255]], dtype=uint8)"
      ]
     },
     "execution_count": 6,
     "metadata": {},
     "output_type": "execute_result"
    }
   ],
   "source": [
    "x.reshape(28,28)"
   ]
  },
  {
   "cell_type": "code",
   "execution_count": null,
   "metadata": {
    "collapsed": true
   },
   "outputs": [],
   "source": []
  }
 ],
 "metadata": {
  "kernelspec": {
   "display_name": "Python 3",
   "language": "python",
   "name": "python3"
  },
  "language_info": {
   "codemirror_mode": {
    "name": "ipython",
    "version": 3
   },
   "file_extension": ".py",
   "mimetype": "text/x-python",
   "name": "python",
   "nbconvert_exporter": "python",
   "pygments_lexer": "ipython3",
   "version": "3.4.3"
  }
 },
 "nbformat": 4,
 "nbformat_minor": 1
}
